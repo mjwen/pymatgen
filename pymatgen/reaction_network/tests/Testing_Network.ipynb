{
 "cells": [
  {
   "cell_type": "code",
   "execution_count": 1,
   "metadata": {},
   "outputs": [],
   "source": [
    "import os\n",
    "import unittest\n",
    "import time\n",
    "import copy\n",
    "from pymatgen.core.structure import Molecule\n",
    "from pymatgen.analysis.graphs import MoleculeGraph\n",
    "from pymatgen.analysis.local_env import OpenBabelNN\n",
    "from pymatgen.util.testing import PymatgenTest\n",
    "from pymatgen.analysis.reaction_network.reaction_network import ReactionNetwork\n",
    "from pymatgen.analysis.fragmenter import Fragmenter, metal_edge_extender\n",
    "from pymatgen.entries.mol_entry import MoleculeEntry\n",
    "from monty.serialization import loadfn,dumpfn\n",
    "import openbabel as ob\n",
    "import networkx as nx"
   ]
  },
  {
   "cell_type": "code",
   "execution_count": 2,
   "metadata": {},
   "outputs": [],
   "source": [
    "from crystal_toolkit.helpers.pythreejs_renderer import view_old"
   ]
  },
  {
   "cell_type": "code",
   "execution_count": 3,
   "metadata": {},
   "outputs": [],
   "source": [
    "# prod_entries = []\n",
    "# entries = loadfn(\"/Users/samuelblau/Desktop/smd_production_entries.json\")\n",
    "# for entry in entries:\n",
    "#     if \"optimized_molecule\" in entry[\"output\"]:\n",
    "#         mol = entry[\"output\"][\"optimized_molecule\"]\n",
    "#     else:\n",
    "#         mol = entry[\"output\"][\"initial_molecule\"]\n",
    "#     H = float(entry[\"output\"][\"enthalpy\"])\n",
    "#     S = float(entry[\"output\"][\"entropy\"])\n",
    "#     E = float(entry[\"output\"][\"final_energy\"])\n",
    "#     mol_entry = MoleculeEntry(molecule=mol,energy=E,enthalpy=H,entropy=S,entry_id=entry[\"task_id\"])\n",
    "#     prod_entries.append(mol_entry)"
   ]
  },
  {
   "cell_type": "code",
   "execution_count": 5,
   "metadata": {},
   "outputs": [
    {
     "name": "stdout",
     "output_type": "stream",
     "text": [
      "8516 input entries\n",
      "7161 connected entries\n",
      "5927 unique entries\n",
      "Missing H3O+, will not add concerted water splitting rxn1\n",
      "Adding concerted water splitting rxn2: 2H2O + 2e- -> H2 + 2OH-\n",
      "Water rxn2 free energy = 0.9484209174741407\n"
     ]
    }
   ],
   "source": [
    "# RN = ReactionNetwork(prod_entries)\n",
    "RN = loadfn(\"prod_RN.json\")\n",
    "# dumpfn(RN,\"prod_RN.json\")"
   ]
  },
  {
   "cell_type": "code",
   "execution_count": 7,
   "metadata": {},
   "outputs": [
    {
     "name": "stdout",
     "output_type": "stream",
     "text": [
      "EC_ind 2815\n",
      "FEC_ind 1631\n",
      "LEDC_ind 4147\n",
      "LEMC_ind 2870\n",
      "Li1_ind 5901\n",
      "H2O_ind 5897\n"
     ]
    }
   ],
   "source": [
    "EC_mg =  MoleculeGraph.with_local_env_strategy(\n",
    "    Molecule.from_file(\"../../../../test_files/reaction_network_files/EC.xyz\"),\n",
    "    OpenBabelNN(),\n",
    "    reorder=False,\n",
    "    extend_structure=False)\n",
    "EC_mg = metal_edge_extender(EC_mg)\n",
    "\n",
    "FEC_mg =  MoleculeGraph.with_local_env_strategy(\n",
    "    Molecule.from_file(\"../../../../test_files/reaction_network_files/FEC.xyz\"),\n",
    "    OpenBabelNN(),\n",
    "    reorder=False,\n",
    "    extend_structure=False)\n",
    "FEC_mg = metal_edge_extender(FEC_mg)\n",
    "\n",
    "H2O_mg =  MoleculeGraph.with_local_env_strategy(\n",
    "    Molecule.from_file(\"../../../../test_files/reaction_network_files/H2O.xyz\"),\n",
    "    OpenBabelNN(),\n",
    "    reorder=False,\n",
    "    extend_structure=False)\n",
    "H2O_mg = metal_edge_extender(H2O_mg)\n",
    "\n",
    "LEMC_mg =  MoleculeGraph.with_local_env_strategy(\n",
    "    Molecule.from_file(\"../../../../test_files/reaction_network_files/LEMC.xyz\"),\n",
    "    OpenBabelNN(),\n",
    "    reorder=False,\n",
    "    extend_structure=False)\n",
    "LEMC_mg = metal_edge_extender(LEMC_mg)\n",
    "\n",
    "LEDC_mg =  MoleculeGraph.with_local_env_strategy(\n",
    "    Molecule.from_file(\"../../../../test_files/reaction_network_files/LEDC.xyz\"),\n",
    "    OpenBabelNN(),\n",
    "    reorder=False,\n",
    "    extend_structure=False)\n",
    "LEDC_mg = metal_edge_extender(LEDC_mg)\n",
    "\n",
    "EC_ind = None\n",
    "FEC_ind = None\n",
    "LEDC_ind = None\n",
    "LEMC_ind = None\n",
    "H2O_ind = None\n",
    "for entry in RN.entries[\"C3 H4 O3\"][10][0]:\n",
    "    if EC_mg.isomorphic_to(entry.mol_graph):\n",
    "        EC_ind = entry.parameters[\"ind\"]\n",
    "        break\n",
    "for entry in RN.entries[\"C3 F1 H3 O3\"][10][0]:\n",
    "    if FEC_mg.isomorphic_to(entry.mol_graph):\n",
    "        FEC_ind = entry.parameters[\"ind\"]\n",
    "        break\n",
    "for entry in RN.entries[\"C4 H4 Li2 O6\"][17][0]:\n",
    "    if LEDC_mg.isomorphic_to(entry.mol_graph):\n",
    "        LEDC_ind = entry.parameters[\"ind\"]\n",
    "        break\n",
    "for entry in RN.entries[\"C3 H5 Li1 O4\"][13][0]:\n",
    "    if LEMC_mg.isomorphic_to(entry.mol_graph):\n",
    "        LEMC_ind = entry.parameters[\"ind\"]\n",
    "        break\n",
    "for entry in RN.entries[\"H2 O1\"][2][0]:\n",
    "    if H2O_mg.isomorphic_to(entry.mol_graph):\n",
    "        H2O_ind = entry.parameters[\"ind\"]\n",
    "        break\n",
    "Li1_ind = RN.entries[\"Li1\"][0][1][0].parameters[\"ind\"]\n",
    "\n",
    "print(\"EC_ind\",EC_ind)\n",
    "print(\"FEC_ind\",FEC_ind)\n",
    "print(\"LEDC_ind\",LEDC_ind)\n",
    "print(\"LEMC_ind\",LEMC_ind)\n",
    "print(\"Li1_ind\",Li1_ind)\n",
    "print(\"H2O_ind\",H2O_ind)"
   ]
  },
  {
   "cell_type": "code",
   "execution_count": 8,
   "metadata": {},
   "outputs": [
    {
     "data": {
      "application/vnd.jupyter.widget-view+json": {
       "model_id": "5b2ecc309bf0424188c33a8b3ada2924",
       "version_major": 2,
       "version_minor": 0
      },
      "text/plain": [
       "Renderer(background='white', camera=OrthographicCamera(bottom=-4.741831367760001, left=-4.741831367760001, nea…"
      ]
     },
     "metadata": {},
     "output_type": "display_data"
    },
    {
     "name": "stdout",
     "output_type": "stream",
     "text": [
      "0\n"
     ]
    },
    {
     "data": {
      "text/plain": [
       "-12018.648253254347"
      ]
     },
     "execution_count": 8,
     "metadata": {},
     "output_type": "execute_result"
    }
   ],
   "source": [
    "ind=1631\n",
    "view_old(RN.entries_list[ind].molecule,bonding_strategy=\"OpenBabelNN\")\n",
    "print(RN.entries_list[ind].charge)\n",
    "RN.entries_list[ind].free_energy"
   ]
  },
  {
   "cell_type": "code",
   "execution_count": 9,
   "metadata": {},
   "outputs": [
    {
     "name": "stdout",
     "output_type": "stream",
     "text": [
      "1631,1630\n",
      "rxn_type : One electron reduction\n",
      "bipartite : 1\n",
      "energy : -0.041393790765027916\n",
      "free_energy : 0.9063516963273286\n",
      "\n",
      "1631,1632\n",
      "rxn_type : One electron oxidation\n",
      "bipartite : 1\n",
      "energy : 0.3359276730519696\n",
      "free_energy : 6.800411779775095\n",
      "\n",
      "1631+PR_5899,1561\n",
      "rxn_type : Molecular formation from one new bond A+B -> C\n",
      "bipartite : 1\n",
      "energy : -0.0013195908420122748\n",
      "free_energy : 0.24703608665768684\n",
      "\n",
      "1631+PR_5900,1566\n",
      "rxn_type : Molecular formation from one new bond A+B -> C\n",
      "bipartite : 1\n",
      "energy : -0.017374984524039405\n",
      "free_energy : -0.1735480704583665\n",
      "\n",
      "1631+PR_5901,1568\n",
      "rxn_type : Molecular formation from one new bond A+B -> C\n",
      "bipartite : 1\n",
      "energy : -0.03201866546403043\n",
      "free_energy : -0.5487826012532651\n",
      "\n",
      "1631,1514+5882\n",
      "rxn_type : Molecular decomposition breaking one bond A -> B+C\n",
      "bipartite : 1\n",
      "energy : 0.2411844358719577\n",
      "free_energy : 5.941007637577059\n",
      "\n",
      "1631,1512+5883\n",
      "rxn_type : Molecular decomposition breaking one bond A -> B+C\n",
      "bipartite : 1\n",
      "energy : 0.17085020192200773\n",
      "free_energy : 3.980567648448414\n",
      "\n",
      "1631,1509+5884\n",
      "rxn_type : Molecular decomposition breaking one bond A -> B+C\n",
      "bipartite : 1\n",
      "energy : 0.3379351575019882\n",
      "free_energy : 8.830829368202103\n",
      "\n",
      "1631,1616+5920\n",
      "rxn_type : Molecular decomposition breaking one bond A -> B+C\n",
      "bipartite : 1\n",
      "energy : 0.7439316508079514\n",
      "free_energy : 19.642991138840443\n",
      "\n",
      "1631,1617+5919\n",
      "rxn_type : Molecular decomposition breaking one bond A -> B+C\n",
      "bipartite : 1\n",
      "energy : 0.35090737010898465\n",
      "free_energy : 9.03658283947334\n",
      "\n",
      "1631,1618+5918\n",
      "rxn_type : Molecular decomposition breaking one bond A -> B+C\n",
      "bipartite : 1\n",
      "energy : 0.3541307975489758\n",
      "free_energy : 9.121184452495072\n",
      "\n",
      "1631,1508+5884\n",
      "rxn_type : Molecular decomposition breaking one bond A -> B+C\n",
      "bipartite : 1\n",
      "energy : 0.3385543943350058\n",
      "free_energy : 8.844884326552346\n",
      "\n",
      "1631,1511+5883\n",
      "rxn_type : Molecular decomposition breaking one bond A -> B+C\n",
      "bipartite : 1\n",
      "energy : 0.1769242579659931\n",
      "free_energy : 4.169142968463348\n",
      "\n",
      "1631,1513+5882\n",
      "rxn_type : Molecular decomposition breaking one bond A -> B+C\n",
      "bipartite : 1\n",
      "energy : 0.22167666701392363\n",
      "free_energy : 5.4313460458797636\n",
      "\n",
      "1631,2582+5822\n",
      "rxn_type : Molecular decomposition breaking one bond A -> B+C\n",
      "bipartite : 1\n",
      "energy : 0.7111836947579491\n",
      "free_energy : 18.820351633205064\n",
      "\n",
      "1631,2583+5821\n",
      "rxn_type : Molecular decomposition breaking one bond A -> B+C\n",
      "bipartite : 1\n",
      "energy : 0.19320081120395116\n",
      "free_energy : 4.73234209950715\n",
      "\n",
      "1631,2584+5820\n",
      "rxn_type : Molecular decomposition breaking one bond A -> B+C\n",
      "bipartite : 1\n",
      "energy : 0.12252399322994734\n",
      "free_energy : 2.857459532955545\n",
      "\n",
      "1631+PR_5900,1571\n",
      "rxn_type : Coordination bond forming A+M -> AM\n",
      "bipartite : 1\n",
      "energy : -0.028260393859042665\n",
      "free_energy : -0.4866861816581718\n",
      "\n"
     ]
    }
   ],
   "source": [
    "for neighbor in list(RN.graph.neighbors(1631)):\n",
    "    print(neighbor)\n",
    "    for key in RN.graph.node[neighbor]:\n",
    "        print(key,\":\",RN.graph.node[neighbor][key])\n",
    "    print()"
   ]
  },
  {
   "cell_type": "code",
   "execution_count": 24,
   "metadata": {},
   "outputs": [
    {
     "data": {
      "application/vnd.jupyter.widget-view+json": {
       "model_id": "71aae023baef42459e895121a4247cf9",
       "version_major": 2,
       "version_minor": 0
      },
      "text/plain": [
       "Renderer(background='white', camera=OrthographicCamera(bottom=-6.83031684216, left=-6.83031684216, near=-2000.…"
      ]
     },
     "metadata": {},
     "output_type": "display_data"
    },
    {
     "name": "stdout",
     "output_type": "stream",
     "text": [
      "1\n"
     ]
    },
    {
     "data": {
      "text/plain": [
       "-12220.688743195993"
      ]
     },
     "execution_count": 24,
     "metadata": {},
     "output_type": "execute_result"
    }
   ],
   "source": [
    "ind=1568\n",
    "view_old(RN.entries_list[ind].molecule,bonding_strategy=\"OpenBabelNN\")\n",
    "print(RN.entries_list[ind].charge)\n",
    "RN.entries_list[ind].free_energy"
   ]
  },
  {
   "cell_type": "code",
   "execution_count": 11,
   "metadata": {},
   "outputs": [
    {
     "data": {
      "application/vnd.jupyter.widget-view+json": {
       "model_id": "1671020cb4fc4195aa7aa5d830dcd89d",
       "version_major": 2,
       "version_minor": 0
      },
      "text/plain": [
       "Renderer(background='white', camera=OrthographicCamera(bottom=-4.777487102639999, left=-4.777487102639999, nea…"
      ]
     },
     "metadata": {},
     "output_type": "display_data"
    },
    {
     "name": "stdout",
     "output_type": "stream",
     "text": [
      "0\n"
     ]
    },
    {
     "data": {
      "text/plain": [
       "-12223.018963532839"
      ]
     },
     "execution_count": 11,
     "metadata": {},
     "output_type": "execute_result"
    }
   ],
   "source": [
    "ind=1571\n",
    "view_old(RN.entries_list[ind].molecule,bonding_strategy=\"OpenBabelNN\")\n",
    "print(RN.entries_list[ind].charge)\n",
    "RN.entries_list[ind].free_energy"
   ]
  },
  {
   "cell_type": "code",
   "execution_count": 12,
   "metadata": {},
   "outputs": [],
   "source": [
    "def red_pot(pos_ind,neut_ind):\n",
    "    return RN.entries_list[pos_ind].free_energy-RN.entries_list[neut_ind].free_energy-1.4"
   ]
  },
  {
   "cell_type": "code",
   "execution_count": 13,
   "metadata": {},
   "outputs": [
    {
     "name": "stdout",
     "output_type": "stream",
     "text": [
      "0.9302203368457413\n"
     ]
    }
   ],
   "source": [
    "print(red_pot(1568,1571))"
   ]
  },
  {
   "cell_type": "code",
   "execution_count": 14,
   "metadata": {},
   "outputs": [
    {
     "name": "stdout",
     "output_type": "stream",
     "text": [
      "1568,1566\n",
      "rxn_type : One electron reduction\n",
      "bipartite : 1\n",
      "energy : -0.07327232616000856\n",
      "free_energy : 0.13291777435406393\n",
      "\n",
      "1568,1617+5904\n",
      "rxn_type : Molecular decomposition breaking one bond A -> B+C\n",
      "bipartite : 1\n",
      "energy : 0.37413205707696306\n",
      "free_energy : 9.559487822029041\n",
      "\n",
      "1568,1618+5903\n",
      "rxn_type : Molecular decomposition breaking one bond A -> B+C\n",
      "bipartite : 1\n",
      "energy : 0.2966416465224029\n",
      "free_energy : 7.488893666297372\n",
      "\n",
      "1568,1397+5884\n",
      "rxn_type : Molecular decomposition breaking one bond A -> B+C\n",
      "bipartite : 1\n",
      "energy : 0.3221836828650453\n",
      "free_energy : 8.391487034316015\n",
      "\n",
      "1568,1404+5883\n",
      "rxn_type : Molecular decomposition breaking one bond A -> B+C\n",
      "bipartite : 1\n",
      "energy : 0.17471867073703606\n",
      "free_energy : 4.080645634237953\n",
      "\n",
      "1568,1631+5901\n",
      "rxn_type : Molecular decomposition breaking one bond A -> B+C\n",
      "bipartite : 1\n",
      "energy : 0.03201866546402243\n",
      "free_energy : 0.5487826012540609\n",
      "\n",
      "1568,1632+5900\n",
      "rxn_type : Molecular decomposition breaking one bond A -> B+C\n",
      "bipartite : 1\n",
      "energy : 0.28003033141601463\n",
      "free_energy : 7.106877624588378\n",
      "\n",
      "1568,1396+5884\n",
      "rxn_type : Molecular decomposition breaking one bond A -> B+C\n",
      "bipartite : 1\n",
      "energy : 0.32134700108400693\n",
      "free_energy : 8.354417499333067\n",
      "\n",
      "1568,1402+5883\n",
      "rxn_type : Molecular decomposition breaking one bond A -> B+C\n",
      "bipartite : 1\n",
      "energy : 0.17942214307004178\n",
      "free_energy : 4.229328563873423\n",
      "\n",
      "1568,2411+5821\n",
      "rxn_type : Molecular decomposition breaking one bond A -> B+C\n",
      "bipartite : 1\n",
      "energy : 0.1923476439999945\n",
      "free_energy : 4.687157980924894\n",
      "\n"
     ]
    }
   ],
   "source": [
    "for neighbor in list(RN.graph.neighbors(1568)):\n",
    "    print(neighbor)\n",
    "    for key in RN.graph.node[neighbor]:\n",
    "        print(key,\":\",RN.graph.node[neighbor][key])\n",
    "    print()"
   ]
  },
  {
   "cell_type": "code",
   "execution_count": 15,
   "metadata": {},
   "outputs": [
    {
     "name": "stdout",
     "output_type": "stream",
     "text": [
      "1566,1561\n",
      "rxn_type : One electron reduction\n",
      "bipartite : 1\n",
      "energy : -0.05335654801797318\n",
      "free_energy : 0.6817887408600654\n",
      "\n",
      "1566,1568\n",
      "rxn_type : One electron oxidation\n",
      "bipartite : 1\n",
      "energy : 0.07327232616000856\n",
      "free_energy : -0.13291777435406393\n",
      "\n",
      "1566,1551\n",
      "rxn_type : Intramolecular single bond breakage\n",
      "bipartite : 1\n",
      "energy : 0.07873140279701829\n",
      "free_energy : 1.9005103800955112\n",
      "\n",
      "1566,1553\n",
      "rxn_type : Intramolecular single bond breakage\n",
      "bipartite : 1\n",
      "energy : -0.022451995094968424\n",
      "free_energy : -0.7570817213854752\n",
      "\n",
      "1566,1571\n",
      "rxn_type : Intramolecular single bond formation\n",
      "bipartite : 1\n",
      "energy : -0.01088540933500326\n",
      "free_energy : -0.3131381111998053\n",
      "\n",
      "1566,1630+5901\n",
      "rxn_type : Molecular decomposition breaking one bond A -> B+C\n",
      "bipartite : 1\n",
      "energy : 0.06389720085900308\n",
      "free_energy : 1.3222165232273255\n",
      "\n",
      "1566,1631+5900\n",
      "rxn_type : Molecular decomposition breaking one bond A -> B+C\n",
      "bipartite : 1\n",
      "energy : 0.017374984524053616\n",
      "free_energy : 0.17354807045921916\n",
      "\n",
      "1566,1632+5899\n",
      "rxn_type : Molecular decomposition breaking one bond A -> B+C\n",
      "bipartite : 1\n",
      "energy : 0.283890715875998\n",
      "free_energy : 7.235164433977843\n",
      "\n",
      "1566,1616+5904\n",
      "rxn_type : Molecular decomposition breaking one bond A -> B+C\n",
      "bipartite : 1\n",
      "energy : 0.3910527630358729\n",
      "free_energy : 9.954835451049803\n",
      "\n",
      "1566,1617+5903\n",
      "rxn_type : Molecular decomposition breaking one bond A -> B+C\n",
      "bipartite : 1\n",
      "energy : 0.11264215184246495\n",
      "free_energy : 2.508364367240574\n",
      "\n",
      "1566,1618+5902\n",
      "rxn_type : Molecular decomposition breaking one bond A -> B+C\n",
      "bipartite : 1\n",
      "energy : 0.2736330071845714\n",
      "free_energy : 6.899679509519046\n",
      "\n",
      "1566,2411+5820\n",
      "rxn_type : Molecular decomposition breaking one bond A -> B+C\n",
      "bipartite : 1\n",
      "energy : 0.012052702160019635\n",
      "free_energy : -0.19567761421058094\n",
      "\n",
      "1566,1390+5884\n",
      "rxn_type : Molecular decomposition breaking one bond A -> B+C\n",
      "bipartite : 1\n",
      "energy : 0.3299851725830081\n",
      "free_energy : 8.613552849959888\n",
      "\n",
      "1566,1396+5883\n",
      "rxn_type : Molecular decomposition breaking one bond A -> B+C\n",
      "bipartite : 1\n",
      "energy : 0.0968914908440297\n",
      "free_energy : 1.9604433817348763\n",
      "\n",
      "1566,1402+5882\n",
      "rxn_type : Molecular decomposition breaking one bond A -> B+C\n",
      "bipartite : 1\n",
      "energy : 0.11007944602999942\n",
      "free_energy : 2.365657773365456\n",
      "\n",
      "1566,1389+5884\n",
      "rxn_type : Molecular decomposition breaking one bond A -> B+C\n",
      "bipartite : 1\n",
      "energy : 0.3314307950200259\n",
      "free_energy : 8.647271385993008\n",
      "\n",
      "1566,1397+5883\n",
      "rxn_type : Molecular decomposition breaking one bond A -> B+C\n",
      "bipartite : 1\n",
      "energy : 0.09772817262506805\n",
      "free_energy : 1.9975129167178238\n",
      "\n",
      "1566,1404+5882\n",
      "rxn_type : Molecular decomposition breaking one bond A -> B+C\n",
      "bipartite : 1\n",
      "energy : 0.1053759736969937\n",
      "free_energy : 2.216974843729986\n",
      "\n"
     ]
    }
   ],
   "source": [
    "for neighbor in list(RN.graph.neighbors(1566)):\n",
    "    print(neighbor)\n",
    "    for key in RN.graph.node[neighbor]:\n",
    "        print(key,\":\",RN.graph.node[neighbor][key])\n",
    "    print()"
   ]
  },
  {
   "cell_type": "code",
   "execution_count": 25,
   "metadata": {},
   "outputs": [
    {
     "data": {
      "application/vnd.jupyter.widget-view+json": {
       "model_id": "c0a104bb55c94f8f8dbfa9d7bce2e1a3",
       "version_major": 2,
       "version_minor": 0
      },
      "text/plain": [
       "Renderer(background='white', camera=OrthographicCamera(bottom=-6.179342544599999, left=-6.179342544599999, nea…"
      ]
     },
     "metadata": {},
     "output_type": "display_data"
    },
    {
     "name": "stdout",
     "output_type": "stream",
     "text": [
      "0\n"
     ]
    },
    {
     "data": {
      "text/plain": [
       "-12222.705825421639"
      ]
     },
     "execution_count": 25,
     "metadata": {},
     "output_type": "execute_result"
    }
   ],
   "source": [
    "ind=1566\n",
    "view_old(RN.entries_list[ind].molecule,bonding_strategy=\"OpenBabelNN\")\n",
    "print(RN.entries_list[ind].charge)\n",
    "RN.entries_list[ind].free_energy"
   ]
  },
  {
   "cell_type": "code",
   "execution_count": 41,
   "metadata": {},
   "outputs": [
    {
     "data": {
      "application/vnd.jupyter.widget-view+json": {
       "model_id": "fb5c6792b9004befa9797b69d1d1ca59",
       "version_major": 2,
       "version_minor": 0
      },
      "text/plain": [
       "Renderer(background='white', camera=OrthographicCamera(bottom=-4.777487102639999, left=-4.777487102639999, nea…"
      ]
     },
     "metadata": {},
     "output_type": "display_data"
    }
   ],
   "source": [
    "view_old(RN.entries[\"C3 F1 H3 Li1 O3\"][12][0][0].molecule,bonding_strategy=\"OpenBabelNN\")"
   ]
  },
  {
   "cell_type": "code",
   "execution_count": 42,
   "metadata": {},
   "outputs": [
    {
     "data": {
      "text/plain": [
       "MoleculeEntry 135896 - C3 F1 H3 Li1 O3 - E12 - C0\n",
       "Energy = -449.2236 Hartree\n",
       "Correction = 0.0000 Hartree\n",
       "Enthalpy = 47.3820 kcal/mol\n",
       "Entropy = 83.0950 cal/mol.K\n",
       "Free Energy = -12223.0190 eV\n",
       "Parameters:\n",
       "ind = 1571"
      ]
     },
     "execution_count": 42,
     "metadata": {},
     "output_type": "execute_result"
    }
   ],
   "source": [
    "RN.entries[\"C3 F1 H3 Li1 O3\"][12][0][0]"
   ]
  },
  {
   "cell_type": "code",
   "execution_count": 71,
   "metadata": {
    "scrolled": true
   },
   "outputs": [
    {
     "name": "stdout",
     "output_type": "stream",
     "text": [
      "1571,1565\n",
      "rxn_type : Intramolecular single bond breakage\n",
      "bipartite : 1\n",
      "energy : -0.034118205551976644\n",
      "free_energy : -1.0934727998792368\n",
      "\n",
      "1571,1566\n",
      "rxn_type : Intramolecular single bond breakage\n",
      "bipartite : 1\n",
      "energy : 0.01088540933500326\n",
      "free_energy : 0.3131381111998053\n",
      "\n",
      "1571,1409+5883\n",
      "rxn_type : Molecular decomposition breaking one bond A -> B+C\n",
      "bipartite : 1\n",
      "energy : 0.105657558353073\n",
      "free_energy : 2.2666601754681324\n",
      "\n",
      "1571,1407+5884\n",
      "rxn_type : Molecular decomposition breaking one bond A -> B+C\n",
      "bipartite : 1\n",
      "energy : 0.3515147306120525\n",
      "free_energy : 9.196273763840509\n",
      "\n",
      "1571,2413+5822\n",
      "rxn_type : Molecular decomposition breaking one bond A -> B+C\n",
      "bipartite : 1\n",
      "energy : 0.7318361085210086\n",
      "free_energy : 19.39406840511947\n",
      "\n",
      "1571,2415+5821\n",
      "rxn_type : Molecular decomposition breaking one bond A -> B+C\n",
      "bipartite : 1\n",
      "energy : 0.141138023075996\n",
      "free_energy : 3.3723394811095204\n",
      "\n",
      "1571,1630+5901\n",
      "rxn_type : Coordination bond breaking AM -> A+M\n",
      "bipartite : 1\n",
      "energy : 0.07478261019400634\n",
      "free_energy : 1.6353546344271308\n",
      "\n",
      "1571,1631+5900\n",
      "rxn_type : Coordination bond breaking AM -> A+M\n",
      "bipartite : 1\n",
      "energy : 0.028260393859056876\n",
      "free_energy : 0.48668618165902444\n",
      "\n",
      "1571,1632+5899\n",
      "rxn_type : Coordination bond breaking AM -> A+M\n",
      "bipartite : 1\n",
      "energy : 0.29477612521100127\n",
      "free_energy : 7.548302545177648\n",
      "\n"
     ]
    }
   ],
   "source": [
    "for neighbor in list(RN.graph.neighbors(1571)):\n",
    "    print(neighbor)\n",
    "    for key in RN.graph.node[neighbor]:\n",
    "        print(key,\":\",RN.graph.node[neighbor][key])\n",
    "    print()"
   ]
  },
  {
   "cell_type": "code",
   "execution_count": 45,
   "metadata": {},
   "outputs": [
    {
     "data": {
      "application/vnd.jupyter.widget-view+json": {
       "model_id": "959a4596a31040e6bfba582c150aa735",
       "version_major": 2,
       "version_minor": 0
      },
      "text/plain": [
       "Renderer(background='white', camera=OrthographicCamera(bottom=-7.35967406268, left=-7.35967406268, near=-2000.…"
      ]
     },
     "metadata": {},
     "output_type": "display_data"
    },
    {
     "name": "stdout",
     "output_type": "stream",
     "text": [
      "0\n"
     ]
    },
    {
     "data": {
      "text/plain": [
       "-12224.112436332718"
      ]
     },
     "execution_count": 45,
     "metadata": {},
     "output_type": "execute_result"
    }
   ],
   "source": [
    "ind=1565\n",
    "view_old(RN.entries_list[ind].molecule,bonding_strategy=\"OpenBabelNN\")\n",
    "print(RN.entries_list[ind].charge)\n",
    "RN.entries_list[ind].free_energy"
   ]
  },
  {
   "cell_type": "code",
   "execution_count": 69,
   "metadata": {},
   "outputs": [
    {
     "data": {
      "application/vnd.jupyter.widget-view+json": {
       "model_id": "d80d357a0a464bbfb8a589967fea0d6e",
       "version_major": 2,
       "version_minor": 0
      },
      "text/plain": [
       "Renderer(background='white', camera=OrthographicCamera(bottom=-7.426678041599999, left=-7.426678041599999, nea…"
      ]
     },
     "metadata": {},
     "output_type": "display_data"
    },
    {
     "name": "stdout",
     "output_type": "stream",
     "text": [
      "0\n"
     ]
    },
    {
     "data": {
      "text/plain": [
       "-12223.857551716179"
      ]
     },
     "execution_count": 69,
     "metadata": {},
     "output_type": "execute_result"
    }
   ],
   "source": [
    "ind=1564\n",
    "view_old(RN.entries_list[ind].molecule,bonding_strategy=\"OpenBabelNN\")\n",
    "print(RN.entries_list[ind].charge)\n",
    "RN.entries_list[ind].free_energy"
   ]
  },
  {
   "cell_type": "code",
   "execution_count": 75,
   "metadata": {},
   "outputs": [
    {
     "data": {
      "text/plain": [
       "[MoleculeEntry 135896 - C3 F1 H3 Li1 O3 - E12 - C0\n",
       " Energy = -449.2236 Hartree\n",
       " Correction = 0.0000 Hartree\n",
       " Enthalpy = 47.3820 kcal/mol\n",
       " Entropy = 83.0950 cal/mol.K\n",
       " Free Energy = -12223.0190 eV\n",
       " Parameters:\n",
       " ind = 1571]"
      ]
     },
     "execution_count": 75,
     "metadata": {},
     "output_type": "execute_result"
    }
   ],
   "source": [
    "RN.entries[\"C3 F1 H3 Li1 O3\"][12][0]"
   ]
  },
  {
   "cell_type": "code",
   "execution_count": 74,
   "metadata": {},
   "outputs": [
    {
     "data": {
      "text/plain": [
       "MoleculeEntry 136447 - C3 F1 H3 Li1 O3 - E11 - C0\n",
       "Energy = -449.2492 Hartree\n",
       "Correction = 0.0000 Hartree\n",
       "Enthalpy = 46.3570 kcal/mol\n",
       "Entropy = 90.6470 cal/mol.K\n",
       "Free Energy = -12223.8576 eV\n",
       "Parameters:\n",
       "ind = 1564"
      ]
     },
     "execution_count": 74,
     "metadata": {},
     "output_type": "execute_result"
    }
   ],
   "source": [
    "RN.entries_list[1564]"
   ]
  },
  {
   "cell_type": "code",
   "execution_count": 76,
   "metadata": {},
   "outputs": [
    {
     "data": {
      "application/vnd.jupyter.widget-view+json": {
       "model_id": "09c3b6f0bcbd45688a6c568c29869aef",
       "version_major": 2,
       "version_minor": 0
      },
      "text/plain": [
       "Renderer(background='white', camera=OrthographicCamera(bottom=-4.777487102639999, left=-4.777487102639999, nea…"
      ]
     },
     "metadata": {},
     "output_type": "display_data"
    },
    {
     "name": "stdout",
     "output_type": "stream",
     "text": [
      "0\n"
     ]
    },
    {
     "data": {
      "text/plain": [
       "-12223.018963532839"
      ]
     },
     "execution_count": 76,
     "metadata": {},
     "output_type": "execute_result"
    }
   ],
   "source": [
    "ind=1571\n",
    "view_old(RN.entries_list[ind].molecule,bonding_strategy=\"OpenBabelNN\")\n",
    "print(RN.entries_list[ind].charge)\n",
    "RN.entries_list[ind].free_energy"
   ]
  },
  {
   "cell_type": "code",
   "execution_count": null,
   "metadata": {
    "scrolled": false
   },
   "outputs": [],
   "source": []
  },
  {
   "cell_type": "code",
   "execution_count": null,
   "metadata": {},
   "outputs": [],
   "source": []
  },
  {
   "cell_type": "code",
   "execution_count": null,
   "metadata": {},
   "outputs": [],
   "source": []
  },
  {
   "cell_type": "code",
   "execution_count": null,
   "metadata": {},
   "outputs": [],
   "source": []
  },
  {
   "cell_type": "code",
   "execution_count": null,
   "metadata": {},
   "outputs": [],
   "source": []
  },
  {
   "cell_type": "code",
   "execution_count": null,
   "metadata": {},
   "outputs": [],
   "source": []
  },
  {
   "cell_type": "code",
   "execution_count": null,
   "metadata": {},
   "outputs": [],
   "source": []
  },
  {
   "cell_type": "code",
   "execution_count": null,
   "metadata": {},
   "outputs": [],
   "source": []
  },
  {
   "cell_type": "code",
   "execution_count": null,
   "metadata": {},
   "outputs": [],
   "source": []
  },
  {
   "cell_type": "code",
   "execution_count": null,
   "metadata": {},
   "outputs": [],
   "source": []
  },
  {
   "cell_type": "code",
   "execution_count": null,
   "metadata": {},
   "outputs": [],
   "source": []
  },
  {
   "cell_type": "code",
   "execution_count": null,
   "metadata": {
    "scrolled": true
   },
   "outputs": [],
   "source": []
  },
  {
   "cell_type": "code",
   "execution_count": null,
   "metadata": {},
   "outputs": [],
   "source": []
  },
  {
   "cell_type": "code",
   "execution_count": null,
   "metadata": {},
   "outputs": [],
   "source": []
  },
  {
   "cell_type": "code",
   "execution_count": null,
   "metadata": {},
   "outputs": [],
   "source": []
  },
  {
   "cell_type": "code",
   "execution_count": null,
   "metadata": {
    "scrolled": false
   },
   "outputs": [],
   "source": []
  },
  {
   "cell_type": "code",
   "execution_count": null,
   "metadata": {},
   "outputs": [],
   "source": []
  },
  {
   "cell_type": "code",
   "execution_count": null,
   "metadata": {},
   "outputs": [],
   "source": []
  },
  {
   "cell_type": "code",
   "execution_count": null,
   "metadata": {},
   "outputs": [],
   "source": []
  },
  {
   "cell_type": "code",
   "execution_count": null,
   "metadata": {},
   "outputs": [],
   "source": []
  },
  {
   "cell_type": "code",
   "execution_count": null,
   "metadata": {},
   "outputs": [],
   "source": []
  },
  {
   "cell_type": "code",
   "execution_count": null,
   "metadata": {},
   "outputs": [],
   "source": []
  },
  {
   "cell_type": "code",
   "execution_count": null,
   "metadata": {},
   "outputs": [],
   "source": []
  },
  {
   "cell_type": "code",
   "execution_count": null,
   "metadata": {},
   "outputs": [],
   "source": []
  },
  {
   "cell_type": "code",
   "execution_count": null,
   "metadata": {
    "scrolled": false
   },
   "outputs": [],
   "source": []
  },
  {
   "cell_type": "code",
   "execution_count": null,
   "metadata": {},
   "outputs": [],
   "source": []
  },
  {
   "cell_type": "code",
   "execution_count": null,
   "metadata": {},
   "outputs": [],
   "source": []
  },
  {
   "cell_type": "code",
   "execution_count": null,
   "metadata": {},
   "outputs": [],
   "source": []
  },
  {
   "cell_type": "code",
   "execution_count": null,
   "metadata": {},
   "outputs": [],
   "source": []
  },
  {
   "cell_type": "code",
   "execution_count": null,
   "metadata": {},
   "outputs": [],
   "source": []
  },
  {
   "cell_type": "code",
   "execution_count": null,
   "metadata": {
    "scrolled": true
   },
   "outputs": [],
   "source": []
  },
  {
   "cell_type": "code",
   "execution_count": null,
   "metadata": {},
   "outputs": [],
   "source": []
  },
  {
   "cell_type": "code",
   "execution_count": null,
   "metadata": {},
   "outputs": [],
   "source": []
  },
  {
   "cell_type": "code",
   "execution_count": null,
   "metadata": {},
   "outputs": [],
   "source": []
  },
  {
   "cell_type": "code",
   "execution_count": null,
   "metadata": {},
   "outputs": [],
   "source": []
  },
  {
   "cell_type": "code",
   "execution_count": null,
   "metadata": {},
   "outputs": [],
   "source": []
  },
  {
   "cell_type": "code",
   "execution_count": null,
   "metadata": {},
   "outputs": [],
   "source": []
  }
 ],
 "metadata": {
  "kernelspec": {
   "display_name": "Python 3",
   "language": "python",
   "name": "python3"
  },
  "language_info": {
   "codemirror_mode": {
    "name": "ipython",
    "version": 3
   },
   "file_extension": ".py",
   "mimetype": "text/x-python",
   "name": "python",
   "nbconvert_exporter": "python",
   "pygments_lexer": "ipython3",
   "version": "3.7.3"
  }
 },
 "nbformat": 4,
 "nbformat_minor": 2
}
