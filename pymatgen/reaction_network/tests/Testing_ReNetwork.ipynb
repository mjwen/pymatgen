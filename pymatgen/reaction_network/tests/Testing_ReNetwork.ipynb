{
 "cells": [
  {
   "cell_type": "code",
   "execution_count": 65,
   "metadata": {},
   "outputs": [],
   "source": [
    "import os\n",
    "import unittest\n",
    "import time\n",
    "from pymatgen.core.structure import Molecule\n",
    "from pymatgen.analysis.graphs import MoleculeGraph\n",
    "from pymatgen.analysis.local_env import OpenBabelNN\n",
    "from pymatgen.util.testing import PymatgenTest\n",
    "from pymatgen.analysis.reaction_network.reaction_network import ReactionNetwork\n",
    "from pymatgen.analysis.fragmenter import Fragmenter, metal_edge_extender\n",
    "from pymatgen.entries.mol_entry import MoleculeEntry\n",
    "from monty.serialization import loadfn\n",
    "import openbabel as ob\n",
    "import networkx as nx"
   ]
  },
  {
   "cell_type": "code",
   "execution_count": 66,
   "metadata": {},
   "outputs": [],
   "source": [
    "from crystal_toolkit.helpers.pythreejs_renderer import view_old"
   ]
  },
  {
   "cell_type": "code",
   "execution_count": 3,
   "metadata": {},
   "outputs": [],
   "source": [
    "reextended_entries = []\n",
    "entries = loadfn(\"../../../../test_files/reaction_network_files/LiEC_reextended_entries.json\")\n",
    "for entry in entries:\n",
    "    if \"optimized_molecule\" in entry[\"output\"]:\n",
    "        mol = entry[\"output\"][\"optimized_molecule\"]\n",
    "    else:\n",
    "        mol = entry[\"output\"][\"initial_molecule\"]\n",
    "    H = float(entry[\"output\"][\"enthalpy\"])\n",
    "    S = float(entry[\"output\"][\"entropy\"])\n",
    "    E = float(entry[\"output\"][\"final_energy\"])\n",
    "    mol_entry = MoleculeEntry(molecule=mol,energy=E,enthalpy=H,entropy=S,entry_id=entry[\"task_id\"])\n",
    "    if mol_entry.formula == \"Li1\":\n",
    "        if mol_entry.charge == 1:\n",
    "            reextended_entries.append(mol_entry)\n",
    "    else:\n",
    "        reextended_entries.append(mol_entry)"
   ]
  },
  {
   "cell_type": "code",
   "execution_count": 4,
   "metadata": {},
   "outputs": [
    {
     "name": "stdout",
     "output_type": "stream",
     "text": [
      "682 input entries\n",
      "677 connected entries\n",
      "569 unique entries\n",
      "Missing H3O+, will not add concerted water splitting rxn1\n",
      "Adding concerted water splitting rxn2: 2H2O + 2e- -> H2 + 2OH-\n",
      "Water rxn2 free energy = 0.9488610461256028\n"
     ]
    }
   ],
   "source": [
    "RN = ReactionNetwork(reextended_entries)"
   ]
  },
  {
   "cell_type": "code",
   "execution_count": 5,
   "metadata": {},
   "outputs": [
    {
     "name": "stdout",
     "output_type": "stream",
     "text": [
      "EC_ind 456\n",
      "LiEC_ind 424\n",
      "LEDC_ind 511\n",
      "LEMC_ind 469\n",
      "Li1_ind 556\n"
     ]
    }
   ],
   "source": [
    "EC_mg =  MoleculeGraph.with_local_env_strategy(\n",
    "    Molecule.from_file(\"../../../../test_files/reaction_network_files/EC.xyz\"),\n",
    "    OpenBabelNN(),\n",
    "    reorder=False,\n",
    "    extend_structure=False)\n",
    "EC_mg = metal_edge_extender(EC_mg)\n",
    "\n",
    "LiEC_mg =  MoleculeGraph.with_local_env_strategy(\n",
    "    Molecule.from_file(\"../../../../test_files/reaction_network_files/LiEC.xyz\"),\n",
    "    OpenBabelNN(),\n",
    "    reorder=False,\n",
    "    extend_structure=False)\n",
    "LiEC_mg = metal_edge_extender(LiEC_mg)\n",
    "\n",
    "LEDC_mg =  MoleculeGraph.with_local_env_strategy(\n",
    "    Molecule.from_file(\"../../../../test_files/reaction_network_files/LEDC.xyz\"),\n",
    "    OpenBabelNN(),\n",
    "    reorder=False,\n",
    "    extend_structure=False)\n",
    "LEDC_mg = metal_edge_extender(LEDC_mg)\n",
    "\n",
    "LEMC_mg =  MoleculeGraph.with_local_env_strategy(\n",
    "    Molecule.from_file(\"../../../../test_files/reaction_network_files/LEMC.xyz\"),\n",
    "    OpenBabelNN(),\n",
    "    reorder=False,\n",
    "    extend_structure=False)\n",
    "LEMC_mg = metal_edge_extender(LEMC_mg)\n",
    "\n",
    "EC_ind = None\n",
    "LiEC_ind = None\n",
    "LEDC_ind = None\n",
    "LEMC_ind = None\n",
    "for entry in RN.entries[\"C3 H4 O3\"][10][0]:\n",
    "    if EC_mg.isomorphic_to(entry.mol_graph):\n",
    "        EC_ind = entry.parameters[\"ind\"]\n",
    "        break\n",
    "for entry in RN.entries[\"C3 H4 Li1 O3\"][12][1]:\n",
    "    if LiEC_mg.isomorphic_to(entry.mol_graph):\n",
    "        LiEC_ind = entry.parameters[\"ind\"]\n",
    "        break\n",
    "for entry in RN.entries[\"C4 H4 Li2 O6\"][17][0]:\n",
    "    if LEDC_mg.isomorphic_to(entry.mol_graph):\n",
    "        LEDC_ind = entry.parameters[\"ind\"]\n",
    "        break\n",
    "for entry in RN.entries[\"C3 H5 Li1 O4\"][13][0]:\n",
    "    if LEMC_mg.isomorphic_to(entry.mol_graph):\n",
    "        LEMC_ind = entry.parameters[\"ind\"]\n",
    "        break\n",
    "Li1_ind = RN.entries[\"Li1\"][0][1][0].parameters[\"ind\"]\n",
    "\n",
    "print(\"EC_ind\",EC_ind)\n",
    "print(\"LiEC_ind\",LiEC_ind)\n",
    "print(\"LEDC_ind\",LEDC_ind)\n",
    "print(\"LEMC_ind\",LEMC_ind)\n",
    "print(\"Li1_ind\",Li1_ind)"
   ]
  },
  {
   "cell_type": "code",
   "execution_count": 70,
   "metadata": {},
   "outputs": [
    {
     "data": {
      "application/vnd.jupyter.widget-view+json": {
       "model_id": "0089b9b508334c82a068fd6e7bb31b6f",
       "version_major": 2,
       "version_minor": 0
      },
      "text/plain": [
       "Renderer(background='white', camera=OrthographicCamera(bottom=-5.329070518200751e-16, left=-5.329070518200751e…"
      ]
     },
     "metadata": {},
     "output_type": "display_data"
    },
    {
     "name": "stdout",
     "output_type": "stream",
     "text": [
      "1\n"
     ]
    },
    {
     "data": {
      "text/plain": [
       "-201.49170734039296"
      ]
     },
     "execution_count": 70,
     "metadata": {},
     "output_type": "execute_result"
    }
   ],
   "source": [
    "ind=556\n",
    "view_old(RN.entries_list[ind].molecule,bonding_strategy=\"OpenBabelNN\")\n",
    "print(RN.entries_list[ind].charge)\n",
    "RN.entries_list[ind].free_energy"
   ]
  },
  {
   "cell_type": "code",
   "execution_count": 64,
   "metadata": {
    "scrolled": false
   },
   "outputs": [
    {
     "data": {
      "application/vnd.jupyter.widget-view+json": {
       "model_id": "c52a9e3e5e68491a89bdb4ebf21688b9",
       "version_major": 2,
       "version_minor": 0
      },
      "text/plain": [
       "Renderer(background='white', camera=OrthographicCamera(bottom=-3.04935337968, left=-3.04935337968, near=-2000.…"
      ]
     },
     "metadata": {},
     "output_type": "display_data"
    },
    {
     "name": "stdout",
     "output_type": "stream",
     "text": [
      "0\n"
     ]
    },
    {
     "data": {
      "text/plain": [
       "MoleculeEntry 115878 - C1 Li1 O3 - E5 - C0\n",
       "Energy = -271.3720 Hartree\n",
       "Correction = 0.0000 Hartree\n",
       "Enthalpy = 13.2350 kcal/mol\n",
       "Entropy = 70.0740 cal/mol.K\n",
       "Free Energy = -7384.7413 eV\n",
       "Parameters:\n",
       "ind = 41"
      ]
     },
     "execution_count": 64,
     "metadata": {},
     "output_type": "execute_result"
    }
   ],
   "source": [
    "ind=41\n",
    "view_old(RN.entries_list[ind].molecule,bonding_strategy=\"OpenBabelNN\")\n",
    "print(RN.entries_list[ind].charge)\n",
    "RN.entries_list[ind]"
   ]
  },
  {
   "cell_type": "code",
   "execution_count": 49,
   "metadata": {},
   "outputs": [
    {
     "name": "stdout",
     "output_type": "stream",
     "text": [
      "420,419\n",
      "rxn_type : One electron reduction\n",
      "bipartite : 1\n",
      "energy : -0.10673717229497015\n",
      "free_energy : -0.7448082500937745\n",
      "\n",
      "420,423\n",
      "rxn_type : Intramolecular single bond formation\n",
      "bipartite : 1\n",
      "energy : 0.0377282729020294\n",
      "free_energy : 1.2093853860187664\n",
      "\n",
      "420,354+544\n",
      "rxn_type : Molecular decomposition breaking one bond A -> B+C\n",
      "bipartite : 1\n",
      "energy : 0.3561941055910438\n",
      "free_energy : 9.406364191265311\n",
      "\n",
      "420,17+112\n",
      "rxn_type : Molecular decomposition breaking one bond A -> B+C\n",
      "bipartite : 1\n",
      "energy : 0.21171106493721936\n",
      "free_energy : 5.017833742112998\n",
      "\n",
      "420,18+110\n",
      "rxn_type : Molecular decomposition breaking one bond A -> B+C\n",
      "bipartite : 1\n",
      "energy : 0.18166385452042277\n",
      "free_energy : 4.216097982036445\n",
      "\n",
      "420,19+108\n",
      "rxn_type : Molecular decomposition breaking one bond A -> B+C\n",
      "bipartite : 1\n",
      "energy : 0.32811420511234246\n",
      "free_energy : 8.197687310999754\n",
      "\n",
      "420,355+544\n",
      "rxn_type : Molecular decomposition breaking one bond A -> B+C\n",
      "bipartite : 1\n",
      "energy : 0.33625550868202936\n",
      "free_energy : 8.85741642711946\n",
      "\n",
      "420,356+543\n",
      "rxn_type : Molecular decomposition breaking one bond A -> B+C\n",
      "bipartite : 1\n",
      "energy : 0.060974458129010145\n",
      "free_energy : 1.1674588451805903\n",
      "\n",
      "420,358+542\n",
      "rxn_type : Molecular decomposition breaking one bond A -> B+C\n",
      "bipartite : 1\n",
      "energy : 0.15617338285500182\n",
      "free_energy : 3.709965118945547\n",
      "\n",
      "420,41+164\n",
      "rxn_type : Molecular decomposition breaking one bond A -> B+C\n",
      "bipartite : 1\n",
      "energy : 0.035409666514283344\n",
      "free_energy : 0.3710129384598986\n",
      "\n",
      "420,40+165\n",
      "rxn_type : Molecular decomposition breaking one bond A -> B+C\n",
      "bipartite : 1\n",
      "energy : 0.12289546357101244\n",
      "free_energy : 2.759198269530316\n",
      "\n",
      "420+PR_563,425\n",
      "rxn_type : Molecular formation from one new bond A+B -> C\n",
      "bipartite : 1\n",
      "energy : -0.14830978800497974\n",
      "free_energy : -3.5195207706713063\n",
      "\n",
      "420+PR_564,429\n",
      "rxn_type : Molecular formation from one new bond A+B -> C\n",
      "bipartite : 1\n",
      "energy : -0.256813411226986\n",
      "free_energy : -6.490357430624499\n",
      "\n",
      "420+PR_557,435\n",
      "rxn_type : Molecular formation from one new bond A+B -> C\n",
      "bipartite : 1\n",
      "energy : -0.11063715553947873\n",
      "free_energy : -2.407803952872655\n",
      "\n",
      "420+PR_558,436\n",
      "rxn_type : Molecular formation from one new bond A+B -> C\n",
      "bipartite : 1\n",
      "energy : -0.15281880688840488\n",
      "free_energy : -3.5282089734441797\n",
      "\n",
      "420+PR_559,437\n",
      "rxn_type : Molecular formation from one new bond A+B -> C\n",
      "bipartite : 1\n",
      "energy : -0.27347215623288434\n",
      "free_energy : -6.8653687269493275\n",
      "\n",
      "420+PR_548,468\n",
      "rxn_type : Molecular formation from one new bond A+B -> C\n",
      "bipartite : 1\n",
      "energy : -0.044933411662711364\n",
      "free_energy : -0.5505622424766443\n",
      "\n",
      "420+PR_549,469\n",
      "rxn_type : Molecular formation from one new bond A+B -> C\n",
      "bipartite : 1\n",
      "energy : -0.15604192903995795\n",
      "free_energy : -3.53823059747765\n",
      "\n",
      "420+PR_550,471\n",
      "rxn_type : Molecular formation from one new bond A+B -> C\n",
      "bipartite : 1\n",
      "energy : -0.342954098612708\n",
      "free_energy : -8.712696012730703\n",
      "\n",
      "420+PR_40,510\n",
      "rxn_type : Molecular formation from one new bond A+B -> C\n",
      "bipartite : 1\n",
      "energy : 0.023801988866978263\n",
      "free_energy : 1.3784994251245735\n",
      "\n",
      "420+PR_41,511\n",
      "rxn_type : Molecular formation from one new bond A+B -> C\n",
      "bipartite : 1\n",
      "energy : -0.14211140456592375\n",
      "free_energy : -3.044524848722176\n",
      "\n",
      "420+PR_419,527\n",
      "rxn_type : Molecular formation from one new bond A+B -> C\n",
      "bipartite : 1\n",
      "energy : -0.09989246692896359\n",
      "free_energy : -1.8709396785052377\n",
      "\n",
      "420+PR_420,528\n",
      "rxn_type : Molecular formation from one new bond A+B -> C\n",
      "bipartite : 1\n",
      "energy : -0.15580037421102588\n",
      "free_energy : -3.3616022879177763\n",
      "\n",
      "420,450+556\n",
      "rxn_type : Coordination bond breaking AM -> A+M\n",
      "bipartite : 1\n",
      "energy : 0.08364040524099892\n",
      "free_energy : 1.8505048196220741\n",
      "\n",
      "420+PR_556,434\n",
      "rxn_type : Coordination bond forming A+M -> AM\n",
      "bipartite : 1\n",
      "energy : -0.04808599110897038\n",
      "free_energy : -0.9615016130111371\n",
      "\n"
     ]
    }
   ],
   "source": [
    "for neighbor in list(RN.graph.neighbors(420)):\n",
    "    print(neighbor)\n",
    "    for key in RN.graph.node[neighbor]:\n",
    "        print(key,\":\",RN.graph.node[neighbor][key])\n",
    "    print()"
   ]
  },
  {
   "cell_type": "code",
   "execution_count": 13,
   "metadata": {},
   "outputs": [
    {
     "name": "stdout",
     "output_type": "stream",
     "text": [
      "474,473\n",
      "rxn_type : One electron reduction\n",
      "bipartite : 1\n",
      "energy : -0.08791600709999958\n",
      "free_energy : -0.2423167564408346\n",
      "\n",
      "474+PR_11,7\n",
      "rxn_type : Molecular formation from one new bond A+B -> C\n",
      "bipartite : 1\n",
      "energy : -0.06301589485099957\n",
      "free_energy : -1.3908328395788203\n",
      "\n",
      "474+PR_12,8\n",
      "rxn_type : Molecular formation from one new bond A+B -> C\n",
      "bipartite : 1\n",
      "energy : -0.018394655645999514\n",
      "free_energy : -0.2105903542338865\n",
      "\n",
      "474+PR_21,19\n",
      "rxn_type : Molecular formation from one new bond A+B -> C\n",
      "bipartite : 1\n",
      "energy : -0.0809593017609922\n",
      "free_energy : -1.866753251131854\n",
      "\n",
      "474+PR_23,20\n",
      "rxn_type : Molecular formation from one new bond A+B -> C\n",
      "bipartite : 1\n",
      "energy : -0.03034432508300089\n",
      "free_energy : -0.49996023164806047\n",
      "\n",
      "474+PR_37,28\n",
      "rxn_type : Molecular formation from one new bond A+B -> C\n",
      "bipartite : 1\n",
      "energy : -0.054634213966999745\n",
      "free_energy : -1.1508368558471602\n",
      "\n",
      "474+PR_38,29\n",
      "rxn_type : Molecular formation from one new bond A+B -> C\n",
      "bipartite : 1\n",
      "energy : -0.004152531853997665\n",
      "free_energy : 0.1923339334615548\n",
      "\n",
      "474+PR_40,31\n",
      "rxn_type : Molecular formation from one new bond A+B -> C\n",
      "bipartite : 1\n",
      "energy : -0.062168935468982944\n",
      "free_energy : -1.3468226508422276\n",
      "\n",
      "474+PR_41,32\n",
      "rxn_type : Molecular formation from one new bond A+B -> C\n",
      "bipartite : 1\n",
      "energy : -0.011486996978001152\n",
      "free_energy : 0.041110939015084114\n",
      "\n",
      "474+PR_67,52\n",
      "rxn_type : Molecular formation from one new bond A+B -> C\n",
      "bipartite : 1\n",
      "energy : -0.0622096117520039\n",
      "free_energy : -1.265086472218286\n",
      "\n",
      "474+PR_69,53\n",
      "rxn_type : Molecular formation from one new bond A+B -> C\n",
      "bipartite : 1\n",
      "energy : -0.018869753563003577\n",
      "free_energy : -0.09686620299373772\n",
      "\n",
      "474+PR_74,56\n",
      "rxn_type : Molecular formation from one new bond A+B -> C\n",
      "bipartite : 1\n",
      "energy : -0.08283120626300278\n",
      "free_energy : -1.8924828232485424\n",
      "\n",
      "474+PR_76,57\n",
      "rxn_type : Molecular formation from one new bond A+B -> C\n",
      "bipartite : 1\n",
      "energy : -0.034832271275981874\n",
      "free_energy : -0.6342915206934094\n",
      "\n",
      "474+PR_107,88\n",
      "rxn_type : Molecular formation from one new bond A+B -> C\n",
      "bipartite : 1\n",
      "energy : -0.0799180346289825\n",
      "free_energy : -1.7925489004975361\n",
      "\n",
      "474+PR_105,89\n",
      "rxn_type : Molecular formation from one new bond A+B -> C\n",
      "bipartite : 1\n",
      "energy : -0.06232088697297744\n",
      "free_energy : -1.371816288402556\n",
      "\n",
      "474+PR_110,90\n",
      "rxn_type : Molecular formation from one new bond A+B -> C\n",
      "bipartite : 1\n",
      "energy : -0.01803652253500676\n",
      "free_energy : -0.2234991541446334\n",
      "\n",
      "474+PR_121,93\n",
      "rxn_type : Molecular formation from one new bond A+B -> C\n",
      "bipartite : 1\n",
      "energy : -0.02495304832098899\n",
      "free_energy : -0.3603997254568867\n",
      "\n",
      "474+PR_140,134\n",
      "rxn_type : Molecular formation from one new bond A+B -> C\n",
      "bipartite : 1\n",
      "energy : -0.07736208309700832\n",
      "free_energy : -1.7561559186925706\n",
      "\n",
      "474+PR_143,135\n",
      "rxn_type : Molecular formation from one new bond A+B -> C\n",
      "bipartite : 1\n",
      "energy : -0.035193207047009345\n",
      "free_energy : -0.6517344987543083\n",
      "\n",
      "474+PR_164,159\n",
      "rxn_type : Molecular formation from one new bond A+B -> C\n",
      "bipartite : 1\n",
      "energy : -0.09439264085299559\n",
      "free_energy : -2.2229274753054824\n",
      "\n",
      "474+PR_185,178\n",
      "rxn_type : Molecular formation from one new bond A+B -> C\n",
      "bipartite : 1\n",
      "energy : -0.044020027143013785\n",
      "free_energy : -0.8117027791405462\n",
      "\n",
      "474+PR_186,179\n",
      "rxn_type : Molecular formation from one new bond A+B -> C\n",
      "bipartite : 1\n",
      "energy : -0.006048963964993881\n",
      "free_energy : 0.07994002319344418\n",
      "\n",
      "474+PR_225,194\n",
      "rxn_type : Molecular formation from one new bond A+B -> C\n",
      "bipartite : 1\n",
      "energy : -0.016568430503022036\n",
      "free_energy : -0.15402987131903956\n",
      "\n",
      "474+PR_226,195\n",
      "rxn_type : Molecular formation from one new bond A+B -> C\n",
      "bipartite : 1\n",
      "energy : -0.01577129404803035\n",
      "free_energy : -0.12312224800018612\n",
      "\n",
      "474+PR_234,200\n",
      "rxn_type : Molecular formation from one new bond A+B -> C\n",
      "bipartite : 1\n",
      "energy : -0.06725606806197337\n",
      "free_energy : -1.4648478774898877\n",
      "\n",
      "474+PR_235,203\n",
      "rxn_type : Molecular formation from one new bond A+B -> C\n",
      "bipartite : 1\n",
      "energy : -0.004822323774996029\n",
      "free_energy : 0.13212284265944163\n",
      "\n",
      "474+PR_284,249\n",
      "rxn_type : Molecular formation from one new bond A+B -> C\n",
      "bipartite : 1\n",
      "energy : -0.07660894509695826\n",
      "free_energy : -1.7970378861519976\n",
      "\n",
      "474+PR_291,257\n",
      "rxn_type : Molecular formation from one new bond A+B -> C\n",
      "bipartite : 1\n",
      "energy : -0.0733441410160447\n",
      "free_energy : -1.6183222892005915\n",
      "\n",
      "474+PR_294,258\n",
      "rxn_type : Molecular formation from one new bond A+B -> C\n",
      "bipartite : 1\n",
      "energy : -0.06325725096702062\n",
      "free_energy : -1.3518287086473038\n",
      "\n",
      "474+PR_295,259\n",
      "rxn_type : Molecular formation from one new bond A+B -> C\n",
      "bipartite : 1\n",
      "energy : -0.07182628104698896\n",
      "free_energy : -1.5072561730004281\n",
      "\n",
      "474+PR_292,260\n",
      "rxn_type : Molecular formation from one new bond A+B -> C\n",
      "bipartite : 1\n",
      "energy : -0.057282776120993084\n",
      "free_energy : -1.1813283330021704\n",
      "\n",
      "474+PR_362,318\n",
      "rxn_type : Molecular formation from one new bond A+B -> C\n",
      "bipartite : 1\n",
      "energy : -0.07442637580300815\n",
      "free_energy : -1.61983763649107\n",
      "\n",
      "474+PR_360,320\n",
      "rxn_type : Molecular formation from one new bond A+B -> C\n",
      "bipartite : 1\n",
      "energy : -0.0723084149399904\n",
      "free_energy : -1.5588891848975663\n",
      "\n",
      "474+PR_365,322\n",
      "rxn_type : Molecular formation from one new bond A+B -> C\n",
      "bipartite : 1\n",
      "energy : -0.03194108296600806\n",
      "free_energy : -0.49662201707644726\n",
      "\n",
      "474+PR_366,323\n",
      "rxn_type : Molecular formation from one new bond A+B -> C\n",
      "bipartite : 1\n",
      "energy : -0.016668462664036987\n",
      "free_energy : -0.17071755405333988\n",
      "\n",
      "474+PR_363,324\n",
      "rxn_type : Molecular formation from one new bond A+B -> C\n",
      "bipartite : 1\n",
      "energy : -0.023979162062013337\n",
      "free_energy : -0.34290816533678026\n",
      "\n",
      "474+PR_364,325\n",
      "rxn_type : Molecular formation from one new bond A+B -> C\n",
      "bipartite : 1\n",
      "energy : -0.023929337975013176\n",
      "free_energy : -0.3785433476251683\n",
      "\n",
      "474+PR_402,379\n",
      "rxn_type : Molecular formation from one new bond A+B -> C\n",
      "bipartite : 1\n",
      "energy : -0.0762034880469935\n",
      "free_energy : -1.6843452491403923\n",
      "\n",
      "474+PR_409,386\n",
      "rxn_type : Molecular formation from one new bond A+B -> C\n",
      "bipartite : 1\n",
      "energy : -0.07579269223999408\n",
      "free_energy : -1.660270267430974\n",
      "\n",
      "474+PR_410,388\n",
      "rxn_type : Molecular formation from one new bond A+B -> C\n",
      "bipartite : 1\n",
      "energy : -0.05405675289996115\n",
      "free_energy : -1.1263149613670294\n",
      "\n",
      "474+PR_410,389\n",
      "rxn_type : Molecular formation from one new bond A+B -> C\n",
      "bipartite : 1\n",
      "energy : -0.09355246429101616\n",
      "free_energy : -2.163349847204813\n",
      "\n",
      "474+PR_431,424\n",
      "rxn_type : Molecular formation from one new bond A+B -> C\n",
      "bipartite : 1\n",
      "energy : -0.07594767476900532\n",
      "free_energy : -1.6576086235628509\n",
      "\n",
      "474+PR_432,425\n",
      "rxn_type : Molecular formation from one new bond A+B -> C\n",
      "bipartite : 1\n",
      "energy : -0.024715547615991262\n",
      "free_energy : -0.36435505271686\n",
      "\n",
      "474+PR_454,438\n",
      "rxn_type : Molecular formation from one new bond A+B -> C\n",
      "bipartite : 1\n",
      "energy : -0.0704273680619929\n",
      "free_energy : -1.5136871835812826\n",
      "\n",
      "474+PR_478,476\n",
      "rxn_type : Molecular formation from one new bond A+B -> C\n",
      "bipartite : 1\n",
      "energy : -0.08950781649060335\n",
      "free_energy : -2.1810733874516472\n",
      "\n",
      "474+PR_479,477\n",
      "rxn_type : Molecular formation from one new bond A+B -> C\n",
      "bipartite : 1\n",
      "energy : -0.008793978496094645\n",
      "free_energy : -0.02587761869710903\n",
      "\n",
      "474+PR_40,34\n",
      "rxn_type : Coordination bond forming A+M -> AM\n",
      "bipartite : 1\n",
      "energy : -0.06497870733898825\n",
      "free_energy : -1.4089247637022027\n",
      "\n",
      "474+PR_43,36\n",
      "rxn_type : Coordination bond forming A+M -> AM\n",
      "bipartite : 1\n",
      "energy : -0.06452768005500165\n",
      "free_energy : -1.3736425194621233\n",
      "\n",
      "474+PR_74,60\n",
      "rxn_type : Coordination bond forming A+M -> AM\n",
      "bipartite : 1\n",
      "energy : -0.06348456685001569\n",
      "free_energy : -1.3535371199269548\n",
      "\n",
      "474+PR_76,61\n",
      "rxn_type : Coordination bond forming A+M -> AM\n",
      "bipartite : 1\n",
      "energy : -0.00982320585598817\n",
      "free_energy : 0.05384346000835194\n",
      "\n",
      "474+PR_79,64\n",
      "rxn_type : Coordination bond forming A+M -> AM\n",
      "bipartite : 1\n",
      "energy : -0.060535543069996756\n",
      "free_energy : -1.2510173279562196\n",
      "\n",
      "474+PR_79,65\n",
      "rxn_type : Coordination bond forming A+M -> AM\n",
      "bipartite : 1\n",
      "energy : -0.06184413538000744\n",
      "free_energy : -1.313239966205515\n",
      "\n",
      "474+PR_119,97\n",
      "rxn_type : Coordination bond forming A+M -> AM\n",
      "bipartite : 1\n",
      "energy : -0.09402806874101888\n",
      "free_energy : -2.080361122990439\n",
      "\n",
      "474+PR_118,98\n",
      "rxn_type : Coordination bond forming A+M -> AM\n",
      "bipartite : 1\n",
      "energy : -0.09350454400999642\n",
      "free_energy : -2.116796645593354\n",
      "\n",
      "474+PR_121,99\n",
      "rxn_type : Coordination bond forming A+M -> AM\n",
      "bipartite : 1\n",
      "energy : -0.03765077855099097\n",
      "free_energy : -0.6176425871782385\n",
      "\n",
      "474+PR_127,102\n",
      "rxn_type : Coordination bond forming A+M -> AM\n",
      "bipartite : 1\n",
      "energy : -0.0773150264490221\n",
      "free_energy : -1.718078314469608\n",
      "\n",
      "474+PR_127,103\n",
      "rxn_type : Coordination bond forming A+M -> AM\n",
      "bipartite : 1\n",
      "energy : -0.07208698892100873\n",
      "free_energy : -1.594423681667763\n",
      "\n",
      "474+PR_147,138\n",
      "rxn_type : Coordination bond forming A+M -> AM\n",
      "bipartite : 1\n",
      "energy : -0.10660547085002126\n",
      "free_energy : -2.394896674664892\n",
      "\n",
      "474+PR_153,139\n",
      "rxn_type : Coordination bond forming A+M -> AM\n",
      "bipartite : 1\n",
      "energy : -0.043793825680986664\n",
      "free_energy : -0.8104231221578857\n",
      "\n",
      "474+PR_169,161\n",
      "rxn_type : Coordination bond forming A+M -> AM\n",
      "bipartite : 1\n",
      "energy : -0.0966779991519866\n",
      "free_energy : -2.1975779638906943\n",
      "\n",
      "474+PR_237,210\n",
      "rxn_type : Coordination bond forming A+M -> AM\n",
      "bipartite : 1\n",
      "energy : -0.04451168454398502\n",
      "free_energy : -0.8303900068177654\n",
      "\n",
      "474+PR_240,213\n",
      "rxn_type : Coordination bond forming A+M -> AM\n",
      "bipartite : 1\n",
      "energy : -0.05018728283699492\n",
      "free_energy : -1.0360680379918676\n",
      "\n",
      "474+PR_243,217\n",
      "rxn_type : Coordination bond forming A+M -> AM\n",
      "bipartite : 1\n",
      "energy : -0.0703312013089965\n",
      "free_energy : -1.5139967354872397\n",
      "\n",
      "474+PR_244,218\n",
      "rxn_type : Coordination bond forming A+M -> AM\n",
      "bipartite : 1\n",
      "energy : -0.07726022929399168\n",
      "free_energy : -1.673510611693132\n",
      "\n",
      "474+PR_293,265\n",
      "rxn_type : Coordination bond forming A+M -> AM\n",
      "bipartite : 1\n",
      "energy : -0.07552330596099299\n",
      "free_energy : -1.6764820887684664\n",
      "\n",
      "474+PR_295,267\n",
      "rxn_type : Coordination bond forming A+M -> AM\n",
      "bipartite : 1\n",
      "energy : -0.06785000083903814\n",
      "free_energy : -1.3829689344230474\n",
      "\n",
      "474+PR_299,269\n",
      "rxn_type : Coordination bond forming A+M -> AM\n",
      "bipartite : 1\n",
      "energy : -0.07479903193797899\n",
      "free_energy : -1.6513374622837773\n",
      "\n",
      "474+PR_303,274\n",
      "rxn_type : Coordination bond forming A+M -> AM\n",
      "bipartite : 1\n",
      "energy : -0.06773499188501209\n",
      "free_energy : -1.4536632053178664\n",
      "\n",
      "474+PR_306,275\n",
      "rxn_type : Coordination bond forming A+M -> AM\n",
      "bipartite : 1\n",
      "energy : -0.07909282613702207\n",
      "free_energy : -1.743389523785595\n",
      "\n",
      "474+PR_305,276\n",
      "rxn_type : Coordination bond forming A+M -> AM\n",
      "bipartite : 1\n",
      "energy : -0.07140112880001315\n",
      "free_energy : -1.5146113693691632\n",
      "\n",
      "474+PR_304,277\n",
      "rxn_type : Coordination bond forming A+M -> AM\n",
      "bipartite : 1\n",
      "energy : -0.07739577147300114\n",
      "free_energy : -1.7272826169966038\n",
      "\n",
      "474+PR_361,328\n",
      "rxn_type : Coordination bond forming A+M -> AM\n",
      "bipartite : 1\n",
      "energy : -0.07682600226201775\n",
      "free_energy : -1.7026943196625552\n",
      "\n",
      "474+PR_360,329\n",
      "rxn_type : Coordination bond forming A+M -> AM\n",
      "bipartite : 1\n",
      "energy : -0.07450998591503666\n",
      "free_energy : -1.5525359526865259\n",
      "\n",
      "474+PR_370,331\n",
      "rxn_type : Coordination bond forming A+M -> AM\n",
      "bipartite : 1\n",
      "energy : -0.05776353790998545\n",
      "free_energy : -1.2167182367749092\n",
      "\n",
      "474+PR_370,332\n",
      "rxn_type : Coordination bond forming A+M -> AM\n",
      "bipartite : 1\n",
      "energy : -0.047941287833972446\n",
      "free_energy : -0.9598653685508225\n",
      "\n",
      "474+PR_374,338\n",
      "rxn_type : Coordination bond forming A+M -> AM\n",
      "bipartite : 1\n",
      "energy : -0.08218997467702938\n",
      "free_energy : -1.796538581594291\n",
      "\n",
      "474+PR_375,339\n",
      "rxn_type : Coordination bond forming A+M -> AM\n",
      "bipartite : 1\n",
      "energy : -0.08033716343101904\n",
      "free_energy : -1.7853127052104583\n",
      "\n",
      "474+PR_373,340\n",
      "rxn_type : Coordination bond forming A+M -> AM\n",
      "bipartite : 1\n",
      "energy : -0.07954615333199744\n",
      "free_energy : -1.756367842846089\n",
      "\n",
      "474+PR_376,341\n",
      "rxn_type : Coordination bond forming A+M -> AM\n",
      "bipartite : 1\n",
      "energy : -0.0650947084259963\n",
      "free_energy : -1.3980459164605463\n",
      "\n",
      "474+PR_402,381\n",
      "rxn_type : Coordination bond forming A+M -> AM\n",
      "bipartite : 1\n",
      "energy : -0.07668522780898801\n",
      "free_energy : -1.7578037889253437\n",
      "\n",
      "474+PR_411,392\n",
      "rxn_type : Coordination bond forming A+M -> AM\n",
      "bipartite : 1\n",
      "energy : -0.08364040524100691\n",
      "free_energy : -1.8505048196212783\n",
      "\n",
      "474+PR_416,393\n",
      "rxn_type : Coordination bond forming A+M -> AM\n",
      "bipartite : 1\n",
      "energy : -0.08317397598399001\n",
      "free_energy : -1.8575174516982997\n",
      "\n",
      "474+PR_417,394\n",
      "rxn_type : Coordination bond forming A+M -> AM\n",
      "bipartite : 1\n",
      "energy : -0.03187802390795813\n",
      "free_energy : -0.5542608777860778\n",
      "\n",
      "474+PR_420,398\n",
      "rxn_type : Coordination bond forming A+M -> AM\n",
      "bipartite : 1\n",
      "energy : -0.08327503445600204\n",
      "free_energy : -1.8685341517585812\n",
      "\n",
      "474+PR_421,399\n",
      "rxn_type : Coordination bond forming A+M -> AM\n",
      "bipartite : 1\n",
      "energy : -0.08238782195298544\n",
      "free_energy : -1.8258208435883034\n",
      "\n",
      "474+PR_419,400\n",
      "rxn_type : Coordination bond forming A+M -> AM\n",
      "bipartite : 1\n",
      "energy : -0.07750457229901375\n",
      "free_energy : -1.719613917240281\n",
      "\n",
      "474+PR_422,401\n",
      "rxn_type : Coordination bond forming A+M -> AM\n",
      "bipartite : 1\n",
      "energy : -0.06435308447300603\n",
      "free_energy : -1.3469279612501168\n",
      "\n",
      "474+PR_434,427\n",
      "rxn_type : Coordination bond forming A+M -> AM\n",
      "bipartite : 1\n",
      "energy : -0.08340013566999804\n",
      "free_energy : -1.8647052845273038\n",
      "\n",
      "474+PR_435,428\n",
      "rxn_type : Coordination bond forming A+M -> AM\n",
      "bipartite : 1\n",
      "energy : -0.002135074559995509\n",
      "free_energy : 0.23795825118293124\n",
      "\n"
     ]
    }
   ],
   "source": [
    "for neighbor in list(RN.graph.neighbors(474)):\n",
    "    print(neighbor)\n",
    "    for key in RN.graph.node[neighbor]:\n",
    "        print(key,\":\",RN.graph.node[neighbor][key])\n",
    "    print()"
   ]
  },
  {
   "cell_type": "code",
   "execution_count": 15,
   "metadata": {},
   "outputs": [
    {
     "name": "stdout",
     "output_type": "stream",
     "text": [
      "35,36\n",
      "rxn_type : One electron oxidation\n",
      "bipartite : 1\n",
      "energy : 0.1816016427779914\n",
      "free_energy : 2.7270388301945787\n",
      "\n",
      "35,33+479\n",
      "rxn_type : Molecular decomposition breaking one bond A -> B+C\n",
      "bipartite : 1\n",
      "energy : 0.35794579207203014\n",
      "free_energy : 9.213829847470151\n",
      "\n",
      "35,34+478\n",
      "rxn_type : Molecular decomposition breaking one bond A -> B+C\n",
      "bipartite : 1\n",
      "energy : 0.2016542032849884\n",
      "free_energy : 4.987704475838655\n",
      "\n",
      "35+PR_4,62\n",
      "rxn_type : Molecular formation from one new bond A+B -> C\n",
      "bipartite : 1\n",
      "energy : -0.09198700893955447\n",
      "free_energy : -1.9750776559694714\n",
      "\n",
      "35+PR_4,63\n",
      "rxn_type : Molecular formation from one new bond A+B -> C\n",
      "bipartite : 1\n",
      "energy : -0.09441645627055095\n",
      "free_energy : -2.026401738522509\n",
      "\n",
      "35+PR_5,64\n",
      "rxn_type : Molecular formation from one new bond A+B -> C\n",
      "bipartite : 1\n",
      "energy : -0.26247726442579733\n",
      "free_energy : -6.570088676106934\n",
      "\n",
      "35+PR_5,65\n",
      "rxn_type : Molecular formation from one new bond A+B -> C\n",
      "bipartite : 1\n",
      "energy : -0.263785856735808\n",
      "free_energy : -6.63231131435623\n",
      "\n",
      "35+PR_16,100\n",
      "rxn_type : Molecular formation from one new bond A+B -> C\n",
      "bipartite : 1\n",
      "energy : -0.08418082530636184\n",
      "free_energy : -1.6316199625734953\n",
      "\n",
      "35+PR_16,101\n",
      "rxn_type : Molecular formation from one new bond A+B -> C\n",
      "bipartite : 1\n",
      "energy : -0.080678768982402\n",
      "free_energy : -1.5486483060899445\n",
      "\n",
      "35+PR_17,102\n",
      "rxn_type : Molecular formation from one new bond A+B -> C\n",
      "bipartite : 1\n",
      "energy : -0.23063117589828153\n",
      "free_energy : -5.613209291536805\n",
      "\n",
      "35+PR_17,103\n",
      "rxn_type : Molecular formation from one new bond A+B -> C\n",
      "bipartite : 1\n",
      "energy : -0.22540313837026815\n",
      "free_energy : -5.48955465873496\n",
      "\n",
      "35+PR_1,182\n",
      "rxn_type : Molecular formation from one new bond A+B -> C\n",
      "bipartite : 1\n",
      "energy : -0.09482671983096225\n",
      "free_energy : -2.187678564867383\n",
      "\n",
      "35+PR_1,183\n",
      "rxn_type : Molecular formation from one new bond A+B -> C\n",
      "bipartite : 1\n",
      "energy : -0.11660353652297317\n",
      "free_energy : -2.8114916984304728\n",
      "\n",
      "35+PR_2,184\n",
      "rxn_type : Molecular formation from one new bond A+B -> C\n",
      "bipartite : 1\n",
      "energy : -0.25620975050100014\n",
      "free_energy : -6.598167568574354\n",
      "\n",
      "35+PR_48,205\n",
      "rxn_type : Molecular formation from one new bond A+B -> C\n",
      "bipartite : 1\n",
      "energy : -0.06946986101655739\n",
      "free_energy : -1.3268254275526488\n",
      "\n",
      "35+PR_48,206\n",
      "rxn_type : Molecular formation from one new bond A+B -> C\n",
      "bipartite : 1\n",
      "energy : -0.05104137686157628\n",
      "free_energy : -0.897825464872767\n",
      "\n",
      "35+PR_49,208\n",
      "rxn_type : Molecular formation from one new bond A+B -> C\n",
      "bipartite : 1\n",
      "energy : -0.35348143398420007\n",
      "free_energy : -8.975276402924464\n",
      "\n",
      "35+PR_49,209\n",
      "rxn_type : Molecular formation from one new bond A+B -> C\n",
      "bipartite : 1\n",
      "energy : -0.28329152286420367\n",
      "free_energy : -7.1394497449482515\n",
      "\n",
      "35+PR_69,214\n",
      "rxn_type : Molecular formation from one new bond A+B -> C\n",
      "bipartite : 1\n",
      "energy : -0.03111544590694848\n",
      "free_energy : -0.23493072279597982\n",
      "\n",
      "35+PR_68,216\n",
      "rxn_type : Molecular formation from one new bond A+B -> C\n",
      "bipartite : 1\n",
      "energy : -0.056839169277964174\n",
      "free_energy : -0.9893593840488393\n",
      "\n",
      "35+PR_72,217\n",
      "rxn_type : Molecular formation from one new bond A+B -> C\n",
      "bipartite : 1\n",
      "energy : -0.27258555618493574\n",
      "free_energy : -6.766971331727291\n",
      "\n",
      "35+PR_70,218\n",
      "rxn_type : Molecular formation from one new bond A+B -> C\n",
      "bipartite : 1\n",
      "energy : -0.2368848824539782\n",
      "free_energy : -5.777390589153583\n",
      "\n",
      "35+PR_82,263\n",
      "rxn_type : Molecular formation from one new bond A+B -> C\n",
      "bipartite : 1\n",
      "energy : 0.009194958990860869\n",
      "free_energy : 0.7690979258686639\n",
      "\n",
      "35+PR_83,264\n",
      "rxn_type : Molecular formation from one new bond A+B -> C\n",
      "bipartite : 1\n",
      "energy : -0.05750397154406528\n",
      "free_energy : -0.9245066300727558\n",
      "\n",
      "35+PR_84,265\n",
      "rxn_type : Molecular formation from one new bond A+B -> C\n",
      "bipartite : 1\n",
      "energy : -0.1557762240148577\n",
      "free_energy : -3.677280773133134\n",
      "\n",
      "35+PR_85,266\n",
      "rxn_type : Molecular formation from one new bond A+B -> C\n",
      "bipartite : 1\n",
      "energy : -0.22466630381916275\n",
      "free_energy : -5.419295590128058\n",
      "\n",
      "35+PR_110,272\n",
      "rxn_type : Molecular formation from one new bond A+B -> C\n",
      "bipartite : 1\n",
      "energy : 0.035147995982981683\n",
      "free_energy : 1.5389052533855647\n",
      "\n",
      "35+PR_111,273\n",
      "rxn_type : Molecular formation from one new bond A+B -> C\n",
      "bipartite : 1\n",
      "energy : -0.003021144133015241\n",
      "free_energy : 0.506495419375824\n",
      "\n",
      "35+PR_112,275\n",
      "rxn_type : Molecular formation from one new bond A+B -> C\n",
      "bipartite : 1\n",
      "energy : -0.10835874865495043\n",
      "free_energy : -2.3196596442903683\n",
      "\n",
      "35+PR_114,276\n",
      "rxn_type : Molecular formation from one new bond A+B -> C\n",
      "bipartite : 1\n",
      "energy : -0.19861929595100491\n",
      "free_energy : -4.78348967886177\n",
      "\n",
      "35+PR_113,277\n",
      "rxn_type : Molecular formation from one new bond A+B -> C\n",
      "bipartite : 1\n",
      "energy : -0.13435457311697974\n",
      "free_energy : -3.0546462737775073\n",
      "\n",
      "35+PR_130,326\n",
      "rxn_type : Molecular formation from one new bond A+B -> C\n",
      "bipartite : 1\n",
      "energy : 0.01744904905842759\n",
      "free_energy : 1.0640205930594675\n",
      "\n",
      "35+PR_130,327\n",
      "rxn_type : Molecular formation from one new bond A+B -> C\n",
      "bipartite : 1\n",
      "energy : -0.0024895478505868596\n",
      "free_energy : 0.5150728289136168\n",
      "\n",
      "35+PR_131,328\n",
      "rxn_type : Molecular formation from one new bond A+B -> C\n",
      "bipartite : 1\n",
      "energy : -0.18378053471269595\n",
      "free_energy : -4.256173747096\n",
      "\n",
      "35+PR_144,335\n",
      "rxn_type : Molecular formation from one new bond A+B -> C\n",
      "bipartite : 1\n",
      "energy : 0.018114971014028924\n",
      "free_energy : 1.091550310794446\n",
      "\n",
      "35+PR_143,336\n",
      "rxn_type : Molecular formation from one new bond A+B -> C\n",
      "bipartite : 1\n",
      "energy : 0.005612446843997532\n",
      "free_energy : 0.746859304447753\n",
      "\n",
      "35+PR_145,337\n",
      "rxn_type : Molecular formation from one new bond A+B -> C\n",
      "bipartite : 1\n",
      "energy : 0.008755247783028608\n",
      "free_energy : 0.7747678247078511\n",
      "\n",
      "35+PR_146,338\n",
      "rxn_type : Molecular formation from one new bond A+B -> C\n",
      "bipartite : 1\n",
      "energy : -0.0829565871050022\n",
      "free_energy : -1.6193377208264792\n",
      "\n",
      "35+PR_156,391\n",
      "rxn_type : Molecular formation from one new bond A+B -> C\n",
      "bipartite : 1\n",
      "energy : 0.039454803968737906\n",
      "free_energy : 1.6112176416418151\n",
      "\n",
      "35+PR_157,392\n",
      "rxn_type : Molecular formation from one new bond A+B -> C\n",
      "bipartite : 1\n",
      "energy : -0.12289546357101244\n",
      "free_energy : -2.7591982695312254\n",
      "\n",
      "35+PR_165,396\n",
      "rxn_type : Molecular formation from one new bond A+B -> C\n",
      "bipartite : 1\n",
      "energy : 0.06389469921799673\n",
      "free_energy : 2.287730620365437\n",
      "\n",
      "35+PR_166,398\n",
      "rxn_type : Molecular formation from one new bond A+B -> C\n",
      "bipartite : 1\n",
      "energy : -0.0872696604169505\n",
      "free_energy : -1.8089230077057437\n",
      "\n",
      "35+PR_174,426\n",
      "rxn_type : Molecular formation from one new bond A+B -> C\n",
      "bipartite : 1\n",
      "energy : -0.011977299035038413\n",
      "free_energy : 0.4109861028591695\n",
      "\n",
      "35+PR_45,439\n",
      "rxn_type : Molecular formation from one new bond A+B -> C\n",
      "bipartite : 1\n",
      "energy : -0.23059920007119672\n",
      "free_energy : -5.744997425357724\n",
      "\n",
      "35+PR_46,441\n",
      "rxn_type : Molecular formation from one new bond A+B -> C\n",
      "bipartite : 1\n",
      "energy : -0.36082362196555096\n",
      "free_energy : -9.310191553518052\n",
      "\n",
      "35+PR_186,443\n",
      "rxn_type : Molecular formation from one new bond A+B -> C\n",
      "bipartite : 1\n",
      "energy : -0.12863918477700054\n",
      "free_energy : -2.9582504302870802\n",
      "\n",
      "35+PR_187,444\n",
      "rxn_type : Molecular formation from one new bond A+B -> C\n",
      "bipartite : 1\n",
      "energy : -0.24998099894298775\n",
      "free_energy : -6.284780875337674\n",
      "\n",
      "35+PR_392,458\n",
      "rxn_type : Molecular formation from one new bond A+B -> C\n",
      "bipartite : 1\n",
      "energy : 0.023801988866978263\n",
      "free_energy : 1.3784994251245735\n",
      "\n",
      "35,43+473\n",
      "rxn_type : Coordination bond breaking AM -> A+M\n",
      "bipartite : 1\n",
      "energy : 0.15821331573300768\n",
      "free_energy : 3.8583645932158106\n",
      "\n"
     ]
    }
   ],
   "source": [
    "for neighbor in list(RN.graph.neighbors(35)):\n",
    "    print(neighbor)\n",
    "    for key in RN.graph.node[neighbor]:\n",
    "        print(key,\":\",RN.graph.node[neighbor][key])\n",
    "    print()"
   ]
  },
  {
   "cell_type": "code",
   "execution_count": 25,
   "metadata": {},
   "outputs": [
    {
     "data": {
      "application/vnd.jupyter.widget-view+json": {
       "model_id": "ec7ac498e7f84cf8adb1958cc27a94bf",
       "version_major": 2,
       "version_minor": 0
      },
      "text/plain": [
       "Renderer(background='white', camera=OrthographicCamera(bottom=-3.2421475638, left=-3.2421475638, near=-2000.0,…"
      ]
     },
     "metadata": {},
     "output_type": "display_data"
    },
    {
     "name": "stdout",
     "output_type": "stream",
     "text": [
      "-1\n"
     ]
    },
    {
     "data": {
      "text/plain": [
       "-7389.618314120459"
      ]
     },
     "execution_count": 25,
     "metadata": {},
     "output_type": "execute_result"
    }
   ],
   "source": [
    "ind=35\n",
    "view(RN.entries_list[ind].molecule,bonding_strategy=\"OpenBabelNN\")\n",
    "print(RN.entries_list[ind].charge)\n",
    "RN.entries_list[ind].free_energy"
   ]
  },
  {
   "cell_type": "code",
   "execution_count": 27,
   "metadata": {},
   "outputs": [
    {
     "name": "stdout",
     "output_type": "stream",
     "text": [
      "122,123\n",
      "rxn_type : One electron oxidation\n",
      "bipartite : 1\n",
      "energy : 0.1816016427779914\n",
      "free_energy : 2.7270388301945787\n",
      "\n",
      "122,119\n",
      "rxn_type : Intramolecular single bond breakage\n",
      "bipartite : 1\n",
      "energy : 0.13608182594003893\n",
      "free_energy : 3.5303255496419297\n",
      "\n",
      "122+PR_4115,3\n",
      "rxn_type : Molecular formation from one new bond A+B -> C\n",
      "bipartite : 1\n",
      "energy : -0.5128249622669756\n",
      "free_energy : -13.560052950197132\n",
      "\n",
      "122+PR_4139,4\n",
      "rxn_type : Molecular formation from one new bond A+B -> C\n",
      "bipartite : 1\n",
      "energy : -0.18390994963908724\n",
      "free_energy : -4.429906424613364\n",
      "\n",
      "122+PR_4174,29\n",
      "rxn_type : Molecular formation from one new bond A+B -> C\n",
      "bipartite : 1\n",
      "energy : -0.0505612299340078\n",
      "free_energy : -0.7976820247390233\n",
      "\n",
      "122+PR_4175,31\n",
      "rxn_type : Molecular formation from one new bond A+B -> C\n",
      "bipartite : 1\n",
      "energy : -0.2965126610809995\n",
      "free_energy : -7.776907541486449\n",
      "\n",
      "122+PR_4175,32\n",
      "rxn_type : Molecular formation from one new bond A+B -> C\n",
      "bipartite : 1\n",
      "energy : -0.2892071166939906\n",
      "free_energy : -7.61447432186034\n",
      "\n",
      "122+PR_4184,37\n",
      "rxn_type : Molecular formation from one new bond A+B -> C\n",
      "bipartite : 1\n",
      "energy : -0.36766997722865824\n",
      "free_energy : -9.38289883053767\n",
      "\n",
      "122,117+4210\n",
      "rxn_type : Molecular decomposition breaking one bond A->B+C\n",
      "bipartite : 1\n",
      "energy : 0.35794579207203014\n",
      "free_energy : 9.213829847470151\n",
      "\n",
      "122,118+4209\n",
      "rxn_type : Molecular decomposition breaking one bond A->B+C\n",
      "bipartite : 1\n",
      "energy : 0.2016542032849884\n",
      "free_energy : 4.987704475838655\n",
      "\n",
      "122+PR_6,209\n",
      "rxn_type : Molecular formation from one new bond A+B -> C\n",
      "bipartite : 1\n",
      "energy : -0.09198700893955447\n",
      "free_energy : -1.9750776559694714\n",
      "\n",
      "122+PR_6,210\n",
      "rxn_type : Molecular formation from one new bond A+B -> C\n",
      "bipartite : 1\n",
      "energy : -0.09441645627055095\n",
      "free_energy : -2.026401738522509\n",
      "\n",
      "122+PR_7,214\n",
      "rxn_type : Molecular formation from one new bond A+B -> C\n",
      "bipartite : 1\n",
      "energy : -0.26247726442579733\n",
      "free_energy : -6.570088676106934\n",
      "\n",
      "122+PR_7,216\n",
      "rxn_type : Molecular formation from one new bond A+B -> C\n",
      "bipartite : 1\n",
      "energy : -0.263785856735808\n",
      "free_energy : -6.63231131435623\n",
      "\n",
      "122+PR_12,272\n",
      "rxn_type : Molecular formation from one new bond A+B -> C\n",
      "bipartite : 1\n",
      "energy : -0.07828602213498925\n",
      "free_energy : -1.5509617951438486\n",
      "\n",
      "122+PR_59,367\n",
      "rxn_type : Molecular formation from one new bond A+B -> C\n",
      "bipartite : 1\n",
      "energy : -0.08418082530636184\n",
      "free_energy : -1.6316199625734953\n",
      "\n",
      "122+PR_59,368\n",
      "rxn_type : Molecular formation from one new bond A+B -> C\n",
      "bipartite : 1\n",
      "energy : -0.080678768982402\n",
      "free_energy : -1.5486483060899445\n",
      "\n",
      "122+PR_60,375\n",
      "rxn_type : Molecular formation from one new bond A+B -> C\n",
      "bipartite : 1\n",
      "energy : -0.23063117589828153\n",
      "free_energy : -5.613209291536805\n",
      "\n",
      "122+PR_60,376\n",
      "rxn_type : Molecular formation from one new bond A+B -> C\n",
      "bipartite : 1\n",
      "energy : -0.22540313837026815\n",
      "free_energy : -5.48955465873496\n",
      "\n",
      "122+PR_1,735\n",
      "rxn_type : Molecular formation from one new bond A+B -> C\n",
      "bipartite : 1\n",
      "energy : -0.09482671983096225\n",
      "free_energy : -2.187678564867383\n",
      "\n",
      "122+PR_1,736\n",
      "rxn_type : Molecular formation from one new bond A+B -> C\n",
      "bipartite : 1\n",
      "energy : -0.11660353652297317\n",
      "free_energy : -2.8114916984304728\n",
      "\n",
      "122+PR_2,740\n",
      "rxn_type : Molecular formation from one new bond A+B -> C\n",
      "bipartite : 1\n",
      "energy : -0.25620975050100014\n",
      "free_energy : -6.598167568574354\n",
      "\n",
      "122+PR_112,765\n",
      "rxn_type : Molecular formation from one new bond A+B -> C\n",
      "bipartite : 1\n",
      "energy : -0.07124206365796226\n",
      "free_energy : -1.5183401222611792\n",
      "\n",
      "122+PR_163,843\n",
      "rxn_type : Molecular formation from one new bond A+B -> C\n",
      "bipartite : 1\n",
      "energy : -0.06946986101655739\n",
      "free_energy : -1.3268254275526488\n",
      "\n",
      "122+PR_163,844\n",
      "rxn_type : Molecular formation from one new bond A+B -> C\n",
      "bipartite : 1\n",
      "energy : -0.05104137686157628\n",
      "free_energy : -0.897825464872767\n",
      "\n",
      "122+PR_164,852\n",
      "rxn_type : Molecular formation from one new bond A+B -> C\n",
      "bipartite : 1\n",
      "energy : -0.35348143398420007\n",
      "free_energy : -8.975276402924464\n",
      "\n",
      "122+PR_164,853\n",
      "rxn_type : Molecular formation from one new bond A+B -> C\n",
      "bipartite : 1\n",
      "energy : -0.28329152286420367\n",
      "free_energy : -7.1394497449482515\n",
      "\n",
      "122+PR_284,871\n",
      "rxn_type : Molecular formation from one new bond A+B -> C\n",
      "bipartite : 1\n",
      "energy : -0.03111544590694848\n",
      "free_energy : -0.23493072279597982\n",
      "\n",
      "122+PR_283,873\n",
      "rxn_type : Molecular formation from one new bond A+B -> C\n",
      "bipartite : 1\n",
      "energy : -0.056839169277964174\n",
      "free_energy : -0.9893593840488393\n",
      "\n",
      "122+PR_287,875\n",
      "rxn_type : Molecular formation from one new bond A+B -> C\n",
      "bipartite : 1\n",
      "energy : -0.27258555618493574\n",
      "free_energy : -6.766971331727291\n",
      "\n",
      "122+PR_285,876\n",
      "rxn_type : Molecular formation from one new bond A+B -> C\n",
      "bipartite : 1\n",
      "energy : -0.2368848824539782\n",
      "free_energy : -5.777390589153583\n",
      "\n",
      "122+PR_285,879\n",
      "rxn_type : Molecular formation from one new bond A+B -> C\n",
      "bipartite : 1\n",
      "energy : -0.23169170899296887\n",
      "free_energy : -5.668196909638937\n",
      "\n",
      "122+PR_167,905\n",
      "rxn_type : Molecular formation from one new bond A+B -> C\n",
      "bipartite : 1\n",
      "energy : 0.0492314848614086\n",
      "free_energy : 1.794611069624807\n",
      "\n",
      "122+PR_168,907\n",
      "rxn_type : Molecular formation from one new bond A+B -> C\n",
      "bipartite : 1\n",
      "energy : -0.09015161112318992\n",
      "free_energy : -2.0072439402611053\n",
      "\n",
      "122+PR_168,908\n",
      "rxn_type : Molecular formation from one new bond A+B -> C\n",
      "bipartite : 1\n",
      "energy : -0.10422194814117347\n",
      "free_energy : -2.3772135130511742\n",
      "\n",
      "122+PR_174,920\n",
      "rxn_type : Molecular formation from one new bond A+B -> C\n",
      "bipartite : 1\n",
      "energy : 0.053722711868999795\n",
      "free_energy : 1.9605905517973952\n",
      "\n",
      "122+PR_304,1068\n",
      "rxn_type : Molecular formation from one new bond A+B -> C\n",
      "bipartite : 1\n",
      "energy : -0.004681024853198323\n",
      "free_energy : 0.4379984790457456\n",
      "\n",
      "122+PR_304,1070\n",
      "rxn_type : Molecular formation from one new bond A+B -> C\n",
      "bipartite : 1\n",
      "energy : 0.009194958990860869\n",
      "free_energy : 0.7690979258686639\n",
      "\n",
      "122+PR_305,1073\n",
      "rxn_type : Molecular formation from one new bond A+B -> C\n",
      "bipartite : 1\n",
      "energy : -0.05750397154406528\n",
      "free_energy : -0.9245066300727558\n",
      "\n",
      "122+PR_306,1078\n",
      "rxn_type : Molecular formation from one new bond A+B -> C\n",
      "bipartite : 1\n",
      "energy : -0.1557762240148577\n",
      "free_energy : -3.677280773133134\n",
      "\n",
      "122+PR_307,1079\n",
      "rxn_type : Molecular formation from one new bond A+B -> C\n",
      "bipartite : 1\n",
      "energy : -0.22466630381916275\n",
      "free_energy : -5.419295590128058\n",
      "\n",
      "122+PR_306,1088\n",
      "rxn_type : Molecular formation from one new bond A+B -> C\n",
      "bipartite : 1\n",
      "energy : -0.1512113157828594\n",
      "free_energy : -3.5685407027585825\n",
      "\n",
      "122+PR_459,1115\n",
      "rxn_type : Molecular formation from one new bond A+B -> C\n",
      "bipartite : 1\n",
      "energy : 0.035147995982981683\n",
      "free_energy : 1.5389052533855647\n",
      "\n",
      "122+PR_460,1116\n",
      "rxn_type : Molecular formation from one new bond A+B -> C\n",
      "bipartite : 1\n",
      "energy : -0.003021144133015241\n",
      "free_energy : 0.506495419375824\n",
      "\n",
      "122+PR_461,1122\n",
      "rxn_type : Molecular formation from one new bond A+B -> C\n",
      "bipartite : 1\n",
      "energy : -0.10835874865495043\n",
      "free_energy : -2.3196596442903683\n",
      "\n",
      "122+PR_463,1123\n",
      "rxn_type : Molecular formation from one new bond A+B -> C\n",
      "bipartite : 1\n",
      "energy : -0.19861929595100491\n",
      "free_energy : -4.78348967886177\n",
      "\n",
      "122+PR_462,1125\n",
      "rxn_type : Molecular formation from one new bond A+B -> C\n",
      "bipartite : 1\n",
      "energy : -0.13435457311697974\n",
      "free_energy : -3.0546462737775073\n",
      "\n",
      "122+PR_311,1163\n",
      "rxn_type : Molecular formation from one new bond A+B -> C\n",
      "bipartite : 1\n",
      "energy : -0.008125748195666915\n",
      "free_energy : 0.4243904323420793\n",
      "\n",
      "122+PR_313,1166\n",
      "rxn_type : Molecular formation from one new bond A+B -> C\n",
      "bipartite : 1\n",
      "energy : -0.046145192267303514\n",
      "free_energy : -0.6493276223391149\n",
      "\n",
      "122+PR_322,1187\n",
      "rxn_type : Molecular formation from one new bond A+B -> C\n",
      "bipartite : 1\n",
      "energy : -0.010690491182970163\n",
      "free_energy : 0.3144282287939859\n",
      "\n",
      "122+PR_489,1369\n",
      "rxn_type : Molecular formation from one new bond A+B -> C\n",
      "bipartite : 1\n",
      "energy : 0.01744904905842759\n",
      "free_energy : 1.0640205930594675\n",
      "\n",
      "122+PR_489,1373\n",
      "rxn_type : Molecular formation from one new bond A+B -> C\n",
      "bipartite : 1\n",
      "energy : -0.0024895478505868596\n",
      "free_energy : 0.5150728289136168\n",
      "\n",
      "122+PR_489,1376\n",
      "rxn_type : Molecular formation from one new bond A+B -> C\n",
      "bipartite : 1\n",
      "energy : -0.0005452404915899933\n",
      "free_energy : 0.6098775741484133\n",
      "\n",
      "122+PR_492,1379\n",
      "rxn_type : Molecular formation from one new bond A+B -> C\n",
      "bipartite : 1\n",
      "energy : -0.18378053471269595\n",
      "free_energy : -4.256173747096\n",
      "\n",
      "122+PR_492,1385\n",
      "rxn_type : Molecular formation from one new bond A+B -> C\n",
      "bipartite : 1\n",
      "energy : -0.1788434976726876\n",
      "free_energy : -4.143070970402732\n",
      "\n",
      "122+PR_584,1409\n",
      "rxn_type : Molecular formation from one new bond A+B -> C\n",
      "bipartite : 1\n",
      "energy : 0.018114971014028924\n",
      "free_energy : 1.091550310794446\n",
      "\n",
      "122+PR_582,1410\n",
      "rxn_type : Molecular formation from one new bond A+B -> C\n",
      "bipartite : 1\n",
      "energy : 0.005612446843997532\n",
      "free_energy : 0.746859304447753\n",
      "\n",
      "122+PR_585,1411\n",
      "rxn_type : Molecular formation from one new bond A+B -> C\n",
      "bipartite : 1\n",
      "energy : 0.008755247783028608\n",
      "free_energy : 0.7747678247078511\n",
      "\n",
      "122+PR_587,1413\n",
      "rxn_type : Molecular formation from one new bond A+B -> C\n",
      "bipartite : 1\n",
      "energy : -0.0829565871050022\n",
      "free_energy : -1.6193377208264792\n",
      "\n",
      "122+PR_495,1448\n",
      "rxn_type : Molecular formation from one new bond A+B -> C\n",
      "bipartite : 1\n",
      "energy : -0.039777012412898216\n",
      "free_energy : -0.4661233137912859\n",
      "\n",
      "122+PR_500,1464\n",
      "rxn_type : Molecular formation from one new bond A+B -> C\n",
      "bipartite : 1\n",
      "energy : 0.10339172128800556\n",
      "free_energy : 3.413883608589458\n",
      "\n",
      "122+PR_609,1643\n",
      "rxn_type : Molecular formation from one new bond A+B -> C\n",
      "bipartite : 1\n",
      "energy : 0.039454803968737906\n",
      "free_energy : 1.6112176416418151\n",
      "\n",
      "122+PR_609,1648\n",
      "rxn_type : Molecular formation from one new bond A+B -> C\n",
      "bipartite : 1\n",
      "energy : 0.02698870428673672\n",
      "free_energy : 1.297595656374142\n",
      "\n",
      "122+PR_611,1650\n",
      "rxn_type : Molecular formation from one new bond A+B -> C\n",
      "bipartite : 1\n",
      "energy : -0.12289546357101244\n",
      "free_energy : -2.7591982695312254\n",
      "\n",
      "122+PR_611,1656\n",
      "rxn_type : Molecular formation from one new bond A+B -> C\n",
      "bipartite : 1\n",
      "energy : -0.11734674101596454\n",
      "free_energy : -2.6348015494868378\n",
      "\n",
      "122+PR_667,1673\n",
      "rxn_type : Molecular formation from one new bond A+B -> C\n",
      "bipartite : 1\n",
      "energy : 0.06389469921799673\n",
      "free_energy : 2.287730620365437\n",
      "\n",
      "122+PR_669,1675\n",
      "rxn_type : Molecular formation from one new bond A+B -> C\n",
      "bipartite : 1\n",
      "energy : -0.0872696604169505\n",
      "free_energy : -1.8089230077057437\n",
      "\n",
      "122+PR_613,1697\n",
      "rxn_type : Molecular formation from one new bond A+B -> C\n",
      "bipartite : 1\n",
      "energy : 0.015192383564411216\n",
      "free_energy : 1.042803175899735\n",
      "\n",
      "122+PR_614,1700\n",
      "rxn_type : Molecular formation from one new bond A+B -> C\n",
      "bipartite : 1\n",
      "energy : -0.013829020969453154\n",
      "free_energy : 0.21160545868633562\n",
      "\n",
      "122+PR_618,1708\n",
      "rxn_type : Molecular formation from one new bond A+B -> C\n",
      "bipartite : 1\n",
      "energy : -0.016613965320971147\n",
      "free_energy : 0.3472875916349949\n",
      "\n",
      "122+PR_685,1824\n",
      "rxn_type : Molecular formation from one new bond A+B -> C\n",
      "bipartite : 1\n",
      "energy : -0.14510586090614197\n",
      "free_energy : -3.265088111399564\n",
      "\n",
      "122+PR_702,1830\n",
      "rxn_type : Molecular formation from one new bond A+B -> C\n",
      "bipartite : 1\n",
      "energy : -0.011977299035038413\n",
      "free_energy : 0.4109861028591695\n",
      "\n",
      "122+PR_160,1930\n",
      "rxn_type : Molecular formation from one new bond A+B -> C\n",
      "bipartite : 1\n",
      "energy : -0.23059920007119672\n",
      "free_energy : -5.744997425357724\n",
      "\n",
      "122+PR_161,1932\n",
      "rxn_type : Molecular formation from one new bond A+B -> C\n",
      "bipartite : 1\n",
      "energy : -0.36082362196555096\n",
      "free_energy : -9.310191553518052\n",
      "\n",
      "122+PR_769,1942\n",
      "rxn_type : Molecular formation from one new bond A+B -> C\n",
      "bipartite : 1\n",
      "energy : -0.12863918477700054\n",
      "free_energy : -2.9582504302870802\n",
      "\n",
      "122+PR_770,1943\n",
      "rxn_type : Molecular formation from one new bond A+B -> C\n",
      "bipartite : 1\n",
      "energy : -0.24998099894298775\n",
      "free_energy : -6.284780875337674\n",
      "\n",
      "122+PR_716,1951\n",
      "rxn_type : Molecular formation from one new bond A+B -> C\n",
      "bipartite : 1\n",
      "energy : -0.009012421169302343\n",
      "free_energy : 0.2667776343409969\n",
      "\n",
      "122+PR_717,1952\n",
      "rxn_type : Molecular formation from one new bond A+B -> C\n",
      "bipartite : 1\n",
      "energy : -0.2798330446119053\n",
      "free_energy : -7.040472124193002\n",
      "\n",
      "122+PR_723,1955\n",
      "rxn_type : Molecular formation from one new bond A+B -> C\n",
      "bipartite : 1\n",
      "energy : -0.1857983086640047\n",
      "free_energy : -4.4363162221879975\n",
      "\n",
      "122+PR_936,2006\n",
      "rxn_type : Molecular formation from one new bond A+B -> C\n",
      "bipartite : 1\n",
      "energy : -0.047843528265985924\n",
      "free_energy : -0.7473604174001593\n",
      "\n",
      "122+PR_946,2007\n",
      "rxn_type : Molecular formation from one new bond A+B -> C\n",
      "bipartite : 1\n",
      "energy : -0.035515785596999194\n",
      "free_energy : -0.40070098765772855\n",
      "\n",
      "122+PR_945,2008\n",
      "rxn_type : Molecular formation from one new bond A+B -> C\n",
      "bipartite : 1\n",
      "energy : -0.09531557601093255\n",
      "free_energy : -1.9492026385505596\n",
      "\n",
      "122+PR_944,2009\n",
      "rxn_type : Molecular formation from one new bond A+B -> C\n",
      "bipartite : 1\n",
      "energy : -0.07894998419300236\n",
      "free_energy : -1.5718797081271987\n",
      "\n",
      "122+PR_853,2017\n",
      "rxn_type : Molecular formation from one new bond A+B -> C\n",
      "bipartite : 1\n",
      "energy : -0.0771151681059905\n",
      "free_energy : -1.4332172418253322\n",
      "\n",
      "122+PR_852,2017\n",
      "rxn_type : Molecular formation from one new bond A+B -> C\n",
      "bipartite : 1\n",
      "energy : -0.0069252569859941104\n",
      "free_energy : 0.40260941614997137\n",
      "\n",
      "122+PR_1222,2139\n",
      "rxn_type : Molecular formation from one new bond A+B -> C\n",
      "bipartite : 1\n",
      "energy : -0.025784608182050306\n",
      "free_energy : -0.13242484340662486\n",
      "\n",
      "122+PR_1223,2140\n",
      "rxn_type : Molecular formation from one new bond A+B -> C\n",
      "bipartite : 1\n",
      "energy : -0.08924288878296238\n",
      "free_energy : -1.7971708069617307\n",
      "\n",
      "122+PR_1226,2143\n",
      "rxn_type : Molecular formation from one new bond A+B -> C\n",
      "bipartite : 1\n",
      "energy : -0.14624284595396375\n",
      "free_energy : -3.3209117172018523\n",
      "\n",
      "122+PR_1225,2144\n",
      "rxn_type : Molecular formation from one new bond A+B -> C\n",
      "bipartite : 1\n",
      "energy : -0.1997700395479569\n",
      "free_energy : -4.769596024144448\n",
      "\n",
      "122+PR_1244,2152\n",
      "rxn_type : Molecular formation from one new bond A+B -> C\n",
      "bipartite : 1\n",
      "energy : -0.022730949660910937\n",
      "free_energy : -0.05121688881445152\n",
      "\n",
      "122+PR_1243,2153\n",
      "rxn_type : Molecular formation from one new bond A+B -> C\n",
      "bipartite : 1\n",
      "energy : -0.08858831685694213\n",
      "free_energy : -1.7804465666267788\n",
      "\n",
      "122+PR_1519,2371\n",
      "rxn_type : Molecular formation from one new bond A+B -> C\n",
      "bipartite : 1\n",
      "energy : -0.08506205891001173\n",
      "free_energy : -1.6386999569767795\n",
      "\n",
      "122+PR_1550,2381\n",
      "rxn_type : Molecular formation from one new bond A+B -> C\n",
      "bipartite : 1\n",
      "energy : -0.08873897975092859\n",
      "free_energy : -1.793364663311877\n",
      "\n",
      "122+PR_1379,2405\n",
      "rxn_type : Molecular formation from one new bond A+B -> C\n",
      "bipartite : 1\n",
      "energy : 0.05568103619202702\n",
      "free_energy : 2.0986973768167445\n",
      "\n",
      "122+PR_1581,2692\n",
      "rxn_type : Molecular formation from one new bond A+B -> C\n",
      "bipartite : 1\n",
      "energy : -0.06695361175600567\n",
      "free_energy : -1.1638151520651263\n",
      "\n",
      "122+PR_1582,2693\n",
      "rxn_type : Molecular formation from one new bond A+B -> C\n",
      "bipartite : 1\n",
      "energy : 0.02422603649200994\n",
      "free_energy : 1.2524506524728167\n",
      "\n",
      "122+PR_1581,2695\n",
      "rxn_type : Molecular formation from one new bond A+B -> C\n",
      "bipartite : 1\n",
      "energy : -0.0737976448859996\n",
      "free_energy : -1.4815164477872713\n",
      "\n",
      "122+PR_1589,2699\n",
      "rxn_type : Molecular formation from one new bond A+B -> C\n",
      "bipartite : 1\n",
      "energy : -0.05557884601100227\n",
      "free_energy : -0.8336689532702621\n",
      "\n",
      "122+PR_1747,2704\n",
      "rxn_type : Molecular formation from one new bond A+B -> C\n",
      "bipartite : 1\n",
      "energy : 0.043726222473083\n",
      "free_energy : 1.7524477596962242\n",
      "\n",
      "122+PR_1764,2711\n",
      "rxn_type : Molecular formation from one new bond A+B -> C\n",
      "bipartite : 1\n",
      "energy : 0.043625489196983835\n",
      "free_energy : 1.7652962346419372\n",
      "\n",
      "122+PR_1650,2743\n",
      "rxn_type : Molecular formation from one new bond A+B -> C\n",
      "bipartite : 1\n",
      "energy : 0.023801988866978263\n",
      "free_energy : 1.3784994251245735\n",
      "\n",
      "122+PR_1801,3055\n",
      "rxn_type : Molecular formation from one new bond A+B -> C\n",
      "bipartite : 1\n",
      "energy : 0.013166506343011974\n",
      "free_energy : 1.029350615214753\n",
      "\n",
      "122+PR_1804,3056\n",
      "rxn_type : Molecular formation from one new bond A+B -> C\n",
      "bipartite : 1\n",
      "energy : -0.13077007990699485\n",
      "free_energy : -2.9319538848812954\n",
      "\n",
      "122+PR_1857,3060\n",
      "rxn_type : Molecular formation from one new bond A+B -> C\n",
      "bipartite : 1\n",
      "energy : -0.1671318966809281\n",
      "free_energy : -3.9101966334319513\n",
      "\n",
      "122+PR_1865,3062\n",
      "rxn_type : Molecular formation from one new bond A+B -> C\n",
      "bipartite : 1\n",
      "energy : -0.011873361118944104\n",
      "free_energy : 0.40845910513962735\n",
      "\n",
      "122+PR_1868,3063\n",
      "rxn_type : Molecular formation from one new bond A+B -> C\n",
      "bipartite : 1\n",
      "energy : -0.1670506979669426\n",
      "free_energy : -3.9327284908122238\n",
      "\n",
      "122+PR_1967,3725\n",
      "rxn_type : Molecular formation from one new bond A+B -> C\n",
      "bipartite : 1\n",
      "energy : -0.23540888581396757\n",
      "free_energy : -5.798305784344848\n",
      "\n",
      "122+PR_3272,3744\n",
      "rxn_type : Molecular formation from one new bond A+B -> C\n",
      "bipartite : 1\n",
      "energy : 0.025698321848039996\n",
      "free_energy : 1.2130457480188852\n",
      "\n",
      "122+PR_3399,3760\n",
      "rxn_type : Molecular formation from one new bond A+B -> C\n",
      "bipartite : 1\n",
      "energy : 0.047435313297029325\n",
      "free_energy : 1.8658430677496654\n",
      "\n",
      "122+PR_3393,3762\n",
      "rxn_type : Molecular formation from one new bond A+B -> C\n",
      "bipartite : 1\n",
      "energy : 0.012838069457018264\n",
      "free_energy : 0.9822605283707162\n",
      "\n",
      "122+PR_3412,3766\n",
      "rxn_type : Molecular formation from one new bond A+B -> C\n",
      "bipartite : 1\n",
      "energy : -0.15152467418198512\n",
      "free_energy : -3.481314483877213\n",
      "\n",
      "122+PR_3410,3767\n",
      "rxn_type : Molecular formation from one new bond A+B -> C\n",
      "bipartite : 1\n",
      "energy : -0.11137199450200796\n",
      "free_energy : -2.456964814836283\n",
      "\n",
      "122+PR_3411,3768\n",
      "rxn_type : Molecular formation from one new bond A+B -> C\n",
      "bipartite : 1\n",
      "energy : -0.12469957078297966\n",
      "free_energy : -2.769389727836824\n",
      "\n",
      "122+PR_3524,3779\n",
      "rxn_type : Molecular formation from one new bond A+B -> C\n",
      "bipartite : 1\n",
      "energy : -0.013631907283979672\n",
      "free_energy : 0.39473598759832385\n",
      "\n",
      "122+PR_3591,3786\n",
      "rxn_type : Molecular formation from one new bond A+B -> C\n",
      "bipartite : 1\n",
      "energy : 0.0038246818579921182\n",
      "free_energy : 0.6625165752684552\n",
      "\n",
      "122+PR_3586,3788\n",
      "rxn_type : Molecular formation from one new bond A+B -> C\n",
      "bipartite : 1\n",
      "energy : -0.014798041283000885\n",
      "free_energy : 0.3388824064777509\n",
      "\n",
      "122+PR_3595,3789\n",
      "rxn_type : Molecular formation from one new bond A+B -> C\n",
      "bipartite : 1\n",
      "energy : -0.14503616708495315\n",
      "free_energy : -3.3074386387243067\n",
      "\n",
      "122+PR_3651,3848\n",
      "rxn_type : Molecular formation from one new bond A+B -> C\n",
      "bipartite : 1\n",
      "energy : -0.13886015689897135\n",
      "free_energy : -3.151521030346885\n",
      "\n",
      "122+PR_3818,3922\n",
      "rxn_type : Molecular formation from one new bond A+B -> C\n",
      "bipartite : 1\n",
      "energy : -0.12340990522005768\n",
      "free_energy : -2.6963749236037984\n",
      "\n",
      "122+PR_3819,3924\n",
      "rxn_type : Molecular formation from one new bond A+B -> C\n",
      "bipartite : 1\n",
      "energy : -0.05489095700704638\n",
      "free_energy : -0.8122040286707488\n",
      "\n",
      "122+PR_3858,3976\n",
      "rxn_type : Molecular formation from one new bond A+B -> C\n",
      "bipartite : 1\n",
      "energy : 0.055417395509039125\n",
      "free_energy : 2.0530188886041287\n",
      "\n",
      "122+PR_3874,3983\n",
      "rxn_type : Molecular formation from one new bond A+B -> C\n",
      "bipartite : 1\n",
      "energy : 0.054897666160002245\n",
      "free_energy : 2.05684563307841\n",
      "\n",
      "122+PR_3848,3989\n",
      "rxn_type : Molecular formation from one new bond A+B -> C\n",
      "bipartite : 1\n",
      "energy : -0.012925732446944949\n",
      "free_energy : 0.39615119690188294\n",
      "\n",
      "122+PR_3901,4075\n",
      "rxn_type : Molecular formation from one new bond A+B -> C\n",
      "bipartite : 1\n",
      "energy : -0.013701317300956362\n",
      "free_energy : 0.37656836141832173\n",
      "\n",
      "122+PR_3903,4076\n",
      "rxn_type : Molecular formation from one new bond A+B -> C\n",
      "bipartite : 1\n",
      "energy : -0.14154302191099077\n",
      "free_energy : -3.195368883316405\n",
      "\n"
     ]
    }
   ],
   "source": [
    "for neighbor in list(RN.graph.neighbors(122)):\n",
    "    print(neighbor)\n",
    "    for key in RN.graph.node[neighbor]:\n",
    "        print(key,\":\",RN.graph.node[neighbor][key])\n",
    "    print()"
   ]
  },
  {
   "cell_type": "code",
   "execution_count": 24,
   "metadata": {},
   "outputs": [
    {
     "data": {
      "application/vnd.jupyter.widget-view+json": {
       "model_id": "6f97067365c5465785b6a997fd359b98",
       "version_major": 2,
       "version_minor": 0
      },
      "text/plain": [
       "Renderer(background='white', camera=OrthographicCamera(bottom=-4.10976211932, left=-4.10976211932, near=-2000.…"
      ]
     },
     "metadata": {},
     "output_type": "display_data"
    },
    {
     "name": "stdout",
     "output_type": "stream",
     "text": [
      "0\n"
     ]
    },
    {
     "data": {
      "text/plain": [
       "-4166.604920618956"
      ]
     },
     "execution_count": 24,
     "metadata": {},
     "output_type": "execute_result"
    }
   ],
   "source": [
    "ind=145\n",
    "view(RN.entries_list[ind].molecule,bonding_strategy=\"OpenBabelNN\")\n",
    "print(RN.entries_list[ind].charge)\n",
    "RN.entries_list[ind].free_energy"
   ]
  },
  {
   "cell_type": "code",
   "execution_count": 48,
   "metadata": {},
   "outputs": [
    {
     "name": "stdout",
     "output_type": "stream",
     "text": [
      "145,144\n",
      "rxn_type : One electron reduction\n",
      "bipartite : 1\n",
      "energy : -0.04817687610102439\n",
      "free_energy : 0.8217637178089716\n",
      "\n",
      "145+PR_5,265\n",
      "rxn_type : Molecular formation from one new bond A+B -> C\n",
      "bipartite : 1\n",
      "energy : -0.06064451272959559\n",
      "free_energy : -1.095008192156456\n",
      "\n",
      "145+PR_48,275\n",
      "rxn_type : Molecular formation from one new bond A+B -> C\n",
      "bipartite : 1\n",
      "energy : -0.046755706438034395\n",
      "free_energy : -0.6612801349838264\n",
      "\n",
      "145+PR_90,448\n",
      "rxn_type : Molecular formation from one new bond A+B -> C\n",
      "bipartite : 1\n",
      "energy : -0.07923878441999932\n",
      "free_energy : -1.5156640899449485\n",
      "\n",
      "145+PR_151,766\n",
      "rxn_type : Molecular formation from one new bond A+B -> C\n",
      "bipartite : 1\n",
      "energy : -0.03331586886201876\n",
      "free_energy : -0.4402560319958866\n",
      "\n",
      "145+PR_611,1706\n",
      "rxn_type : Molecular formation from one new bond A+B -> C\n",
      "bipartite : 1\n",
      "energy : -0.07314353301801191\n",
      "free_energy : -1.437030540590058\n",
      "\n",
      "145+PR_768,1957\n",
      "rxn_type : Molecular formation from one new bond A+B -> C\n",
      "bipartite : 1\n",
      "energy : -0.032917536861020835\n",
      "free_energy : -0.37438903586280503\n",
      "\n"
     ]
    }
   ],
   "source": [
    "for neighbor in list(RN.graph.neighbors(145)):\n",
    "    print(neighbor)\n",
    "    for key in RN.graph.node[neighbor]:\n",
    "        print(key,\":\",RN.graph.node[neighbor][key])\n",
    "    print()"
   ]
  },
  {
   "cell_type": "code",
   "execution_count": 26,
   "metadata": {},
   "outputs": [
    {
     "data": {
      "application/vnd.jupyter.widget-view+json": {
       "model_id": "e1ad3e0965ec4491b4c8571a03bc3a9e",
       "version_major": 2,
       "version_minor": 0
      },
      "text/plain": [
       "Renderer(background='white', camera=OrthographicCamera(bottom=-4.32244975896, left=-4.32244975896, near=-2000.…"
      ]
     },
     "metadata": {},
     "output_type": "display_data"
    },
    {
     "name": "stdout",
     "output_type": "stream",
     "text": [
      "0\n"
     ]
    },
    {
     "data": {
      "text/plain": [
       "-7199.132174674312"
      ]
     },
     "execution_count": 26,
     "metadata": {},
     "output_type": "execute_result"
    }
   ],
   "source": [
    "ind=448\n",
    "view(RN.entries_list[ind].molecule,bonding_strategy=\"OpenBabelNN\")\n",
    "print(RN.entries_list[ind].charge)\n",
    "RN.entries_list[ind].free_energy"
   ]
  },
  {
   "cell_type": "code",
   "execution_count": 68,
   "metadata": {
    "scrolled": true
   },
   "outputs": [
    {
     "name": "stdout",
     "output_type": "stream",
     "text": [
      "42 entries\n"
     ]
    }
   ],
   "source": [
    "from atomate.qchem.database import QChemCalcDb\n",
    "db_file = \"/Users/samuelblau/Desktop/moldb.json\"\n",
    "mmdb = QChemCalcDb.from_db_file(db_file, admin=True)\n",
    "target_entries = list(mmdb.collection.find({\"formula_alphabetical\": \"C3 H4 Li1 O3\", \"environment\":\"smd_18.5,1.415,0.00,0.735,20.2,0.00,0.00\", \"molecule.charge\":0}))\n",
    "print(len(target_entries),\"entries\")"
   ]
  },
  {
   "cell_type": "code",
   "execution_count": 69,
   "metadata": {},
   "outputs": [
    {
     "data": {
      "application/vnd.jupyter.widget-view+json": {
       "model_id": "00a2854ea7fb41feaf6a4b542d7f70c4",
       "version_major": 2,
       "version_minor": 0
      },
      "text/plain": [
       "Renderer(background='white', camera=OrthographicCamera(bottom=-6.7520014130399995, left=-6.7520014130399995, n…"
      ]
     },
     "metadata": {},
     "output_type": "display_data"
    },
    {
     "name": "stdout",
     "output_type": "stream",
     "text": [
      "-9522.907225166065\n"
     ]
    },
    {
     "data": {
      "application/vnd.jupyter.widget-view+json": {
       "model_id": "766c80884aeb4411ae3d109e6eeef6e7",
       "version_major": 2,
       "version_minor": 0
      },
      "text/plain": [
       "Renderer(background='white', camera=OrthographicCamera(bottom=-6.345321399, left=-6.345321399, near=-2000.0, p…"
      ]
     },
     "metadata": {},
     "output_type": "display_data"
    },
    {
     "name": "stdout",
     "output_type": "stream",
     "text": [
      "-9522.915866743\n"
     ]
    },
    {
     "data": {
      "application/vnd.jupyter.widget-view+json": {
       "model_id": "a710e5e6976c4f5491ec9356d038c9bb",
       "version_major": 2,
       "version_minor": 0
      },
      "text/plain": [
       "Renderer(background='white', camera=OrthographicCamera(bottom=-5.747266307399999, left=-5.747266307399999, nea…"
      ]
     },
     "metadata": {},
     "output_type": "display_data"
    },
    {
     "name": "stdout",
     "output_type": "stream",
     "text": [
      "-9522.910459666015\n"
     ]
    },
    {
     "data": {
      "application/vnd.jupyter.widget-view+json": {
       "model_id": "c3113f7acbe34b39bdbc4ebc3e102aff",
       "version_major": 2,
       "version_minor": 0
      },
      "text/plain": [
       "Renderer(background='white', camera=OrthographicCamera(bottom=-5.481361358759999, left=-5.481361358759999, nea…"
      ]
     },
     "metadata": {},
     "output_type": "display_data"
    },
    {
     "name": "stdout",
     "output_type": "stream",
     "text": [
      "-9521.165683566644\n"
     ]
    },
    {
     "data": {
      "application/vnd.jupyter.widget-view+json": {
       "model_id": "be0ce1eb61f341efaa67aef1a911119a",
       "version_major": 2,
       "version_minor": 0
      },
      "text/plain": [
       "Renderer(background='white', camera=OrthographicCamera(bottom=-5.9815620532799985, left=-5.9815620532799985, n…"
      ]
     },
     "metadata": {},
     "output_type": "display_data"
    },
    {
     "name": "stdout",
     "output_type": "stream",
     "text": [
      "-9519.451255353304\n"
     ]
    },
    {
     "data": {
      "application/vnd.jupyter.widget-view+json": {
       "model_id": "0c5e8e0ca1884fb9922670c744ba3cc2",
       "version_major": 2,
       "version_minor": 0
      },
      "text/plain": [
       "Renderer(background='white', camera=OrthographicCamera(bottom=-5.78969922084, left=-5.78969922084, near=-2000.…"
      ]
     },
     "metadata": {},
     "output_type": "display_data"
    },
    {
     "name": "stdout",
     "output_type": "stream",
     "text": [
      "-9520.761378906058\n"
     ]
    },
    {
     "data": {
      "application/vnd.jupyter.widget-view+json": {
       "model_id": "98f551fb8bb14eff836416c772d7ac74",
       "version_major": 2,
       "version_minor": 0
      },
      "text/plain": [
       "Renderer(background='white', camera=OrthographicCamera(bottom=-4.8660667664399995, left=-4.8660667664399995, n…"
      ]
     },
     "metadata": {},
     "output_type": "display_data"
    },
    {
     "name": "stdout",
     "output_type": "stream",
     "text": [
      "-9521.321821890897\n"
     ]
    },
    {
     "data": {
      "application/vnd.jupyter.widget-view+json": {
       "model_id": "6cf942809f5c46be95fd0c260509a2d1",
       "version_major": 2,
       "version_minor": 0
      },
      "text/plain": [
       "Renderer(background='white', camera=OrthographicCamera(bottom=-5.8842301599599995, left=-5.8842301599599995, n…"
      ]
     },
     "metadata": {},
     "output_type": "display_data"
    },
    {
     "name": "stdout",
     "output_type": "stream",
     "text": [
      "-9521.02180880624\n"
     ]
    },
    {
     "data": {
      "application/vnd.jupyter.widget-view+json": {
       "model_id": "6e11a67b8364419ca0a4055feda36020",
       "version_major": 2,
       "version_minor": 0
      },
      "text/plain": [
       "Renderer(background='white', camera=OrthographicCamera(bottom=-5.997065711279999, left=-5.997065711279999, nea…"
      ]
     },
     "metadata": {},
     "output_type": "display_data"
    },
    {
     "name": "stdout",
     "output_type": "stream",
     "text": [
      "-9522.79217418019\n"
     ]
    },
    {
     "data": {
      "application/vnd.jupyter.widget-view+json": {
       "model_id": "671210eb2f7a496da74b9395b245c144",
       "version_major": 2,
       "version_minor": 0
      },
      "text/plain": [
       "Renderer(background='white', camera=OrthographicCamera(bottom=-5.25161342988, left=-5.25161342988, near=-2000.…"
      ]
     },
     "metadata": {},
     "output_type": "display_data"
    },
    {
     "name": "stdout",
     "output_type": "stream",
     "text": [
      "-9522.793398675867\n"
     ]
    },
    {
     "data": {
      "application/vnd.jupyter.widget-view+json": {
       "model_id": "143f662e27534b32980939d500d2be32",
       "version_major": 2,
       "version_minor": 0
      },
      "text/plain": [
       "Renderer(background='white', camera=OrthographicCamera(bottom=-5.694379358279999, left=-5.694379358279999, nea…"
      ]
     },
     "metadata": {},
     "output_type": "display_data"
    },
    {
     "name": "stdout",
     "output_type": "stream",
     "text": [
      "-9520.254088505073\n"
     ]
    },
    {
     "data": {
      "application/vnd.jupyter.widget-view+json": {
       "model_id": "bde406df4faa46159b338b1dc7a7f9d9",
       "version_major": 2,
       "version_minor": 0
      },
      "text/plain": [
       "Renderer(background='white', camera=OrthographicCamera(bottom=-6.880989580199999, left=-6.880989580199999, nea…"
      ]
     },
     "metadata": {},
     "output_type": "display_data"
    },
    {
     "name": "stdout",
     "output_type": "stream",
     "text": [
      "-9521.633556072684\n"
     ]
    },
    {
     "data": {
      "application/vnd.jupyter.widget-view+json": {
       "model_id": "26b92aa385884bddbbeae60c0987f57c",
       "version_major": 2,
       "version_minor": 0
      },
      "text/plain": [
       "Renderer(background='white', camera=OrthographicCamera(bottom=-5.723501999999999, left=-5.723501999999999, nea…"
      ]
     },
     "metadata": {},
     "output_type": "display_data"
    },
    {
     "name": "stdout",
     "output_type": "stream",
     "text": [
      "-9521.564251504658\n"
     ]
    },
    {
     "data": {
      "application/vnd.jupyter.widget-view+json": {
       "model_id": "32f21648f3ee4fa1b3e6609c9dfa3b6a",
       "version_major": 2,
       "version_minor": 0
      },
      "text/plain": [
       "Renderer(background='white', camera=OrthographicCamera(bottom=-6.3198172463999995, left=-6.3198172463999995, n…"
      ]
     },
     "metadata": {},
     "output_type": "display_data"
    },
    {
     "name": "stdout",
     "output_type": "stream",
     "text": [
      "-9523.160892899512\n"
     ]
    },
    {
     "data": {
      "application/vnd.jupyter.widget-view+json": {
       "model_id": "6cdba96f8b1a4636b8b359bce16d529e",
       "version_major": 2,
       "version_minor": 0
      },
      "text/plain": [
       "Renderer(background='white', camera=OrthographicCamera(bottom=-6.1823179905600005, left=-6.1823179905600005, n…"
      ]
     },
     "metadata": {},
     "output_type": "display_data"
    },
    {
     "name": "stdout",
     "output_type": "stream",
     "text": [
      "-9519.130240550618\n"
     ]
    },
    {
     "data": {
      "application/vnd.jupyter.widget-view+json": {
       "model_id": "11f912dbda8d4e838ca12a4c7d095e81",
       "version_major": 2,
       "version_minor": 0
      },
      "text/plain": [
       "Renderer(background='white', camera=OrthographicCamera(bottom=-5.697452137319999, left=-5.697452137319999, nea…"
      ]
     },
     "metadata": {},
     "output_type": "display_data"
    },
    {
     "name": "stdout",
     "output_type": "stream",
     "text": [
      "-9519.233612835582\n"
     ]
    },
    {
     "data": {
      "application/vnd.jupyter.widget-view+json": {
       "model_id": "79ca86bb1782444487db80e756c203d0",
       "version_major": 2,
       "version_minor": 0
      },
      "text/plain": [
       "Renderer(background='white', camera=OrthographicCamera(bottom=-6.73055056452, left=-6.73055056452, near=-2000.…"
      ]
     },
     "metadata": {},
     "output_type": "display_data"
    },
    {
     "name": "stdout",
     "output_type": "stream",
     "text": [
      "-9519.260893243896\n"
     ]
    },
    {
     "data": {
      "application/vnd.jupyter.widget-view+json": {
       "model_id": "c4773ba285164292b507fe5221370803",
       "version_major": 2,
       "version_minor": 0
      },
      "text/plain": [
       "Renderer(background='white', camera=OrthographicCamera(bottom=-6.395083735079999, left=-6.395083735079999, nea…"
      ]
     },
     "metadata": {},
     "output_type": "display_data"
    },
    {
     "name": "stdout",
     "output_type": "stream",
     "text": [
      "-9519.13926938885\n"
     ]
    },
    {
     "data": {
      "application/vnd.jupyter.widget-view+json": {
       "model_id": "a34ea75286ea40cebca743b223ef35f0",
       "version_major": 2,
       "version_minor": 0
      },
      "text/plain": [
       "Renderer(background='white', camera=OrthographicCamera(bottom=-6.05375783676, left=-6.05375783676, near=-2000.…"
      ]
     },
     "metadata": {},
     "output_type": "display_data"
    },
    {
     "name": "stdout",
     "output_type": "stream",
     "text": [
      "-9519.61225697823\n"
     ]
    },
    {
     "data": {
      "application/vnd.jupyter.widget-view+json": {
       "model_id": "3415e88ad5394bd0bc7be3070c265cf6",
       "version_major": 2,
       "version_minor": 0
      },
      "text/plain": [
       "Renderer(background='white', camera=OrthographicCamera(bottom=-6.45509309076, left=-6.45509309076, near=-2000.…"
      ]
     },
     "metadata": {},
     "output_type": "display_data"
    },
    {
     "name": "stdout",
     "output_type": "stream",
     "text": [
      "-9518.944902183022\n"
     ]
    },
    {
     "data": {
      "application/vnd.jupyter.widget-view+json": {
       "model_id": "4395763ee5154273a7f6b44192b680bd",
       "version_major": 2,
       "version_minor": 0
      },
      "text/plain": [
       "Renderer(background='white', camera=OrthographicCamera(bottom=-6.56331476592, left=-6.56331476592, near=-2000.…"
      ]
     },
     "metadata": {},
     "output_type": "display_data"
    },
    {
     "name": "stdout",
     "output_type": "stream",
     "text": [
      "-9518.949798690532\n"
     ]
    },
    {
     "data": {
      "application/vnd.jupyter.widget-view+json": {
       "model_id": "ca415c641199457e98b40db590967708",
       "version_major": 2,
       "version_minor": 0
      },
      "text/plain": [
       "Renderer(background='white', camera=OrthographicCamera(bottom=-5.91618453972, left=-5.91618453972, near=-2000.…"
      ]
     },
     "metadata": {},
     "output_type": "display_data"
    },
    {
     "name": "stdout",
     "output_type": "stream",
     "text": [
      "-9523.041741546922\n"
     ]
    },
    {
     "data": {
      "application/vnd.jupyter.widget-view+json": {
       "model_id": "f56068d452b54c1c9800eceab929519a",
       "version_major": 2,
       "version_minor": 0
      },
      "text/plain": [
       "Renderer(background='white', camera=OrthographicCamera(bottom=-5.645246468519999, left=-5.645246468519999, nea…"
      ]
     },
     "metadata": {},
     "output_type": "display_data"
    },
    {
     "name": "stdout",
     "output_type": "stream",
     "text": [
      "-9519.700407985327\n"
     ]
    },
    {
     "data": {
      "application/vnd.jupyter.widget-view+json": {
       "model_id": "636176fb9e7b4560b0744d2d5ad65dff",
       "version_major": 2,
       "version_minor": 0
      },
      "text/plain": [
       "Renderer(background='white', camera=OrthographicCamera(bottom=-6.81176563812, left=-6.81176563812, near=-2000.…"
      ]
     },
     "metadata": {},
     "output_type": "display_data"
    },
    {
     "name": "stdout",
     "output_type": "stream",
     "text": [
      "-9518.763363746766\n"
     ]
    },
    {
     "data": {
      "application/vnd.jupyter.widget-view+json": {
       "model_id": "00fc7e4b19974a53917afc8bb0f27a2e",
       "version_major": 2,
       "version_minor": 0
      },
      "text/plain": [
       "Renderer(background='white', camera=OrthographicCamera(bottom=-6.6561864137999995, left=-6.6561864137999995, n…"
      ]
     },
     "metadata": {},
     "output_type": "display_data"
    },
    {
     "name": "stdout",
     "output_type": "stream",
     "text": [
      "-9520.292842156787\n"
     ]
    },
    {
     "data": {
      "application/vnd.jupyter.widget-view+json": {
       "model_id": "f6941b50d99f4969873cfa6b836fe5fb",
       "version_major": 2,
       "version_minor": 0
      },
      "text/plain": [
       "Renderer(background='white', camera=OrthographicCamera(bottom=-5.949568537799999, left=-5.949568537799999, nea…"
      ]
     },
     "metadata": {},
     "output_type": "display_data"
    },
    {
     "name": "stdout",
     "output_type": "stream",
     "text": [
      "-9519.494686091059\n"
     ]
    },
    {
     "data": {
      "application/vnd.jupyter.widget-view+json": {
       "model_id": "bf5e1cee6434461ba938184b19e32970",
       "version_major": 2,
       "version_minor": 0
      },
      "text/plain": [
       "Renderer(background='white', camera=OrthographicCamera(bottom=-7.27076544228, left=-7.27076544228, near=-2000.…"
      ]
     },
     "metadata": {},
     "output_type": "display_data"
    },
    {
     "name": "stdout",
     "output_type": "stream",
     "text": [
      "-9520.752748758012\n"
     ]
    },
    {
     "data": {
      "application/vnd.jupyter.widget-view+json": {
       "model_id": "8bffa27e1f5d40028068a0879ee1dc7c",
       "version_major": 2,
       "version_minor": 0
      },
      "text/plain": [
       "Renderer(background='white', camera=OrthographicCamera(bottom=-6.673858932599999, left=-6.673858932599999, nea…"
      ]
     },
     "metadata": {},
     "output_type": "display_data"
    },
    {
     "name": "stdout",
     "output_type": "stream",
     "text": [
      "-9518.748204551022\n"
     ]
    }
   ],
   "source": [
    "for entry in target_entries:\n",
    "    if len(entry[\"bonds\"]) == 11:\n",
    "        view_old(Molecule.from_dict(entry[\"molecule\"]),bonding_strategy=\"OpenBabelNN\")\n",
    "        print(entry[\"free_energy\"])"
   ]
  },
  {
   "cell_type": "code",
   "execution_count": 73,
   "metadata": {},
   "outputs": [
    {
     "name": "stdout",
     "output_type": "stream",
     "text": [
      "4 entries\n"
     ]
    }
   ],
   "source": [
    "from atomate.qchem.database import QChemCalcDb\n",
    "db_file = \"/Users/samuelblau/Desktop/mol_hetal_db.json\"\n",
    "mmdb = QChemCalcDb.from_db_file(db_file, admin=True)\n",
    "minus_entries = list(mmdb.collection.find({\"formula_alphabetical\": \"C3 H5 Li1 O4\", \"environment\":\"smd_18.5,1.415,0.00,0.735,20.2,0.00,0.00\", \"molecule.charge\":0}))\n",
    "print(len(minus_entries),\"entries\")"
   ]
  },
  {
   "cell_type": "code",
   "execution_count": 74,
   "metadata": {},
   "outputs": [
    {
     "data": {
      "application/vnd.jupyter.widget-view+json": {
       "model_id": "ec41b8d17014447c8b0c8e596d148a2c",
       "version_major": 2,
       "version_minor": 0
      },
      "text/plain": [
       "Renderer(background='white', camera=OrthographicCamera(bottom=-6.6942235752, left=-6.6942235752, near=-2000.0,…"
      ]
     },
     "metadata": {},
     "output_type": "display_data"
    },
    {
     "name": "stdout",
     "output_type": "stream",
     "text": [
      "-11586.852662876116\n"
     ]
    },
    {
     "data": {
      "application/vnd.jupyter.widget-view+json": {
       "model_id": "7d9ed3b496a1493d862617a2a8df68e7",
       "version_major": 2,
       "version_minor": 0
      },
      "text/plain": [
       "Renderer(background='white', camera=OrthographicCamera(bottom=-8.21378872128, left=-8.21378872128, near=-2000.…"
      ]
     },
     "metadata": {},
     "output_type": "display_data"
    },
    {
     "name": "stdout",
     "output_type": "stream",
     "text": [
      "-11587.839161760392\n"
     ]
    },
    {
     "data": {
      "application/vnd.jupyter.widget-view+json": {
       "model_id": "47cd64bd42c445ccba810791d25c86f8",
       "version_major": 2,
       "version_minor": 0
      },
      "text/plain": [
       "Renderer(background='white', camera=OrthographicCamera(bottom=-5.804452683959999, left=-5.804452683959999, nea…"
      ]
     },
     "metadata": {},
     "output_type": "display_data"
    },
    {
     "name": "stdout",
     "output_type": "stream",
     "text": [
      "-11586.918897659294\n"
     ]
    },
    {
     "data": {
      "application/vnd.jupyter.widget-view+json": {
       "model_id": "0871386d2751474ea6aa907a30ce84ab",
       "version_major": 2,
       "version_minor": 0
      },
      "text/plain": [
       "Renderer(background='white', camera=OrthographicCamera(bottom=-6.0211612703999995, left=-6.0211612703999995, n…"
      ]
     },
     "metadata": {},
     "output_type": "display_data"
    },
    {
     "name": "stdout",
     "output_type": "stream",
     "text": [
      "-11586.974976056468\n"
     ]
    }
   ],
   "source": [
    "for entry in minus_entries:\n",
    "    view_old(Molecule.from_dict(entry[\"molecule\"]),bonding_strategy=\"OpenBabelNN\")\n",
    "    print(entry[\"free_energy\"])"
   ]
  },
  {
   "cell_type": "code",
   "execution_count": null,
   "metadata": {},
   "outputs": [],
   "source": []
  }
 ],
 "metadata": {
  "kernelspec": {
   "display_name": "Python 3",
   "language": "python",
   "name": "python3"
  },
  "language_info": {
   "codemirror_mode": {
    "name": "ipython",
    "version": 3
   },
   "file_extension": ".py",
   "mimetype": "text/x-python",
   "name": "python",
   "nbconvert_exporter": "python",
   "pygments_lexer": "ipython3",
   "version": "3.7.3"
  }
 },
 "nbformat": 4,
 "nbformat_minor": 2
}
