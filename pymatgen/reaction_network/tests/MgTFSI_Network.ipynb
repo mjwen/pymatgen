{
 "cells": [
  {
   "cell_type": "code",
   "execution_count": 1,
   "metadata": {},
   "outputs": [],
   "source": [
    "import os\n",
    "import unittest\n",
    "import time\n",
    "import copy\n",
    "from pymatgen.core.structure import Molecule\n",
    "from pymatgen.analysis.graphs import MoleculeGraph\n",
    "from pymatgen.analysis.local_env import OpenBabelNN\n",
    "from pymatgen.util.testing import PymatgenTest\n",
    "from pymatgen.analysis.reaction_network.reaction_network import ReactionNetwork\n",
    "from pymatgen.analysis.fragmenter import Fragmenter, metal_edge_extender\n",
    "from pymatgen.entries.mol_entry import MoleculeEntry\n",
    "from monty.serialization import loadfn\n",
    "import openbabel as ob\n",
    "import networkx as nx"
   ]
  },
  {
   "cell_type": "code",
   "execution_count": 2,
   "metadata": {},
   "outputs": [],
   "source": [
    "from crystal_toolkit.helpers.pythreejs_renderer import view_old"
   ]
  },
  {
   "cell_type": "code",
   "execution_count": 3,
   "metadata": {},
   "outputs": [],
   "source": [
    "# prod_entries = []\n",
    "# entries = loadfn(\"/Users/samuelblau/Desktop/MgTFSI_entries.json\")\n",
    "# for entry in entries:\n",
    "#     if \"optimized_molecule\" in entry[\"output\"]:\n",
    "#         mol = entry[\"output\"][\"optimized_molecule\"]\n",
    "#     else:\n",
    "#         mol = entry[\"output\"][\"initial_molecule\"]\n",
    "#     H = float(entry[\"output\"][\"enthalpy\"])\n",
    "#     S = float(entry[\"output\"][\"entropy\"])\n",
    "#     E = float(entry[\"output\"][\"final_energy\"])\n",
    "#     mol_entry = MoleculeEntry(molecule=mol,energy=E,enthalpy=H,entropy=S,entry_id=entry[\"task_id\"])\n",
    "#     prod_entries.append(mol_entry)\n",
    "prod_entries = loadfn(\"/Users/samuelblau/Desktop/thf_production_mol_entries.json\")"
   ]
  },
  {
   "cell_type": "code",
   "execution_count": 4,
   "metadata": {},
   "outputs": [
    {
     "name": "stdout",
     "output_type": "stream",
     "text": [
      "13922 input entries\n",
      "12790 connected entries\n",
      "12790 entries not checked for uniqueness\n",
      "Missing H3O+, will not add concerted water splitting rxn1\n",
      "Adding concerted water splitting rxn2: 2H2O + 2e- -> H2 + 2OH-\n",
      "Water rxn2 free energy = 1.3072923625704789\n"
     ]
    }
   ],
   "source": [
    "RN = ReactionNetwork(prod_entries, electron_free_energy=-2.0)\n",
    "# RN = loadfn(\"/Users/samuelblau/Desktop/prod_RN.json\")\n",
    "#\n",
    "# NOTE: this notebook was made while isomorphism checking was turned off in the reaction network constructor\n",
    "#"
   ]
  },
  {
   "cell_type": "code",
   "execution_count": 6,
   "metadata": {},
   "outputs": [
    {
     "name": "stdout",
     "output_type": "stream",
     "text": [
      "MgTFSI +1 potential inds:\n",
      "4237\n",
      "4238\n",
      "4239\n",
      "4240\n",
      "4241\n",
      "4242\n",
      "\n",
      "Mg(TFSI)2 0 potential inds:\n",
      "8059\n",
      "\n",
      "Mg(TFSI)(THF) +1 potential inds:\n",
      "12281\n",
      "12282\n",
      "\n"
     ]
    }
   ],
   "source": [
    "print(\"MgTFSI +1 potential inds:\")\n",
    "for entry in RN.entries[\"C2 F6 Mg1 N1 O4 S2\"][16][1]:\n",
    "    print(entry.parameters[\"ind\"])\n",
    "print()\n",
    "print(\"Mg(TFSI)2 0 potential inds:\")\n",
    "for entry in RN.entries[\"C4 F12 Mg1 N2 O8 S4\"][32][0]:\n",
    "    print(entry.parameters[\"ind\"])\n",
    "print()\n",
    "print(\"Mg(TFSI)(THF) +1 potential inds:\")\n",
    "for entry in RN.entries[\"C6 F6 H8 Mg1 N1 O5 S2\"][30][1]:\n",
    "    print(entry.parameters[\"ind\"])\n",
    "print()\n"
   ]
  },
  {
   "cell_type": "code",
   "execution_count": 21,
   "metadata": {},
   "outputs": [
    {
     "data": {
      "application/vnd.jupyter.widget-view+json": {
       "model_id": "27b53973b3ff49fb9d1fd8eddea5a62a",
       "version_major": 2,
       "version_minor": 0
      },
      "text/plain": [
       "Renderer(background='white', camera=OrthographicCamera(bottom=-7.3170024603599995, left=-7.3170024603599995, n…"
      ]
     },
     "metadata": {},
     "output_type": "display_data"
    },
    {
     "name": "stdout",
     "output_type": "stream",
     "text": [
      "1\n"
     ]
    },
    {
     "data": {
      "text/plain": [
       "-55162.184516301924"
      ]
     },
     "execution_count": 21,
     "metadata": {},
     "output_type": "execute_result"
    }
   ],
   "source": [
    "ind=4237\n",
    "view_old(RN.entries_list[ind].molecule,bonding_strategy=\"OpenBabelNN\")\n",
    "print(RN.entries_list[ind].charge)\n",
    "# print(RN.entries_list[ind].entry_id)\n",
    "RN.entries_list[ind].free_energy"
   ]
  },
  {
   "cell_type": "code",
   "execution_count": 22,
   "metadata": {},
   "outputs": [
    {
     "data": {
      "application/vnd.jupyter.widget-view+json": {
       "model_id": "12ecdfdc406f4816afc8eefcbaf35be3",
       "version_major": 2,
       "version_minor": 0
      },
      "text/plain": [
       "Renderer(background='white', camera=OrthographicCamera(bottom=-8.56283845104, left=-8.56283845104, near=-2000.…"
      ]
     },
     "metadata": {},
     "output_type": "display_data"
    },
    {
     "name": "stdout",
     "output_type": "stream",
     "text": [
      "1\n"
     ]
    },
    {
     "data": {
      "text/plain": [
       "-55162.219714430394"
      ]
     },
     "execution_count": 22,
     "metadata": {},
     "output_type": "execute_result"
    }
   ],
   "source": [
    "ind=4238\n",
    "view_old(RN.entries_list[ind].molecule,bonding_strategy=\"OpenBabelNN\")\n",
    "print(RN.entries_list[ind].charge)\n",
    "# print(RN.entries_list[ind].entry_id)\n",
    "RN.entries_list[ind].free_energy"
   ]
  },
  {
   "cell_type": "code",
   "execution_count": 41,
   "metadata": {},
   "outputs": [
    {
     "name": "stdout",
     "output_type": "stream",
     "text": [
      "4237,4234\n",
      "rxn_type : One electron reduction\n",
      "bipartite : 1\n",
      "energy : -0.15066736328003572\n",
      "free_energy : -2.1196495237891213\n",
      "\n",
      "4237,4235\n",
      "rxn_type : One electron reduction\n",
      "bipartite : 1\n",
      "energy : -0.15188676324987682\n",
      "free_energy : -2.1649997522254125\n",
      "\n",
      "4237,4243\n",
      "rxn_type : One electron oxidation\n",
      "bipartite : 1\n",
      "energy : 0.36065995500007375\n",
      "free_energy : 7.6796192285983125\n",
      "\n",
      "4237,4207+12772\n",
      "rxn_type : Molecular decomposition breaking one bond A -> B+C\n",
      "bipartite : 1\n",
      "energy : 1.4788755124800446\n",
      "free_energy : 39.653874015079055\n",
      "\n",
      "4237,4211+12771\n",
      "rxn_type : Molecular decomposition breaking one bond A -> B+C\n",
      "bipartite : 1\n",
      "energy : 0.5822565273899727\n",
      "free_energy : 15.337556567101274\n",
      "\n",
      "4237,4214+12770\n",
      "rxn_type : Molecular decomposition breaking one bond A -> B+C\n",
      "bipartite : 1\n",
      "energy : 0.2648276901600184\n",
      "free_energy : 6.721877282674541\n",
      "\n",
      "4237,4219+12769\n",
      "rxn_type : Molecular decomposition breaking one bond A -> B+C\n",
      "bipartite : 1\n",
      "energy : 0.3480959862702093\n",
      "free_energy : 8.877280117034388\n",
      "\n",
      "4237,891+1037\n",
      "rxn_type : Molecular decomposition breaking one bond A -> B+C\n",
      "bipartite : 1\n",
      "energy : 0.6381754741471468\n",
      "free_energy : 16.626399158965796\n",
      "\n",
      "4237,889+1051\n",
      "rxn_type : Molecular decomposition breaking one bond A -> B+C\n",
      "bipartite : 1\n",
      "energy : 0.10963069691092642\n",
      "free_energy : 2.309045230074844\n",
      "\n",
      "4237,888+1058\n",
      "rxn_type : Molecular decomposition breaking one bond A -> B+C\n",
      "bipartite : 1\n",
      "energy : 0.25807195205902644\n",
      "free_energy : 6.279588498407975\n",
      "\n",
      "4237,3811+12290\n",
      "rxn_type : Molecular decomposition breaking one bond A -> B+C\n",
      "bipartite : 1\n",
      "energy : 1.491869336319951\n",
      "free_energy : 40.113316632305214\n",
      "\n",
      "4237,3817+12289\n",
      "rxn_type : Molecular decomposition breaking one bond A -> B+C\n",
      "bipartite : 1\n",
      "energy : 0.6125022334001642\n",
      "free_energy : 16.228120385792863\n",
      "\n",
      "4237,3821+12288\n",
      "rxn_type : Molecular decomposition breaking one bond A -> B+C\n",
      "bipartite : 1\n",
      "energy : 0.1953174734701406\n",
      "free_energy : 4.846491238567978\n",
      "\n",
      "4237,3823+12287\n",
      "rxn_type : Molecular decomposition breaking one bond A -> B+C\n",
      "bipartite : 1\n",
      "energy : 0.23298624546009705\n",
      "free_energy : 5.865611892033485\n",
      "\n",
      "4237+PR_12768,4296\n",
      "rxn_type : Molecular formation from one new bond A+B -> C\n",
      "bipartite : 1\n",
      "energy : -0.2918973613798954\n",
      "free_energy : -7.62520287884422\n",
      "\n",
      "4237+PR_12773,4311\n",
      "rxn_type : Molecular formation from one new bond A+B -> C\n",
      "bipartite : 1\n",
      "energy : -0.24485479237006302\n",
      "free_energy : -6.232928254950821\n",
      "\n",
      "4237+PR_12775,4322\n",
      "rxn_type : Molecular formation from one new bond A+B -> C\n",
      "bipartite : 1\n",
      "energy : -0.033622699999739325\n",
      "free_energy : -0.47711376036386355\n",
      "\n",
      "4237+PR_12778,4355\n",
      "rxn_type : Molecular formation from one new bond A+B -> C\n",
      "bipartite : 1\n",
      "energy : -0.009126626208711741\n",
      "free_energy : 0.13927630631724242\n",
      "\n",
      "4237+PR_12780,4358\n",
      "rxn_type : Molecular formation from one new bond A+B -> C\n",
      "bipartite : 1\n",
      "energy : -0.22638779573185275\n",
      "free_energy : -5.641209062274356\n",
      "\n",
      "4237+PR_12782,4369\n",
      "rxn_type : Molecular formation from one new bond A+B -> C\n",
      "bipartite : 1\n",
      "energy : -0.03252401945701422\n",
      "free_energy : -0.3433111146896408\n",
      "\n",
      "4237+PR_12714,4513\n",
      "rxn_type : Molecular formation from one new bond A+B -> C\n",
      "bipartite : 1\n",
      "energy : -0.03719332069692882\n",
      "free_energy : -0.5295428151584929\n",
      "\n",
      "4237+PR_12729,4546\n",
      "rxn_type : Molecular formation from one new bond A+B -> C\n",
      "bipartite : 1\n",
      "energy : -0.02218011755905991\n",
      "free_energy : -0.2323056980749243\n",
      "\n",
      "4237+PR_12747,4573\n",
      "rxn_type : Molecular formation from one new bond A+B -> C\n",
      "bipartite : 1\n",
      "energy : -0.03817144446020393\n",
      "free_energy : -0.6624766810637084\n",
      "\n",
      "4237+PR_12748,4576\n",
      "rxn_type : Molecular formation from one new bond A+B -> C\n",
      "bipartite : 1\n",
      "energy : 0.019500433770190284\n",
      "free_energy : 0.9890918360069918\n",
      "\n",
      "4237+PR_12753,4598\n",
      "rxn_type : Molecular formation from one new bond A+B -> C\n",
      "bipartite : 1\n",
      "energy : -0.01306219778984996\n",
      "free_energy : 0.22769592150871176\n",
      "\n",
      "4237+PR_1619,5716\n",
      "rxn_type : Molecular formation from one new bond A+B -> C\n",
      "bipartite : 1\n",
      "energy : -0.26153289452405204\n",
      "free_energy : -6.536520040610867\n",
      "\n",
      "4237+PR_1620,5717\n",
      "rxn_type : Molecular formation from one new bond A+B -> C\n",
      "bipartite : 1\n",
      "energy : -0.15680246387469765\n",
      "free_energy : -3.6949300219525867\n",
      "\n",
      "4237+PR_1621,5718\n",
      "rxn_type : Molecular formation from one new bond A+B -> C\n",
      "bipartite : 1\n",
      "energy : -0.0334432380379468\n",
      "free_energy : -0.4369660577194736\n",
      "\n",
      "4237+PR_1689,5733\n",
      "rxn_type : Molecular formation from one new bond A+B -> C\n",
      "bipartite : 1\n",
      "energy : -0.24829395040212887\n",
      "free_energy : -6.207264632849274\n",
      "\n",
      "4237+PR_1691,5734\n",
      "rxn_type : Molecular formation from one new bond A+B -> C\n",
      "bipartite : 1\n",
      "energy : -0.05267028135473595\n",
      "free_energy : -0.9804709020186237\n",
      "\n",
      "4237+PR_873,5753\n",
      "rxn_type : Molecular formation from one new bond A+B -> C\n",
      "bipartite : 1\n",
      "energy : -0.24431208891917322\n",
      "free_energy : -6.061235401921294\n",
      "\n",
      "4237+PR_874,5755\n",
      "rxn_type : Molecular formation from one new bond A+B -> C\n",
      "bipartite : 1\n",
      "energy : -0.13124551111093297\n",
      "free_energy : -3.0524652189451444\n",
      "\n",
      "4237+PR_875,5756\n",
      "rxn_type : Molecular formation from one new bond A+B -> C\n",
      "bipartite : 1\n",
      "energy : -0.06116988791575295\n",
      "free_energy : -1.2506876521365484\n",
      "\n",
      "4237+PR_879,5761\n",
      "rxn_type : Molecular formation from one new bond A+B -> C\n",
      "bipartite : 1\n",
      "energy : -0.11134187337904677\n",
      "free_energy : -2.475967861333629\n",
      "\n",
      "4237+PR_880,5763\n",
      "rxn_type : Molecular formation from one new bond A+B -> C\n",
      "bipartite : 1\n",
      "energy : 0.010986458702291202\n",
      "free_energy : 0.8175426205089025\n",
      "\n",
      "4237+PR_805,5799\n",
      "rxn_type : Molecular formation from one new bond A+B -> C\n",
      "bipartite : 1\n",
      "energy : 0.014235867346087616\n",
      "free_energy : 0.8829142263057292\n",
      "\n",
      "4237+PR_830,5817\n",
      "rxn_type : Molecular formation from one new bond A+B -> C\n",
      "bipartite : 1\n",
      "energy : 0.015271975330051646\n",
      "free_energy : 0.9949421579694899\n",
      "\n",
      "4237+PR_1574,5871\n",
      "rxn_type : Molecular formation from one new bond A+B -> C\n",
      "bipartite : 1\n",
      "energy : -0.2405449948516889\n",
      "free_energy : -6.003215980454115\n",
      "\n",
      "4237+PR_1576,5877\n",
      "rxn_type : Molecular formation from one new bond A+B -> C\n",
      "bipartite : 1\n",
      "energy : -0.03848192508178272\n",
      "free_energy : -0.5313041630142834\n",
      "\n",
      "4237+PR_1578,5895\n",
      "rxn_type : Molecular formation from one new bond A+B -> C\n",
      "bipartite : 1\n",
      "energy : -0.22490726782973525\n",
      "free_energy : -5.609771845829528\n",
      "\n",
      "4237+PR_1580,5898\n",
      "rxn_type : Molecular formation from one new bond A+B -> C\n",
      "bipartite : 1\n",
      "energy : -0.036656087009760085\n",
      "free_energy : -0.5224502129713073\n",
      "\n",
      "4237+PR_1525,5944\n",
      "rxn_type : Molecular formation from one new bond A+B -> C\n",
      "bipartite : 1\n",
      "energy : -0.03330815005097065\n",
      "free_energy : -0.39213195758202346\n",
      "\n",
      "4237+PR_1540,5954\n",
      "rxn_type : Molecular formation from one new bond A+B -> C\n",
      "bipartite : 1\n",
      "energy : -0.02737974047499847\n",
      "free_energy : -0.19615146122669103\n",
      "\n",
      "4237+PR_1543,5962\n",
      "rxn_type : Molecular formation from one new bond A+B -> C\n",
      "bipartite : 1\n",
      "energy : -0.20771496272004697\n",
      "free_energy : -5.012132551499235\n",
      "\n",
      "4237+PR_1548,5965\n",
      "rxn_type : Molecular formation from one new bond A+B -> C\n",
      "bipartite : 1\n",
      "energy : -0.12381932533980944\n",
      "free_energy : -2.7503310981046525\n",
      "\n",
      "4237+PR_1547,5969\n",
      "rxn_type : Molecular formation from one new bond A+B -> C\n",
      "bipartite : 1\n",
      "energy : -0.10897795239975494\n",
      "free_energy : -2.3132813188785804\n",
      "\n",
      "4237+PR_1549,5971\n",
      "rxn_type : Molecular formation from one new bond A+B -> C\n",
      "bipartite : 1\n",
      "energy : -0.05023901043000478\n",
      "free_energy : -0.8239429837485659\n",
      "\n",
      "4237+PR_1551,5972\n",
      "rxn_type : Molecular formation from one new bond A+B -> C\n",
      "bipartite : 1\n",
      "energy : -0.02895354051997856\n",
      "free_energy : -0.24653840633982327\n",
      "\n",
      "4237+PR_1549,5975\n",
      "rxn_type : Molecular formation from one new bond A+B -> C\n",
      "bipartite : 1\n",
      "energy : -0.0366935800700503\n",
      "free_energy : -0.5478732516276068\n",
      "\n",
      "4237+PR_1550,5976\n",
      "rxn_type : Molecular formation from one new bond A+B -> C\n",
      "bipartite : 1\n",
      "energy : -0.04087366722001207\n",
      "free_energy : -0.5147837073600385\n",
      "\n",
      "4237+PR_1552,5982\n",
      "rxn_type : Molecular formation from one new bond A+B -> C\n",
      "bipartite : 1\n",
      "energy : 0.0183264051399874\n",
      "free_energy : 1.0234748726361431\n",
      "\n",
      "4237+PR_1557,6006\n",
      "rxn_type : Molecular formation from one new bond A+B -> C\n",
      "bipartite : 1\n",
      "energy : -0.09255706234011996\n",
      "free_energy : -1.9355803325015586\n",
      "\n",
      "4237+PR_1558,6007\n",
      "rxn_type : Molecular formation from one new bond A+B -> C\n",
      "bipartite : 1\n",
      "energy : -0.09922555745015416\n",
      "free_energy : -2.038581207882089\n",
      "\n",
      "4237+PR_1559,6009\n",
      "rxn_type : Molecular formation from one new bond A+B -> C\n",
      "bipartite : 1\n",
      "energy : -0.03966492362997087\n",
      "free_energy : -0.5548409377079224\n",
      "\n",
      "4237+PR_4156,8028\n",
      "rxn_type : Molecular formation from one new bond A+B -> C\n",
      "bipartite : 1\n",
      "energy : -0.17861404401969594\n",
      "free_energy : -4.222369756324042\n",
      "\n",
      "4237+PR_4158,8029\n",
      "rxn_type : Molecular formation from one new bond A+B -> C\n",
      "bipartite : 1\n",
      "energy : -0.09255437210003947\n",
      "free_energy : -1.9658038894122\n",
      "\n",
      "4237+PR_4159,8030\n",
      "rxn_type : Molecular formation from one new bond A+B -> C\n",
      "bipartite : 1\n",
      "energy : -0.04023635572980311\n",
      "free_energy : -0.5003905948397005\n",
      "\n",
      "4237+PR_4665,8053\n",
      "rxn_type : Molecular formation from one new bond A+B -> C\n",
      "bipartite : 1\n",
      "energy : -0.10974307450987908\n",
      "free_energy : -2.4061364970184513\n",
      "\n",
      "4237+PR_5080,8258\n",
      "rxn_type : Molecular formation from one new bond A+B -> C\n",
      "bipartite : 1\n",
      "energy : -0.14771757053887313\n",
      "free_energy : -3.5093349703456624\n",
      "\n",
      "4237+PR_5083,8259\n",
      "rxn_type : Molecular formation from one new bond A+B -> C\n",
      "bipartite : 1\n",
      "energy : -0.06300564919004614\n",
      "free_energy : -1.2369535419229578\n",
      "\n",
      "4237+PR_11918,12274\n",
      "rxn_type : Molecular formation from one new bond A+B -> C\n",
      "bipartite : 1\n",
      "energy : -0.17531824487574\n",
      "free_energy : -4.243378375947941\n",
      "\n",
      "4237+PR_11925,12279\n",
      "rxn_type : Molecular formation from one new bond A+B -> C\n",
      "bipartite : 1\n",
      "energy : -0.19327662492298714\n",
      "free_energy : -4.733205645174166\n",
      "\n",
      "4237+PR_11925,12280\n",
      "rxn_type : Molecular formation from one new bond A+B -> C\n",
      "bipartite : 1\n",
      "energy : -0.19586551265285834\n",
      "free_energy : -4.764657885392808\n",
      "\n",
      "4237+PR_11926,12281\n",
      "rxn_type : Molecular formation from one new bond A+B -> C\n",
      "bipartite : 1\n",
      "energy : -0.06755043652671588\n",
      "free_energy : -1.2817093599678628\n",
      "\n",
      "4237+PR_11926,12282\n",
      "rxn_type : Molecular formation from one new bond A+B -> C\n",
      "bipartite : 1\n",
      "energy : -0.06839118696686342\n",
      "free_energy : -1.3990099005259253\n",
      "\n",
      "4237+PR_11927,12283\n",
      "rxn_type : Molecular formation from one new bond A+B -> C\n",
      "bipartite : 1\n",
      "energy : 0.02154578009793795\n",
      "free_energy : 1.0773868026763012\n",
      "\n",
      "4237+PR_11927,12285\n",
      "rxn_type : Molecular formation from one new bond A+B -> C\n",
      "bipartite : 1\n",
      "energy : 0.027365104248190164\n",
      "free_energy : 1.333717457217972\n",
      "\n",
      "4237,4673+12330\n",
      "rxn_type : Coordination bond breaking AM -> A+M\n",
      "bipartite : 1\n",
      "energy : 0.16240683596015515\n",
      "free_energy : 4.026237357662467\n",
      "\n",
      "4237,4674+12329\n",
      "rxn_type : Coordination bond breaking AM -> A+M\n",
      "bipartite : 1\n",
      "energy : 0.17965307172016765\n",
      "free_energy : 4.466565487084154\n",
      "\n"
     ]
    }
   ],
   "source": [
    "for neighbor in list(RN.graph.neighbors(4237)):\n",
    "    print(neighbor)\n",
    "    for key in RN.graph.node[neighbor]:\n",
    "        print(key,\":\",RN.graph.node[neighbor][key])\n",
    "    print()"
   ]
  },
  {
   "cell_type": "code",
   "execution_count": 42,
   "metadata": {},
   "outputs": [
    {
     "data": {
      "application/vnd.jupyter.widget-view+json": {
       "model_id": "d66a7015e86447a8b0e93f9812bc73af",
       "version_major": 2,
       "version_minor": 0
      },
      "text/plain": [
       "Renderer(background='white', camera=OrthographicCamera(bottom=-7.3564274660399995, left=-7.3564274660399995, n…"
      ]
     },
     "metadata": {},
     "output_type": "display_data"
    },
    {
     "name": "stdout",
     "output_type": "stream",
     "text": [
      "0\n"
     ]
    },
    {
     "data": {
      "text/plain": [
       "-55166.30416582571"
      ]
     },
     "execution_count": 42,
     "metadata": {},
     "output_type": "execute_result"
    }
   ],
   "source": [
    "ind=4234\n",
    "view_old(RN.entries_list[ind].molecule,bonding_strategy=\"OpenBabelNN\")\n",
    "print(RN.entries_list[ind].charge)\n",
    "# print(RN.entries_list[ind].entry_id)\n",
    "RN.entries_list[ind].free_energy"
   ]
  },
  {
   "cell_type": "code",
   "execution_count": 66,
   "metadata": {},
   "outputs": [
    {
     "data": {
      "application/vnd.jupyter.widget-view+json": {
       "model_id": "fb47a9756be649e08dfe712a6f40e92e",
       "version_major": 2,
       "version_minor": 0
      },
      "text/plain": [
       "Renderer(background='white', camera=OrthographicCamera(bottom=-8.49467655864, left=-8.49467655864, near=-2000.…"
      ]
     },
     "metadata": {},
     "output_type": "display_data"
    },
    {
     "name": "stdout",
     "output_type": "stream",
     "text": [
      "0\n",
      "132481\n"
     ]
    },
    {
     "data": {
      "text/plain": [
       "-55166.34951605415"
      ]
     },
     "execution_count": 66,
     "metadata": {},
     "output_type": "execute_result"
    }
   ],
   "source": [
    "ind=4235\n",
    "view_old(RN.entries_list[ind].molecule,bonding_strategy=\"OpenBabelNN\")\n",
    "print(RN.entries_list[ind].charge)\n",
    "print(RN.entries_list[ind].entry_id) \n",
    "RN.entries_list[ind].free_energy"
   ]
  },
  {
   "cell_type": "code",
   "execution_count": 153,
   "metadata": {},
   "outputs": [
    {
     "data": {
      "application/vnd.jupyter.widget-view+json": {
       "model_id": "453d156b1e1d42908e0cb8199003a759",
       "version_major": 2,
       "version_minor": 0
      },
      "text/plain": [
       "Renderer(background='white', camera=OrthographicCamera(bottom=-7.065108276599999, left=-7.065108276599999, nea…"
      ]
     },
     "metadata": {},
     "output_type": "display_data"
    },
    {
     "data": {
      "text/plain": [
       "127947"
      ]
     },
     "execution_count": 153,
     "metadata": {},
     "output_type": "execute_result"
    }
   ],
   "source": [
    "view_old(RN.entries[\"C2 F6 Mg1 N1 O3 S2\"][15][0][0].molecule,bonding_strategy=\"OpenBabelNN\")\n",
    "RN.entries[\"C2 F6 Mg1 N1 O3 S2\"][15][0][0].entry_id"
   ]
  },
  {
   "cell_type": "code",
   "execution_count": 63,
   "metadata": {
    "scrolled": true
   },
   "outputs": [
    {
     "name": "stdout",
     "output_type": "stream",
     "text": [
      "4235,4237\n",
      "rxn_type : One electron oxidation\n",
      "bipartite : 1\n",
      "energy : 0.15188676324987682\n",
      "free_energy : 2.1649997522254125\n",
      "\n",
      "4235,891+1036\n",
      "rxn_type : Molecular decomposition breaking one bond A -> B+C\n",
      "bipartite : 1\n",
      "energy : 0.7318381054067231\n",
      "free_energy : 19.174675159258186\n",
      "\n",
      "4235,890+1037\n",
      "rxn_type : Molecular decomposition breaking one bond A -> B+C\n",
      "bipartite : 1\n",
      "energy : 0.14896775223087388\n",
      "free_energy : 3.4196352471917635\n",
      "\n",
      "4235,888+1051\n",
      "rxn_type : Molecular decomposition breaking one bond A -> B+C\n",
      "bipartite : 1\n",
      "energy : 0.11905459124886875\n",
      "free_energy : 2.5223321792364004\n",
      "\n",
      "4235,887+1058\n",
      "rxn_type : Molecular decomposition breaking one bond A -> B+C\n",
      "bipartite : 1\n",
      "energy : 0.46527910363988667\n",
      "free_energy : 11.951146847073687\n",
      "\n",
      "4235,4207+12771\n",
      "rxn_type : Molecular decomposition breaking one bond A -> B+C\n",
      "bipartite : 1\n",
      "energy : 0.6418273071299154\n",
      "free_energy : 16.908578652095457\n",
      "\n",
      "4235,4211+12770\n",
      "rxn_type : Molecular decomposition breaking one bond A -> B+C\n",
      "bipartite : 1\n",
      "energy : 0.27210850883989224\n",
      "free_energy : 6.929947678203462\n",
      "\n",
      "4235,4214+12769\n",
      "rxn_type : Molecular decomposition breaking one bond A -> B+C\n",
      "bipartite : 1\n",
      "energy : 0.17489048510992689\n",
      "free_energy : 4.306510722140956\n",
      "\n",
      "4235,4219+12768\n",
      "rxn_type : Molecular decomposition breaking one bond A -> B+C\n",
      "bipartite : 1\n",
      "energy : 0.4950653504199636\n",
      "free_energy : 12.908470604561444\n",
      "\n",
      "4235,3810+12290\n",
      "rxn_type : Molecular decomposition breaking one bond A -> B+C\n",
      "bipartite : 1\n",
      "energy : 1.596946218819994\n",
      "free_energy : 42.89508023203962\n",
      "\n",
      "4235,3811+12289\n",
      "rxn_type : Molecular decomposition breaking one bond A -> B+C\n",
      "bipartite : 1\n",
      "energy : 0.6673910039698967\n",
      "free_energy : 17.71006498576753\n",
      "\n",
      "4235,3817+12288\n",
      "rxn_type : Molecular decomposition breaking one bond A -> B+C\n",
      "bipartite : 1\n",
      "energy : 0.11630938555003922\n",
      "free_energy : 2.757973089326697\n",
      "\n",
      "4235,3821+12287\n",
      "rxn_type : Molecular decomposition breaking one bond A -> B+C\n",
      "bipartite : 1\n",
      "energy : 0.1093096225199588\n",
      "free_energy : 2.5380478649021825\n",
      "\n",
      "4235,3823+12286\n",
      "rxn_type : Molecular decomposition breaking one bond A -> B+C\n",
      "bipartite : 1\n",
      "energy : 0.5208514688099513\n",
      "free_energy : 13.730774553638184\n",
      "\n",
      "4235,4672+12330\n",
      "rxn_type : Coordination bond breaking AM -> A+M\n",
      "bipartite : 1\n",
      "energy : 0.3333765266299906\n",
      "free_energy : 8.6905873217911\n",
      "\n",
      "4235,4673+12329\n",
      "rxn_type : Coordination bond breaking AM -> A+M\n",
      "bipartite : 1\n",
      "energy : 0.07208146041011787\n",
      "free_energy : 1.600308138265973\n",
      "\n",
      "4235,4674+12328\n",
      "rxn_type : Coordination bond breaking AM -> A+M\n",
      "bipartite : 1\n",
      "energy : 0.1640193448699847\n",
      "free_energy : 4.0730998502112925\n",
      "\n"
     ]
    }
   ],
   "source": [
    "for neighbor in list(RN.graph.neighbors(4235)):\n",
    "    print(neighbor)\n",
    "    for key in RN.graph.node[neighbor]:\n",
    "        print(key,\":\",RN.graph.node[neighbor][key])\n",
    "    print()"
   ]
  },
  {
   "cell_type": "code",
   "execution_count": null,
   "metadata": {},
   "outputs": [],
   "source": []
  },
  {
   "cell_type": "code",
   "execution_count": 108,
   "metadata": {},
   "outputs": [
    {
     "data": {
      "application/vnd.jupyter.widget-view+json": {
       "model_id": "da1cd624c1a94043b57f0f3e1c9aaf49",
       "version_major": 2,
       "version_minor": 0
      },
      "text/plain": [
       "Renderer(background='white', camera=OrthographicCamera(bottom=-8.276198036159998, left=-8.276198036159998, nea…"
      ]
     },
     "metadata": {},
     "output_type": "display_data"
    },
    {
     "name": "stdout",
     "output_type": "stream",
     "text": [
      "1\n",
      "C2 F6 Mg1 N1 O3 S2\n",
      "133982\n"
     ]
    },
    {
     "data": {
      "text/plain": [
       "-53115.05610792261"
      ]
     },
     "execution_count": 108,
     "metadata": {},
     "output_type": "execute_result"
    }
   ],
   "source": [
    "ind=4215\n",
    "view_old(RN.entries_list[ind].molecule,bonding_strategy=\"OpenBabelNN\")\n",
    "print(RN.entries_list[ind].charge)\n",
    "print(RN.entries_list[ind].formula)\n",
    "print(RN.entries_list[ind].entry_id)\n",
    "RN.entries_list[ind].free_energy"
   ]
  },
  {
   "cell_type": "code",
   "execution_count": 29,
   "metadata": {},
   "outputs": [
    {
     "data": {
      "application/vnd.jupyter.widget-view+json": {
       "model_id": "ed26df71b63b41099141a34313c8d6f4",
       "version_major": 2,
       "version_minor": 0
      },
      "text/plain": [
       "Renderer(background='white', camera=OrthographicCamera(bottom=-11.17429573848, left=-11.17429573848, near=-200…"
      ]
     },
     "metadata": {},
     "output_type": "display_data"
    },
    {
     "name": "stdout",
     "output_type": "stream",
     "text": [
      "1\n"
     ]
    },
    {
     "data": {
      "text/plain": [
       "-61487.16226877529"
      ]
     },
     "execution_count": 29,
     "metadata": {},
     "output_type": "execute_result"
    }
   ],
   "source": [
    "ind=12281\n",
    "view_old(RN.entries_list[ind].molecule,bonding_strategy=\"OpenBabelNN\")\n",
    "print(RN.entries_list[ind].charge)\n",
    "# print(RN.entries_list[ind].entry_id)\n",
    "RN.entries_list[ind].free_energy"
   ]
  },
  {
   "cell_type": "code",
   "execution_count": 146,
   "metadata": {},
   "outputs": [
    {
     "data": {
      "application/vnd.jupyter.widget-view+json": {
       "model_id": "bf4e546e740e4478a9071f7a42385183",
       "version_major": 2,
       "version_minor": 0
      },
      "text/plain": [
       "Renderer(background='white', camera=OrthographicCamera(bottom=-11.38181331348, left=-11.38181331348, near=-200…"
      ]
     },
     "metadata": {},
     "output_type": "display_data"
    },
    {
     "name": "stdout",
     "output_type": "stream",
     "text": [
      "1\n",
      "C6 F6 H8 Mg1 N1 O5 S2\n"
     ]
    },
    {
     "data": {
      "text/plain": [
       "-61487.27956931585"
      ]
     },
     "execution_count": 146,
     "metadata": {},
     "output_type": "execute_result"
    }
   ],
   "source": [
    "ind=12282\n",
    "view_old(RN.entries_list[ind].molecule,bonding_strategy=\"OpenBabelNN\")\n",
    "print(RN.entries_list[ind].charge)\n",
    "print(RN.entries_list[ind].formula)\n",
    "RN.entries_list[ind].free_energy"
   ]
  },
  {
   "cell_type": "code",
   "execution_count": 156,
   "metadata": {},
   "outputs": [
    {
     "data": {
      "application/vnd.jupyter.widget-view+json": {
       "model_id": "c50dd11744ca4be1be82f46a0bce948a",
       "version_major": 2,
       "version_minor": 0
      },
      "text/plain": [
       "Renderer(background='white', camera=OrthographicCamera(bottom=-5.6305932726, left=-5.6305932726, near=-2000.0,…"
      ]
     },
     "metadata": {},
     "output_type": "display_data"
    },
    {
     "name": "stdout",
     "output_type": "stream",
     "text": [
      "1064\n",
      "125337\n",
      "-45979.67878623332\n"
     ]
    }
   ],
   "source": [
    "entry = RN.entries[\"C1 F3 Mg1 N1 O4 S2\"][13][0][0]\n",
    "view_old(entry.molecule,bonding_strategy=\"OpenBabelNN\")\n",
    "print(entry.parameters[\"ind\"])\n",
    "print(entry.entry_id)\n",
    "print(entry.free_energy)"
   ]
  },
  {
   "cell_type": "code",
   "execution_count": 158,
   "metadata": {
    "scrolled": true
   },
   "outputs": [
    {
     "data": {
      "application/vnd.jupyter.widget-view+json": {
       "model_id": "3e1086ff3c374b978ee6b70096c581fa",
       "version_major": 2,
       "version_minor": 0
      },
      "text/plain": [
       "Renderer(background='white', camera=OrthographicCamera(bottom=-8.49467655864, left=-8.49467655864, near=-2000.…"
      ]
     },
     "metadata": {},
     "output_type": "display_data"
    },
    {
     "name": "stdout",
     "output_type": "stream",
     "text": [
      "4235\n",
      "132481\n",
      "-55166.34951605415\n"
     ]
    }
   ],
   "source": [
    "entry = RN.entries[\"C2 F6 Mg1 N1 O4 S2\"][16][0][1]\n",
    "view_old(entry.molecule,bonding_strategy=\"OpenBabelNN\")\n",
    "print(entry.parameters[\"ind\"])\n",
    "print(entry.entry_id)\n",
    "print(entry.free_energy)"
   ]
  },
  {
   "cell_type": "code",
   "execution_count": 129,
   "metadata": {},
   "outputs": [
    {
     "data": {
      "text/plain": [
       "dict_keys([2])"
      ]
     },
     "execution_count": 129,
     "metadata": {},
     "output_type": "execute_result"
    }
   ],
   "source": [
    "RN.entries[\"C5 F3 H8 Mg1 N1 O5 S2\"][26].keys()"
   ]
  },
  {
   "cell_type": "code",
   "execution_count": 104,
   "metadata": {},
   "outputs": [
    {
     "data": {
      "application/vnd.jupyter.widget-view+json": {
       "model_id": "b42d84d42f8d47a4a0a997509ff86efb",
       "version_major": 2,
       "version_minor": 0
      },
      "text/plain": [
       "Renderer(background='white', camera=OrthographicCamera(bottom=-12.952328526479999, left=-12.952328526479999, n…"
      ]
     },
     "metadata": {},
     "output_type": "display_data"
    },
    {
     "name": "stdout",
     "output_type": "stream",
     "text": [
      "2\n"
     ]
    },
    {
     "data": {
      "text/plain": [
       "-50244.11734823951"
      ]
     },
     "execution_count": 104,
     "metadata": {},
     "output_type": "execute_result"
    }
   ],
   "source": [
    "ind=12245\n",
    "view_old(RN.entries_list[ind].molecule,bonding_strategy=\"OpenBabelNN\")\n",
    "print(RN.entries_list[ind].charge)\n",
    "RN.entries_list[ind].free_energy"
   ]
  },
  {
   "cell_type": "code",
   "execution_count": 36,
   "metadata": {},
   "outputs": [
    {
     "data": {
      "application/vnd.jupyter.widget-view+json": {
       "model_id": "3b0c1bad9cef4d30adcdd9aab56879e7",
       "version_major": 2,
       "version_minor": 0
      },
      "text/plain": [
       "Renderer(background='white', camera=OrthographicCamera(bottom=-10.99287377868, left=-10.99287377868, near=-200…"
      ]
     },
     "metadata": {},
     "output_type": "display_data"
    },
    {
     "name": "stdout",
     "output_type": "stream",
     "text": [
      "0\n"
     ]
    },
    {
     "data": {
      "text/plain": [
       "-61490.39580388127"
      ]
     },
     "execution_count": 36,
     "metadata": {},
     "output_type": "execute_result"
    }
   ],
   "source": [
    "ind=12280\n",
    "view_old(RN.entries_list[ind].molecule,bonding_strategy=\"OpenBabelNN\")\n",
    "print(RN.entries_list[ind].charge)\n",
    "RN.entries_list[ind].free_energy"
   ]
  },
  {
   "cell_type": "code",
   "execution_count": 37,
   "metadata": {
    "scrolled": true
   },
   "outputs": [
    {
     "name": "stdout",
     "output_type": "stream",
     "text": [
      "12280,12281\n",
      "rxn_type : One electron oxidation\n",
      "bipartite : 1\n",
      "energy : 0.11831367307013352\n",
      "free_energy : 1.233535105980991\n",
      "\n",
      "12280,12275\n",
      "rxn_type : Intramolecular single bond breakage\n",
      "bipartite : 1\n",
      "energy : 0.011568197900032828\n",
      "free_energy : -0.06380431093566585\n",
      "\n",
      "12280,887+12253\n",
      "rxn_type : Molecular decomposition breaking one bond A -> B+C\n",
      "bipartite : 1\n",
      "energy : 0.422395002470239\n",
      "free_energy : 10.749647662894859\n",
      "\n",
      "12280,4228+11927\n",
      "rxn_type : Molecular decomposition breaking one bond A -> B+C\n",
      "bipartite : 1\n",
      "energy : 0.200100992732132\n",
      "free_energy : 4.734157420585689\n",
      "\n",
      "12280,4234+11926\n",
      "rxn_type : Molecular decomposition breaking one bond A -> B+C\n",
      "bipartite : 1\n",
      "energy : 0.035196746316614735\n",
      "free_energy : 0.39559494215791347\n",
      "\n",
      "12280,4237+11925\n",
      "rxn_type : Molecular decomposition breaking one bond A -> B+C\n",
      "bipartite : 1\n",
      "energy : 0.19586551265274466\n",
      "free_energy : 4.76465788538917\n",
      "\n",
      "12280,4243+11924\n",
      "rxn_type : Molecular decomposition breaking one bond A -> B+C\n",
      "bipartite : 1\n",
      "energy : 0.595257540825969\n",
      "free_energy : 15.436583304035594\n",
      "\n"
     ]
    }
   ],
   "source": [
    "for neighbor in list(RN.graph.neighbors(12280)):\n",
    "    print(neighbor)\n",
    "    for key in RN.graph.node[neighbor]:\n",
    "        print(key,\":\",RN.graph.node[neighbor][key])\n",
    "    print()"
   ]
  },
  {
   "cell_type": "code",
   "execution_count": 38,
   "metadata": {},
   "outputs": [
    {
     "data": {
      "application/vnd.jupyter.widget-view+json": {
       "model_id": "9ec2d3bace7a4f2987728d25495149c8",
       "version_major": 2,
       "version_minor": 0
      },
      "text/plain": [
       "Renderer(background='white', camera=OrthographicCamera(bottom=-10.8507051282, left=-10.8507051282, near=-2000.…"
      ]
     },
     "metadata": {},
     "output_type": "display_data"
    },
    {
     "name": "stdout",
     "output_type": "stream",
     "text": [
      "0\n"
     ]
    },
    {
     "data": {
      "text/plain": [
       "-61490.459608192206"
      ]
     },
     "execution_count": 38,
     "metadata": {},
     "output_type": "execute_result"
    }
   ],
   "source": [
    "ind=12275\n",
    "view_old(RN.entries_list[ind].molecule,bonding_strategy=\"OpenBabelNN\")\n",
    "print(RN.entries_list[ind].charge)\n",
    "RN.entries_list[ind].free_energy"
   ]
  },
  {
   "cell_type": "code",
   "execution_count": 39,
   "metadata": {},
   "outputs": [
    {
     "name": "stdout",
     "output_type": "stream",
     "text": [
      "12279,12281\n",
      "rxn_type : One electron oxidation\n",
      "bipartite : 1\n",
      "energy : 0.11572478534026232\n",
      "free_energy : 1.2020828657623497\n",
      "\n",
      "12279,12275\n",
      "rxn_type : Intramolecular single bond breakage\n",
      "bipartite : 1\n",
      "energy : 0.008979310170161625\n",
      "free_energy : -0.09525655115430709\n",
      "\n",
      "12279,887+12253\n",
      "rxn_type : Molecular decomposition breaking one bond A -> B+C\n",
      "bipartite : 1\n",
      "energy : 0.4198061147403678\n",
      "free_energy : 10.718195422676217\n",
      "\n",
      "12279,4228+11927\n",
      "rxn_type : Molecular decomposition breaking one bond A -> B+C\n",
      "bipartite : 1\n",
      "energy : 0.1975121050022608\n",
      "free_energy : 4.702705180367047\n",
      "\n",
      "12279,4234+11926\n",
      "rxn_type : Molecular decomposition breaking one bond A -> B+C\n",
      "bipartite : 1\n",
      "energy : 0.03260785858674353\n",
      "free_energy : 0.36414270193927223\n",
      "\n",
      "12279,4237+11925\n",
      "rxn_type : Molecular decomposition breaking one bond A -> B+C\n",
      "bipartite : 1\n",
      "energy : 0.19327662492287345\n",
      "free_energy : 4.733205645170528\n",
      "\n",
      "12279,4243+11924\n",
      "rxn_type : Molecular decomposition breaking one bond A -> B+C\n",
      "bipartite : 1\n",
      "energy : 0.5926686530960978\n",
      "free_energy : 15.405131063816953\n",
      "\n"
     ]
    }
   ],
   "source": [
    "for neighbor in list(RN.graph.neighbors(12279)):\n",
    "    print(neighbor)\n",
    "    for key in RN.graph.node[neighbor]:\n",
    "        print(key,\":\",RN.graph.node[neighbor][key])\n",
    "    print()"
   ]
  },
  {
   "cell_type": "code",
   "execution_count": null,
   "metadata": {},
   "outputs": [],
   "source": []
  },
  {
   "cell_type": "code",
   "execution_count": null,
   "metadata": {},
   "outputs": [],
   "source": []
  },
  {
   "cell_type": "code",
   "execution_count": 23,
   "metadata": {
    "scrolled": true
   },
   "outputs": [
    {
     "name": "stdout",
     "output_type": "stream",
     "text": [
      "16.863228423659166 eV delta G\n",
      "17.431831598816576 eV delta E\n",
      "C2 F6 Mg1 N1 O3 S2 , -1\n",
      "O1 , 1\n",
      "\n",
      "6.8845974497671705 eV delta G\n",
      "7.371269188215421 eV delta E\n",
      "C2 F6 Mg1 N1 O3 S2 , 0\n",
      "O1 , 0\n",
      "\n",
      "4.261160493704665 eV delta G\n",
      "4.725831629470079 eV delta E\n",
      "C2 F6 Mg1 N1 O3 S2 , 1\n",
      "O1 , -1\n",
      "\n",
      "12.863120376125153 eV delta G\n",
      "13.43823475761896 eV delta E\n",
      "C2 F6 Mg1 N1 O3 S2 , 2\n",
      "O1 , -2\n",
      "\n",
      "19.129324930821895 eV delta G\n",
      "19.88115053493812 eV delta E\n",
      "C1 F3 , 2\n",
      "C1 F3 Mg1 N1 O4 S2 , -2\n",
      "\n",
      "3.3742850187554723 eV delta G\n",
      "4.0204380352323446 eV delta E\n",
      "C1 F3 , 1\n",
      "C1 F3 Mg1 N1 O4 S2 , -1\n",
      "\n",
      "-0.1190885817995877 eV delta G\n",
      "0.5449738947088137 eV delta E\n",
      "C1 F3 , 0\n",
      "C1 F3 Mg1 N1 O4 S2 , 0\n",
      "\n",
      "2.476981950800109 eV delta G\n",
      "3.20645934561822 eV delta E\n",
      "C1 F3 , -1\n",
      "C1 F3 Mg1 N1 O4 S2 , 1\n",
      "\n",
      "11.905796618637396 eV delta G\n",
      "12.627709579850041 eV delta E\n",
      "C1 F3 , -2\n",
      "C1 F3 Mg1 N1 O4 S2 , 2\n",
      "\n",
      "42.84973000360333 eV delta G\n",
      "43.42194480119087 eV delta E\n",
      "C2 F5 Mg1 N1 O4 S2 , -2\n",
      "F1 , 2\n",
      "\n",
      "17.66471475733124 eV delta G\n",
      "18.127455323371073 eV delta E\n",
      "C2 F5 Mg1 N1 O4 S2 , -1\n",
      "F1 , 1\n",
      "\n",
      "2.7126228608904057 eV delta G\n",
      "3.1317584827171476 eV delta E\n",
      "C2 F5 Mg1 N1 O4 S2 , 0\n",
      "F1 , 0\n",
      "\n",
      "2.4926976364658913 eV delta G\n",
      "2.9412852009980472 eV delta E\n",
      "C2 F5 Mg1 N1 O4 S2 , 1\n",
      "F1 , -1\n",
      "\n",
      "13.685424325201893 eV delta G\n",
      "14.139910881715085 eV delta E\n",
      "C2 F5 Mg1 N1 O4 S2 , 2\n",
      "F1 , -2\n",
      "\n"
     ]
    }
   ],
   "source": [
    "for neighbor in list(RN.graph.neighbors(781)):\n",
    "    if RN.graph.node[neighbor][\"rxn_type\"] == \"Molecular decomposition breaking one bond A -> B+C\":\n",
    "        frag1_id = int(neighbor.split(\",\")[1].split(\"+\")[0])\n",
    "        frag2_id = int(neighbor.split(\",\")[1].split(\"+\")[1])\n",
    "        frag1 = RN.entries_list[frag1_id]\n",
    "        frag2 = RN.entries_list[frag2_id]\n",
    "        #print(neighbor)\n",
    "        print(RN.graph.node[neighbor][\"free_energy\"],\"eV delta G\")\n",
    "        print(RN.graph.node[neighbor][\"energy\"]*27.21139,\"eV delta E\")\n",
    "        print(frag1.formula,\",\",frag1.charge)\n",
    "        print(frag2.formula,\",\",frag2.charge)\n",
    "        print()"
   ]
  },
  {
   "cell_type": "code",
   "execution_count": null,
   "metadata": {},
   "outputs": [],
   "source": []
  },
  {
   "cell_type": "code",
   "execution_count": null,
   "metadata": {},
   "outputs": [],
   "source": []
  },
  {
   "cell_type": "code",
   "execution_count": null,
   "metadata": {},
   "outputs": [],
   "source": []
  },
  {
   "cell_type": "code",
   "execution_count": 22,
   "metadata": {},
   "outputs": [
    {
     "name": "stdout",
     "output_type": "stream",
     "text": [
      "39.653874015079055 eV delta G\n",
      "40.24225833154436 eV delta E\n",
      "C2 F6 Mg1 N1 O3 S2 , -1\n",
      "O1 , 2\n",
      "\n",
      "15.337556567101274 eV delta G\n",
      "15.84400944685423 eV delta E\n",
      "C2 F6 Mg1 N1 O3 S2 , 0\n",
      "O1 , 1\n",
      "\n",
      "6.721877282674541 eV delta G\n",
      "7.206329559743423 eV delta E\n",
      "C2 F6 Mg1 N1 O3 S2 , 1\n",
      "O1 , 0\n",
      "\n",
      "8.877280117034388 eV delta G\n",
      "9.472175639833312 eV delta E\n",
      "C2 F6 Mg1 N1 O3 S2 , 2\n",
      "O1 , -1\n",
      "\n",
      "16.626399158965796 eV delta G\n",
      "17.36564171545293 eV delta E\n",
      "C1 F3 , 2\n",
      "C1 F3 Mg1 N1 O4 S2 , -1\n",
      "\n",
      "2.1274790009338176 eV delta G\n",
      "2.7387854939241607 eV delta E\n",
      "C1 F3 , 1\n",
      "C1 F3 Mg1 N1 O4 S2 , 0\n",
      "\n",
      "2.309045230074844 eV delta G\n",
      "2.9832036496150143 eV delta E\n",
      "C1 F3 , 0\n",
      "C1 F3 Mg1 N1 O4 S2 , 1\n",
      "\n",
      "6.279588498407975 eV delta G\n",
      "7.022496535539472 eV delta E\n",
      "C1 F3 , -1\n",
      "C1 F3 Mg1 N1 O4 S2 , 2\n",
      "\n",
      "40.113316632305214 eV delta G\n",
      "40.59583833964335 eV delta E\n",
      "C2 F5 Mg1 N1 O4 S2 , -1\n",
      "F1 , 2\n",
      "\n",
      "16.228120385792863 eV delta G\n",
      "16.667037148922894 eV delta E\n",
      "C2 F5 Mg1 N1 O4 S2 , 0\n",
      "F1 , 1\n",
      "\n",
      "4.846491238567978 eV delta G\n",
      "5.3148599444106495 eV delta E\n",
      "C2 F5 Mg1 N1 O4 S2 , 1\n",
      "F1 , 0\n",
      "\n",
      "5.865611892033485 eV delta G\n",
      "6.3398795898504305 eV delta E\n",
      "C2 F5 Mg1 N1 O4 S2 , 2\n",
      "F1 , -1\n",
      "\n"
     ]
    }
   ],
   "source": [
    "for neighbor in list(RN.graph.neighbors(782)):\n",
    "    if RN.graph.node[neighbor][\"rxn_type\"] == \"Molecular decomposition breaking one bond A -> B+C\":\n",
    "        frag1_id = int(neighbor.split(\",\")[1].split(\"+\")[0])\n",
    "        frag2_id = int(neighbor.split(\",\")[1].split(\"+\")[1])\n",
    "        frag1 = RN.entries_list[frag1_id]\n",
    "        frag2 = RN.entries_list[frag2_id]\n",
    "        #print(neighbor)\n",
    "        print(RN.graph.node[neighbor][\"free_energy\"],\"eV delta G\")\n",
    "        print(RN.graph.node[neighbor][\"energy\"]*27.21139,\"eV delta E\")\n",
    "        print(frag1.formula,\",\",frag1.charge)\n",
    "        print(frag2.formula,\",\",frag2.charge)\n",
    "        print()"
   ]
  },
  {
   "cell_type": "code",
   "execution_count": null,
   "metadata": {},
   "outputs": [],
   "source": []
  },
  {
   "cell_type": "code",
   "execution_count": null,
   "metadata": {},
   "outputs": [],
   "source": []
  },
  {
   "cell_type": "code",
   "execution_count": null,
   "metadata": {},
   "outputs": [],
   "source": []
  },
  {
   "cell_type": "code",
   "execution_count": null,
   "metadata": {},
   "outputs": [],
   "source": []
  },
  {
   "cell_type": "code",
   "execution_count": null,
   "metadata": {},
   "outputs": [],
   "source": []
  },
  {
   "cell_type": "code",
   "execution_count": null,
   "metadata": {},
   "outputs": [],
   "source": []
  },
  {
   "cell_type": "code",
   "execution_count": null,
   "metadata": {},
   "outputs": [],
   "source": []
  },
  {
   "cell_type": "code",
   "execution_count": null,
   "metadata": {},
   "outputs": [],
   "source": []
  },
  {
   "cell_type": "code",
   "execution_count": null,
   "metadata": {},
   "outputs": [],
   "source": []
  },
  {
   "cell_type": "code",
   "execution_count": null,
   "metadata": {
    "scrolled": false
   },
   "outputs": [],
   "source": []
  },
  {
   "cell_type": "code",
   "execution_count": null,
   "metadata": {},
   "outputs": [],
   "source": []
  },
  {
   "cell_type": "code",
   "execution_count": null,
   "metadata": {},
   "outputs": [],
   "source": []
  },
  {
   "cell_type": "code",
   "execution_count": null,
   "metadata": {},
   "outputs": [],
   "source": []
  },
  {
   "cell_type": "code",
   "execution_count": null,
   "metadata": {},
   "outputs": [],
   "source": []
  },
  {
   "cell_type": "code",
   "execution_count": null,
   "metadata": {},
   "outputs": [],
   "source": []
  },
  {
   "cell_type": "code",
   "execution_count": null,
   "metadata": {},
   "outputs": [],
   "source": []
  },
  {
   "cell_type": "code",
   "execution_count": null,
   "metadata": {},
   "outputs": [],
   "source": []
  },
  {
   "cell_type": "code",
   "execution_count": null,
   "metadata": {},
   "outputs": [],
   "source": []
  },
  {
   "cell_type": "code",
   "execution_count": null,
   "metadata": {},
   "outputs": [],
   "source": []
  },
  {
   "cell_type": "code",
   "execution_count": null,
   "metadata": {},
   "outputs": [],
   "source": []
  },
  {
   "cell_type": "code",
   "execution_count": null,
   "metadata": {
    "scrolled": true
   },
   "outputs": [],
   "source": []
  },
  {
   "cell_type": "code",
   "execution_count": null,
   "metadata": {},
   "outputs": [],
   "source": []
  },
  {
   "cell_type": "code",
   "execution_count": null,
   "metadata": {},
   "outputs": [],
   "source": []
  },
  {
   "cell_type": "code",
   "execution_count": null,
   "metadata": {},
   "outputs": [],
   "source": []
  },
  {
   "cell_type": "code",
   "execution_count": null,
   "metadata": {
    "scrolled": false
   },
   "outputs": [],
   "source": []
  },
  {
   "cell_type": "code",
   "execution_count": null,
   "metadata": {},
   "outputs": [],
   "source": []
  },
  {
   "cell_type": "code",
   "execution_count": null,
   "metadata": {},
   "outputs": [],
   "source": []
  },
  {
   "cell_type": "code",
   "execution_count": null,
   "metadata": {},
   "outputs": [],
   "source": []
  },
  {
   "cell_type": "code",
   "execution_count": null,
   "metadata": {},
   "outputs": [],
   "source": []
  },
  {
   "cell_type": "code",
   "execution_count": null,
   "metadata": {},
   "outputs": [],
   "source": []
  },
  {
   "cell_type": "code",
   "execution_count": null,
   "metadata": {},
   "outputs": [],
   "source": []
  },
  {
   "cell_type": "code",
   "execution_count": null,
   "metadata": {},
   "outputs": [],
   "source": []
  },
  {
   "cell_type": "code",
   "execution_count": null,
   "metadata": {},
   "outputs": [],
   "source": []
  },
  {
   "cell_type": "code",
   "execution_count": null,
   "metadata": {
    "scrolled": false
   },
   "outputs": [],
   "source": []
  },
  {
   "cell_type": "code",
   "execution_count": null,
   "metadata": {},
   "outputs": [],
   "source": []
  },
  {
   "cell_type": "code",
   "execution_count": null,
   "metadata": {},
   "outputs": [],
   "source": []
  },
  {
   "cell_type": "code",
   "execution_count": null,
   "metadata": {},
   "outputs": [],
   "source": []
  },
  {
   "cell_type": "code",
   "execution_count": null,
   "metadata": {},
   "outputs": [],
   "source": []
  },
  {
   "cell_type": "code",
   "execution_count": null,
   "metadata": {},
   "outputs": [],
   "source": []
  },
  {
   "cell_type": "code",
   "execution_count": null,
   "metadata": {
    "scrolled": true
   },
   "outputs": [],
   "source": []
  },
  {
   "cell_type": "code",
   "execution_count": null,
   "metadata": {},
   "outputs": [],
   "source": []
  },
  {
   "cell_type": "code",
   "execution_count": null,
   "metadata": {},
   "outputs": [],
   "source": []
  },
  {
   "cell_type": "code",
   "execution_count": null,
   "metadata": {},
   "outputs": [],
   "source": []
  },
  {
   "cell_type": "code",
   "execution_count": null,
   "metadata": {},
   "outputs": [],
   "source": []
  },
  {
   "cell_type": "code",
   "execution_count": null,
   "metadata": {},
   "outputs": [],
   "source": []
  },
  {
   "cell_type": "code",
   "execution_count": null,
   "metadata": {},
   "outputs": [],
   "source": []
  }
 ],
 "metadata": {
  "kernelspec": {
   "display_name": "Python 3",
   "language": "python",
   "name": "python3"
  },
  "language_info": {
   "codemirror_mode": {
    "name": "ipython",
    "version": 3
   },
   "file_extension": ".py",
   "mimetype": "text/x-python",
   "name": "python",
   "nbconvert_exporter": "python",
   "pygments_lexer": "ipython3",
   "version": "3.7.3"
  }
 },
 "nbformat": 4,
 "nbformat_minor": 2
}
